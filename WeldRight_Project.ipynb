{
  "cells": [
    {
      "cell_type": "markdown",
      "metadata": {
        "id": "view-in-github",
        "colab_type": "text"
      },
      "source": [
        "<a href=\"https://colab.research.google.com/github/Pawan12345kr/WeldRight_Project-IITB/blob/main/WeldRight_Project.ipynb\" target=\"_parent\"><img src=\"https://colab.research.google.com/assets/colab-badge.svg\" alt=\"Open In Colab\"/></a>"
      ]
    },
    {
      "cell_type": "markdown",
      "metadata": {
        "id": "xMhu2WwFd4mm"
      },
      "source": [
        "#WeldRight Round-2\n",
        "Team id: **HA-226439**\n",
        "\n",
        "Team Members -\n",
        "1.   **Shreyas Kumar Tah**\n",
        "2.  **Pawan Kumar**\n",
        "\n",
        "Link for Documentation [Click Here](https://docs.google.com/document/d/1m3vKp1ZHe_2UF7VQ8D0evyv98GByNMen4EXuFWajSsU/edit?usp=sharing)\n",
        "\n"
      ]
    },
    {
      "cell_type": "code",
      "execution_count": null,
      "metadata": {
        "id": "qi_ZbH3hyvfi"
      },
      "outputs": [],
      "source": [
        "#Mathematical Libraries\n",
        "import pandas as pd\n",
        "import numpy as np\n",
        "\n",
        "#Visulization Tools\n",
        "import matplotlib.pyplot as plt\n",
        "import seaborn as sns\n",
        "\n",
        "#Model Training\n",
        "from sklearn.model_selection import train_test_split\n",
        "from sklearn.ensemble import RandomForestClassifier\n",
        "import xgboost as xgb\n",
        "from sklearn.model_selection import GridSearchCV\n",
        "from imblearn.over_sampling import SMOTE\n",
        "\n",
        "#Model Performance\n",
        "from sklearn.metrics import accuracy_score, confusion_matrix, classification_report\n",
        "from sklearn.metrics import mean_absolute_percentage_error\n",
        "from sklearn.metrics import f1_score\n"
      ]
    },
    {
      "cell_type": "markdown",
      "metadata": {
        "id": "d1AQmHFjijYC"
      },
      "source": [
        "## **LOADING DATA**"
      ]
    },
    {
      "cell_type": "code",
      "execution_count": null,
      "metadata": {
        "colab": {
          "base_uri": "https://localhost:8080/"
        },
        "id": "u5VvKWxFdD3B",
        "outputId": "cf86ae8a-d073-44b2-9552-eb191bdbe258"
      },
      "outputs": [
        {
          "name": "stdout",
          "output_type": "stream",
          "text": [
            "--2022-12-12 10:13:16--  https://github.com/skt-shreyas/WeldRight/blob/main/WeldRight_Dataset_csv.zip?raw=true\n",
            "Resolving github.com (github.com)... 20.205.243.166\n",
            "Connecting to github.com (github.com)|20.205.243.166|:443... connected.\n",
            "HTTP request sent, awaiting response... 302 Found\n",
            "Location: https://github.com/skt-shreyas/WeldRight/raw/main/WeldRight_Dataset_csv.zip [following]\n",
            "--2022-12-12 10:13:16--  https://github.com/skt-shreyas/WeldRight/raw/main/WeldRight_Dataset_csv.zip\n",
            "Reusing existing connection to github.com:443.\n",
            "HTTP request sent, awaiting response... 302 Found\n",
            "Location: https://raw.githubusercontent.com/skt-shreyas/WeldRight/main/WeldRight_Dataset_csv.zip [following]\n",
            "--2022-12-12 10:13:17--  https://raw.githubusercontent.com/skt-shreyas/WeldRight/main/WeldRight_Dataset_csv.zip\n",
            "Resolving raw.githubusercontent.com (raw.githubusercontent.com)... 185.199.108.133, 185.199.109.133, 185.199.110.133, ...\n",
            "Connecting to raw.githubusercontent.com (raw.githubusercontent.com)|185.199.108.133|:443... connected.\n",
            "HTTP request sent, awaiting response... 200 OK\n",
            "Length: 9018017 (8.6M) [application/zip]\n",
            "Saving to: ‘WeldRight_Dataset_csv.zip?raw=true’\n",
            "\n",
            "WeldRight_Dataset_c 100%[===================>]   8.60M  --.-KB/s    in 0.02s   \n",
            "\n",
            "2022-12-12 10:13:17 (398 MB/s) - ‘WeldRight_Dataset_csv.zip?raw=true’ saved [9018017/9018017]\n",
            "\n"
          ]
        }
      ],
      "source": [
        "!wget https://github.com/skt-shreyas/WeldRight/blob/main/WeldRight_Dataset_csv.zip?raw=true"
      ]
    },
    {
      "cell_type": "code",
      "execution_count": null,
      "metadata": {
        "id": "zAC9o9pfM2pH"
      },
      "outputs": [],
      "source": [
        "import zipfile"
      ]
    },
    {
      "cell_type": "code",
      "execution_count": null,
      "metadata": {
        "colab": {
          "base_uri": "https://localhost:8080/"
        },
        "id": "iQ_Yx-hCddU3",
        "outputId": "b9226e23-cf12-4d0a-de6a-0f6d57a89a41"
      },
      "outputs": [
        {
          "name": "stdout",
          "output_type": "stream",
          "text": [
            "Archive:  WeldRight_Dataset_csv.zip?raw=true\n",
            "  inflating: WeldRight Dataset_csv.csv  \n"
          ]
        }
      ],
      "source": [
        "!unzip WeldRight_Dataset_csv.zip?raw=true"
      ]
    },
    {
      "cell_type": "code",
      "execution_count": null,
      "metadata": {
        "colab": {
          "base_uri": "https://localhost:8080/"
        },
        "id": "2CtPgONVeepv",
        "outputId": "bf180ae4-cad9-4f0b-efe4-9a835f536193"
      },
      "outputs": [
        {
          "name": "stderr",
          "output_type": "stream",
          "text": [
            "/usr/local/lib/python3.8/dist-packages/IPython/core/interactiveshell.py:3326: DtypeWarning: Columns (0,2,3,6,7,8,9,10,11,22,27,32,37,42,47,52,57,62,67,72,77,82,87) have mixed types.Specify dtype option on import or set low_memory=False.\n",
            "  exec(code_obj, self.user_global_ns, self.user_ns)\n"
          ]
        }
      ],
      "source": [
        "dataset= pd.read_csv('/content/WeldRight Dataset_csv.csv')"
      ]
    },
    {
      "cell_type": "code",
      "execution_count": null,
      "metadata": {
        "colab": {
          "base_uri": "https://localhost:8080/",
          "height": 734
        },
        "id": "WshPdX7jjtQj",
        "outputId": "693fa9d9-7caf-491d-8645-388ba44a957b"
      },
      "outputs": [
        {
          "data": {
            "text/html": [
              "\n",
              "  <div id=\"df-2fca33a6-eca8-46b3-ae25-512b95456869\">\n",
              "    <div class=\"colab-df-container\">\n",
              "      <div>\n",
              "<style scoped>\n",
              "    .dataframe tbody tr th:only-of-type {\n",
              "        vertical-align: middle;\n",
              "    }\n",
              "\n",
              "    .dataframe tbody tr th {\n",
              "        vertical-align: top;\n",
              "    }\n",
              "\n",
              "    .dataframe thead th {\n",
              "        text-align: right;\n",
              "    }\n",
              "</style>\n",
              "<table border=\"1\" class=\"dataframe\">\n",
              "  <thead>\n",
              "    <tr style=\"text-align: right;\">\n",
              "      <th></th>\n",
              "      <th>Employee Code</th>\n",
              "      <th>Machine</th>\n",
              "      <th>Production</th>\n",
              "      <th>Order Operation No</th>\n",
              "      <th>Date</th>\n",
              "      <th>Time</th>\n",
              "      <th>Current</th>\n",
              "      <th>Humidity</th>\n",
              "      <th>Temperature</th>\n",
              "      <th>Flow</th>\n",
              "      <th>...</th>\n",
              "      <th>Unnamed: 78</th>\n",
              "      <th>Unnamed: 79</th>\n",
              "      <th>Unnamed: 80</th>\n",
              "      <th>Unnamed: 81</th>\n",
              "      <th>Unnamed: 82</th>\n",
              "      <th>Unnamed: 83</th>\n",
              "      <th>Unnamed: 84</th>\n",
              "      <th>Unnamed: 85</th>\n",
              "      <th>Unnamed: 86</th>\n",
              "      <th>Unnamed: 87</th>\n",
              "    </tr>\n",
              "  </thead>\n",
              "  <tbody>\n",
              "    <tr>\n",
              "      <th>0</th>\n",
              "      <td>(Office id of employee)</td>\n",
              "      <td>(Welding machine name)</td>\n",
              "      <td>(Project order number)</td>\n",
              "      <td>(This captures the activity to be performed by...</td>\n",
              "      <td>(date of activity)</td>\n",
              "      <td>(Timestamp for the activity)</td>\n",
              "      <td>(In Ampere)</td>\n",
              "      <td>(Relative humidity in %)</td>\n",
              "      <td>(in degree celsius)</td>\n",
              "      <td>(in liters per min (LPM))</td>\n",
              "      <td>...</td>\n",
              "      <td>NaN</td>\n",
              "      <td>NaN</td>\n",
              "      <td>NaN</td>\n",
              "      <td>NaN</td>\n",
              "      <td>NaN</td>\n",
              "      <td>NaN</td>\n",
              "      <td>NaN</td>\n",
              "      <td>NaN</td>\n",
              "      <td>NaN</td>\n",
              "      <td>NaN</td>\n",
              "    </tr>\n",
              "    <tr>\n",
              "      <th>1</th>\n",
              "      <td>382617</td>\n",
              "      <td>TWLD23</td>\n",
              "      <td>E15002965</td>\n",
              "      <td>240</td>\n",
              "      <td>10-09-2022</td>\n",
              "      <td>7:32:28:527</td>\n",
              "      <td>1.13</td>\n",
              "      <td>74</td>\n",
              "      <td>23</td>\n",
              "      <td>0.01</td>\n",
              "      <td>...</td>\n",
              "      <td>NaN</td>\n",
              "      <td>NaN</td>\n",
              "      <td>NaN</td>\n",
              "      <td>NaN</td>\n",
              "      <td>NaN</td>\n",
              "      <td>NaN</td>\n",
              "      <td>NaN</td>\n",
              "      <td>NaN</td>\n",
              "      <td>NaN</td>\n",
              "      <td>NaN</td>\n",
              "    </tr>\n",
              "    <tr>\n",
              "      <th>2</th>\n",
              "      <td>382617</td>\n",
              "      <td>TWLD23</td>\n",
              "      <td>E15002965</td>\n",
              "      <td>240</td>\n",
              "      <td>10-09-2022</td>\n",
              "      <td>7:32:29:40</td>\n",
              "      <td>1.82</td>\n",
              "      <td>74</td>\n",
              "      <td>23</td>\n",
              "      <td>0</td>\n",
              "      <td>...</td>\n",
              "      <td>NaN</td>\n",
              "      <td>NaN</td>\n",
              "      <td>NaN</td>\n",
              "      <td>NaN</td>\n",
              "      <td>NaN</td>\n",
              "      <td>NaN</td>\n",
              "      <td>NaN</td>\n",
              "      <td>NaN</td>\n",
              "      <td>NaN</td>\n",
              "      <td>NaN</td>\n",
              "    </tr>\n",
              "    <tr>\n",
              "      <th>3</th>\n",
              "      <td>382617</td>\n",
              "      <td>TWLD23</td>\n",
              "      <td>E15002965</td>\n",
              "      <td>240</td>\n",
              "      <td>10-09-2022</td>\n",
              "      <td>7:32:29:677</td>\n",
              "      <td>2.91</td>\n",
              "      <td>74</td>\n",
              "      <td>23</td>\n",
              "      <td>0</td>\n",
              "      <td>...</td>\n",
              "      <td>NaN</td>\n",
              "      <td>NaN</td>\n",
              "      <td>NaN</td>\n",
              "      <td>NaN</td>\n",
              "      <td>NaN</td>\n",
              "      <td>NaN</td>\n",
              "      <td>NaN</td>\n",
              "      <td>NaN</td>\n",
              "      <td>NaN</td>\n",
              "      <td>NaN</td>\n",
              "    </tr>\n",
              "    <tr>\n",
              "      <th>4</th>\n",
              "      <td>382617</td>\n",
              "      <td>TWLD23</td>\n",
              "      <td>E15002965</td>\n",
              "      <td>240</td>\n",
              "      <td>10-09-2022</td>\n",
              "      <td>7:32:30:166</td>\n",
              "      <td>0.04</td>\n",
              "      <td>74</td>\n",
              "      <td>23</td>\n",
              "      <td>0</td>\n",
              "      <td>...</td>\n",
              "      <td>NaN</td>\n",
              "      <td>NaN</td>\n",
              "      <td>NaN</td>\n",
              "      <td>NaN</td>\n",
              "      <td>NaN</td>\n",
              "      <td>NaN</td>\n",
              "      <td>NaN</td>\n",
              "      <td>NaN</td>\n",
              "      <td>NaN</td>\n",
              "      <td>NaN</td>\n",
              "    </tr>\n",
              "    <tr>\n",
              "      <th>5</th>\n",
              "      <td>382617</td>\n",
              "      <td>TWLD23</td>\n",
              "      <td>E15002965</td>\n",
              "      <td>240</td>\n",
              "      <td>10-09-2022</td>\n",
              "      <td>7:32:30:696</td>\n",
              "      <td>2.51</td>\n",
              "      <td>74</td>\n",
              "      <td>23</td>\n",
              "      <td>0</td>\n",
              "      <td>...</td>\n",
              "      <td>NaN</td>\n",
              "      <td>NaN</td>\n",
              "      <td>NaN</td>\n",
              "      <td>NaN</td>\n",
              "      <td>NaN</td>\n",
              "      <td>NaN</td>\n",
              "      <td>NaN</td>\n",
              "      <td>NaN</td>\n",
              "      <td>NaN</td>\n",
              "      <td>NaN</td>\n",
              "    </tr>\n",
              "    <tr>\n",
              "      <th>6</th>\n",
              "      <td>382617</td>\n",
              "      <td>TWLD23</td>\n",
              "      <td>E15002965</td>\n",
              "      <td>240</td>\n",
              "      <td>10-09-2022</td>\n",
              "      <td>7:32:31:286</td>\n",
              "      <td>0.24</td>\n",
              "      <td>74</td>\n",
              "      <td>23</td>\n",
              "      <td>0</td>\n",
              "      <td>...</td>\n",
              "      <td>NaN</td>\n",
              "      <td>NaN</td>\n",
              "      <td>NaN</td>\n",
              "      <td>NaN</td>\n",
              "      <td>NaN</td>\n",
              "      <td>NaN</td>\n",
              "      <td>NaN</td>\n",
              "      <td>NaN</td>\n",
              "      <td>NaN</td>\n",
              "      <td>NaN</td>\n",
              "    </tr>\n",
              "    <tr>\n",
              "      <th>7</th>\n",
              "      <td>382617</td>\n",
              "      <td>TWLD23</td>\n",
              "      <td>E15002965</td>\n",
              "      <td>240</td>\n",
              "      <td>10-09-2022</td>\n",
              "      <td>7:32:31:786</td>\n",
              "      <td>-0.9</td>\n",
              "      <td>74</td>\n",
              "      <td>23</td>\n",
              "      <td>0</td>\n",
              "      <td>...</td>\n",
              "      <td>NaN</td>\n",
              "      <td>NaN</td>\n",
              "      <td>NaN</td>\n",
              "      <td>NaN</td>\n",
              "      <td>NaN</td>\n",
              "      <td>NaN</td>\n",
              "      <td>NaN</td>\n",
              "      <td>NaN</td>\n",
              "      <td>NaN</td>\n",
              "      <td>NaN</td>\n",
              "    </tr>\n",
              "    <tr>\n",
              "      <th>8</th>\n",
              "      <td>382617</td>\n",
              "      <td>TWLD23</td>\n",
              "      <td>E15002965</td>\n",
              "      <td>240</td>\n",
              "      <td>10-09-2022</td>\n",
              "      <td>7:32:32:390</td>\n",
              "      <td>2.61</td>\n",
              "      <td>74</td>\n",
              "      <td>23</td>\n",
              "      <td>0</td>\n",
              "      <td>...</td>\n",
              "      <td>NaN</td>\n",
              "      <td>NaN</td>\n",
              "      <td>NaN</td>\n",
              "      <td>NaN</td>\n",
              "      <td>NaN</td>\n",
              "      <td>NaN</td>\n",
              "      <td>NaN</td>\n",
              "      <td>NaN</td>\n",
              "      <td>NaN</td>\n",
              "      <td>NaN</td>\n",
              "    </tr>\n",
              "    <tr>\n",
              "      <th>9</th>\n",
              "      <td>382617</td>\n",
              "      <td>TWLD23</td>\n",
              "      <td>E15002965</td>\n",
              "      <td>240</td>\n",
              "      <td>10-09-2022</td>\n",
              "      <td>7:32:27:884</td>\n",
              "      <td>10.51</td>\n",
              "      <td>74</td>\n",
              "      <td>23</td>\n",
              "      <td>0</td>\n",
              "      <td>...</td>\n",
              "      <td>NaN</td>\n",
              "      <td>NaN</td>\n",
              "      <td>NaN</td>\n",
              "      <td>NaN</td>\n",
              "      <td>NaN</td>\n",
              "      <td>NaN</td>\n",
              "      <td>NaN</td>\n",
              "      <td>NaN</td>\n",
              "      <td>NaN</td>\n",
              "      <td>NaN</td>\n",
              "    </tr>\n",
              "  </tbody>\n",
              "</table>\n",
              "<p>10 rows × 88 columns</p>\n",
              "</div>\n",
              "      <button class=\"colab-df-convert\" onclick=\"convertToInteractive('df-2fca33a6-eca8-46b3-ae25-512b95456869')\"\n",
              "              title=\"Convert this dataframe to an interactive table.\"\n",
              "              style=\"display:none;\">\n",
              "        \n",
              "  <svg xmlns=\"http://www.w3.org/2000/svg\" height=\"24px\"viewBox=\"0 0 24 24\"\n",
              "       width=\"24px\">\n",
              "    <path d=\"M0 0h24v24H0V0z\" fill=\"none\"/>\n",
              "    <path d=\"M18.56 5.44l.94 2.06.94-2.06 2.06-.94-2.06-.94-.94-2.06-.94 2.06-2.06.94zm-11 1L8.5 8.5l.94-2.06 2.06-.94-2.06-.94L8.5 2.5l-.94 2.06-2.06.94zm10 10l.94 2.06.94-2.06 2.06-.94-2.06-.94-.94-2.06-.94 2.06-2.06.94z\"/><path d=\"M17.41 7.96l-1.37-1.37c-.4-.4-.92-.59-1.43-.59-.52 0-1.04.2-1.43.59L10.3 9.45l-7.72 7.72c-.78.78-.78 2.05 0 2.83L4 21.41c.39.39.9.59 1.41.59.51 0 1.02-.2 1.41-.59l7.78-7.78 2.81-2.81c.8-.78.8-2.07 0-2.86zM5.41 20L4 18.59l7.72-7.72 1.47 1.35L5.41 20z\"/>\n",
              "  </svg>\n",
              "      </button>\n",
              "      \n",
              "  <style>\n",
              "    .colab-df-container {\n",
              "      display:flex;\n",
              "      flex-wrap:wrap;\n",
              "      gap: 12px;\n",
              "    }\n",
              "\n",
              "    .colab-df-convert {\n",
              "      background-color: #E8F0FE;\n",
              "      border: none;\n",
              "      border-radius: 50%;\n",
              "      cursor: pointer;\n",
              "      display: none;\n",
              "      fill: #1967D2;\n",
              "      height: 32px;\n",
              "      padding: 0 0 0 0;\n",
              "      width: 32px;\n",
              "    }\n",
              "\n",
              "    .colab-df-convert:hover {\n",
              "      background-color: #E2EBFA;\n",
              "      box-shadow: 0px 1px 2px rgba(60, 64, 67, 0.3), 0px 1px 3px 1px rgba(60, 64, 67, 0.15);\n",
              "      fill: #174EA6;\n",
              "    }\n",
              "\n",
              "    [theme=dark] .colab-df-convert {\n",
              "      background-color: #3B4455;\n",
              "      fill: #D2E3FC;\n",
              "    }\n",
              "\n",
              "    [theme=dark] .colab-df-convert:hover {\n",
              "      background-color: #434B5C;\n",
              "      box-shadow: 0px 1px 3px 1px rgba(0, 0, 0, 0.15);\n",
              "      filter: drop-shadow(0px 1px 2px rgba(0, 0, 0, 0.3));\n",
              "      fill: #FFFFFF;\n",
              "    }\n",
              "  </style>\n",
              "\n",
              "      <script>\n",
              "        const buttonEl =\n",
              "          document.querySelector('#df-2fca33a6-eca8-46b3-ae25-512b95456869 button.colab-df-convert');\n",
              "        buttonEl.style.display =\n",
              "          google.colab.kernel.accessAllowed ? 'block' : 'none';\n",
              "\n",
              "        async function convertToInteractive(key) {\n",
              "          const element = document.querySelector('#df-2fca33a6-eca8-46b3-ae25-512b95456869');\n",
              "          const dataTable =\n",
              "            await google.colab.kernel.invokeFunction('convertToInteractive',\n",
              "                                                     [key], {});\n",
              "          if (!dataTable) return;\n",
              "\n",
              "          const docLinkHtml = 'Like what you see? Visit the ' +\n",
              "            '<a target=\"_blank\" href=https://colab.research.google.com/notebooks/data_table.ipynb>data table notebook</a>'\n",
              "            + ' to learn more about interactive tables.';\n",
              "          element.innerHTML = '';\n",
              "          dataTable['output_type'] = 'display_data';\n",
              "          await google.colab.output.renderOutput(dataTable, element);\n",
              "          const docLink = document.createElement('div');\n",
              "          docLink.innerHTML = docLinkHtml;\n",
              "          element.appendChild(docLink);\n",
              "        }\n",
              "      </script>\n",
              "    </div>\n",
              "  </div>\n",
              "  "
            ],
            "text/plain": [
              "             Employee Code                 Machine              Production  \\\n",
              "0  (Office id of employee)  (Welding machine name)  (Project order number)   \n",
              "1                   382617                  TWLD23               E15002965   \n",
              "2                   382617                  TWLD23               E15002965   \n",
              "3                   382617                  TWLD23               E15002965   \n",
              "4                   382617                  TWLD23               E15002965   \n",
              "5                   382617                  TWLD23               E15002965   \n",
              "6                   382617                  TWLD23               E15002965   \n",
              "7                   382617                  TWLD23               E15002965   \n",
              "8                   382617                  TWLD23               E15002965   \n",
              "9                   382617                  TWLD23               E15002965   \n",
              "\n",
              "                                  Order Operation No                Date  \\\n",
              "0  (This captures the activity to be performed by...  (date of activity)   \n",
              "1                                                240          10-09-2022   \n",
              "2                                                240          10-09-2022   \n",
              "3                                                240          10-09-2022   \n",
              "4                                                240          10-09-2022   \n",
              "5                                                240          10-09-2022   \n",
              "6                                                240          10-09-2022   \n",
              "7                                                240          10-09-2022   \n",
              "8                                                240          10-09-2022   \n",
              "9                                                240          10-09-2022   \n",
              "\n",
              "                           Time      Current                  Humidity  \\\n",
              "0  (Timestamp for the activity)  (In Ampere)  (Relative humidity in %)   \n",
              "1                   7:32:28:527         1.13                        74   \n",
              "2                    7:32:29:40         1.82                        74   \n",
              "3                   7:32:29:677         2.91                        74   \n",
              "4                   7:32:30:166         0.04                        74   \n",
              "5                   7:32:30:696         2.51                        74   \n",
              "6                   7:32:31:286         0.24                        74   \n",
              "7                   7:32:31:786         -0.9                        74   \n",
              "8                   7:32:32:390         2.61                        74   \n",
              "9                   7:32:27:884        10.51                        74   \n",
              "\n",
              "           Temperature                       Flow  ... Unnamed: 78  \\\n",
              "0  (in degree celsius)  (in liters per min (LPM))  ...         NaN   \n",
              "1                   23                       0.01  ...         NaN   \n",
              "2                   23                          0  ...         NaN   \n",
              "3                   23                          0  ...         NaN   \n",
              "4                   23                          0  ...         NaN   \n",
              "5                   23                          0  ...         NaN   \n",
              "6                   23                          0  ...         NaN   \n",
              "7                   23                          0  ...         NaN   \n",
              "8                   23                          0  ...         NaN   \n",
              "9                   23                          0  ...         NaN   \n",
              "\n",
              "  Unnamed: 79 Unnamed: 80  Unnamed: 81  Unnamed: 82  Unnamed: 83  Unnamed: 84  \\\n",
              "0         NaN         NaN          NaN          NaN          NaN          NaN   \n",
              "1         NaN         NaN          NaN          NaN          NaN          NaN   \n",
              "2         NaN         NaN          NaN          NaN          NaN          NaN   \n",
              "3         NaN         NaN          NaN          NaN          NaN          NaN   \n",
              "4         NaN         NaN          NaN          NaN          NaN          NaN   \n",
              "5         NaN         NaN          NaN          NaN          NaN          NaN   \n",
              "6         NaN         NaN          NaN          NaN          NaN          NaN   \n",
              "7         NaN         NaN          NaN          NaN          NaN          NaN   \n",
              "8         NaN         NaN          NaN          NaN          NaN          NaN   \n",
              "9         NaN         NaN          NaN          NaN          NaN          NaN   \n",
              "\n",
              "   Unnamed: 85  Unnamed: 86  Unnamed: 87  \n",
              "0          NaN          NaN          NaN  \n",
              "1          NaN          NaN          NaN  \n",
              "2          NaN          NaN          NaN  \n",
              "3          NaN          NaN          NaN  \n",
              "4          NaN          NaN          NaN  \n",
              "5          NaN          NaN          NaN  \n",
              "6          NaN          NaN          NaN  \n",
              "7          NaN          NaN          NaN  \n",
              "8          NaN          NaN          NaN  \n",
              "9          NaN          NaN          NaN  \n",
              "\n",
              "[10 rows x 88 columns]"
            ]
          },
          "execution_count": 6,
          "metadata": {},
          "output_type": "execute_result"
        }
      ],
      "source": [
        "dataset.head(10)"
      ]
    },
    {
      "cell_type": "code",
      "execution_count": null,
      "metadata": {
        "colab": {
          "base_uri": "https://localhost:8080/"
        },
        "id": "6hhWEWq31LHG",
        "outputId": "04111150-aa8d-43e3-b68c-605f546177c4"
      },
      "outputs": [
        {
          "data": {
            "text/plain": [
              "Index(['Employee Code', 'Machine', 'Production', 'Order Operation No', 'Date',\n",
              "       'Time', 'Current', 'Humidity', 'Temperature', 'Flow', 'Job Temp',\n",
              "       'Voltage', 'Defect', 'Unnamed: 13', 'Unnamed: 14', 'Unnamed: 15',\n",
              "       'Unnamed: 16', 'Unnamed: 17', 'Unnamed: 18', 'Unnamed: 19',\n",
              "       'Unnamed: 20', 'Unnamed: 21', 'Unnamed: 22', 'Unnamed: 23',\n",
              "       'Unnamed: 24', 'Unnamed: 25', 'Unnamed: 26', 'Unnamed: 27',\n",
              "       'Unnamed: 28', 'Unnamed: 29', 'Unnamed: 30', 'Unnamed: 31',\n",
              "       'Unnamed: 32', 'Unnamed: 33', 'Unnamed: 34', 'Unnamed: 35',\n",
              "       'Unnamed: 36', 'Unnamed: 37', 'Unnamed: 38', 'Unnamed: 39',\n",
              "       'Unnamed: 40', 'Unnamed: 41', 'Unnamed: 42', 'Unnamed: 43',\n",
              "       'Unnamed: 44', 'Unnamed: 45', 'Unnamed: 46', 'Unnamed: 47',\n",
              "       'Unnamed: 48', 'Unnamed: 49', 'Unnamed: 50', 'Unnamed: 51',\n",
              "       'Unnamed: 52', 'Unnamed: 53', 'Unnamed: 54', 'Unnamed: 55',\n",
              "       'Unnamed: 56', 'Unnamed: 57', 'Unnamed: 58', 'Unnamed: 59',\n",
              "       'Unnamed: 60', 'Unnamed: 61', 'Unnamed: 62', 'Unnamed: 63',\n",
              "       'Unnamed: 64', 'Unnamed: 65', 'Unnamed: 66', 'Unnamed: 67',\n",
              "       'Unnamed: 68', 'Unnamed: 69', 'Unnamed: 70', 'Unnamed: 71',\n",
              "       'Unnamed: 72', 'Unnamed: 73', 'Unnamed: 74', 'Unnamed: 75',\n",
              "       'Unnamed: 76', 'Unnamed: 77', 'Unnamed: 78', 'Unnamed: 79',\n",
              "       'Unnamed: 80', 'Unnamed: 81', 'Unnamed: 82', 'Unnamed: 83',\n",
              "       'Unnamed: 84', 'Unnamed: 85', 'Unnamed: 86', 'Unnamed: 87'],\n",
              "      dtype='object')"
            ]
          },
          "execution_count": 7,
          "metadata": {},
          "output_type": "execute_result"
        }
      ],
      "source": [
        "dataset.columns"
      ]
    },
    {
      "cell_type": "markdown",
      "metadata": {
        "id": "Ojn4lCY55Owg"
      },
      "source": [
        "## **DATA CLEANING**\n"
      ]
    },
    {
      "cell_type": "code",
      "execution_count": null,
      "metadata": {
        "id": "LD3dflyH1f9A"
      },
      "outputs": [],
      "source": [
        "#Unnecessarily \"unnamed\" columns are removed\n",
        "\n",
        "dataset_1 = dataset.iloc[1:,0:13]"
      ]
    },
    {
      "cell_type": "code",
      "execution_count": null,
      "metadata": {
        "colab": {
          "base_uri": "https://localhost:8080/",
          "height": 598
        },
        "id": "UTpZo11d1ixD",
        "outputId": "33ca95ad-aa2a-40f2-e6bb-9750ce3dae1f"
      },
      "outputs": [
        {
          "data": {
            "text/html": [
              "\n",
              "  <div id=\"df-18204828-4306-4be1-b8fa-69df9c9e3d06\">\n",
              "    <div class=\"colab-df-container\">\n",
              "      <div>\n",
              "<style scoped>\n",
              "    .dataframe tbody tr th:only-of-type {\n",
              "        vertical-align: middle;\n",
              "    }\n",
              "\n",
              "    .dataframe tbody tr th {\n",
              "        vertical-align: top;\n",
              "    }\n",
              "\n",
              "    .dataframe thead th {\n",
              "        text-align: right;\n",
              "    }\n",
              "</style>\n",
              "<table border=\"1\" class=\"dataframe\">\n",
              "  <thead>\n",
              "    <tr style=\"text-align: right;\">\n",
              "      <th></th>\n",
              "      <th>Employee Code</th>\n",
              "      <th>Machine</th>\n",
              "      <th>Production</th>\n",
              "      <th>Order Operation No</th>\n",
              "      <th>Date</th>\n",
              "      <th>Time</th>\n",
              "      <th>Current</th>\n",
              "      <th>Humidity</th>\n",
              "      <th>Temperature</th>\n",
              "      <th>Flow</th>\n",
              "      <th>Job Temp</th>\n",
              "      <th>Voltage</th>\n",
              "      <th>Defect</th>\n",
              "    </tr>\n",
              "  </thead>\n",
              "  <tbody>\n",
              "    <tr>\n",
              "      <th>1</th>\n",
              "      <td>382617</td>\n",
              "      <td>TWLD23</td>\n",
              "      <td>E15002965</td>\n",
              "      <td>240</td>\n",
              "      <td>10-09-2022</td>\n",
              "      <td>7:32:28:527</td>\n",
              "      <td>1.13</td>\n",
              "      <td>74</td>\n",
              "      <td>23</td>\n",
              "      <td>0.01</td>\n",
              "      <td>29.3</td>\n",
              "      <td>15.2</td>\n",
              "      <td>No Defect</td>\n",
              "    </tr>\n",
              "    <tr>\n",
              "      <th>2</th>\n",
              "      <td>382617</td>\n",
              "      <td>TWLD23</td>\n",
              "      <td>E15002965</td>\n",
              "      <td>240</td>\n",
              "      <td>10-09-2022</td>\n",
              "      <td>7:32:29:40</td>\n",
              "      <td>1.82</td>\n",
              "      <td>74</td>\n",
              "      <td>23</td>\n",
              "      <td>0</td>\n",
              "      <td>29.3</td>\n",
              "      <td>0</td>\n",
              "      <td>Tungsten Inclusion</td>\n",
              "    </tr>\n",
              "    <tr>\n",
              "      <th>3</th>\n",
              "      <td>382617</td>\n",
              "      <td>TWLD23</td>\n",
              "      <td>E15002965</td>\n",
              "      <td>240</td>\n",
              "      <td>10-09-2022</td>\n",
              "      <td>7:32:29:677</td>\n",
              "      <td>2.91</td>\n",
              "      <td>74</td>\n",
              "      <td>23</td>\n",
              "      <td>0</td>\n",
              "      <td>29.3</td>\n",
              "      <td>0</td>\n",
              "      <td>No Defect</td>\n",
              "    </tr>\n",
              "    <tr>\n",
              "      <th>4</th>\n",
              "      <td>382617</td>\n",
              "      <td>TWLD23</td>\n",
              "      <td>E15002965</td>\n",
              "      <td>240</td>\n",
              "      <td>10-09-2022</td>\n",
              "      <td>7:32:30:166</td>\n",
              "      <td>0.04</td>\n",
              "      <td>74</td>\n",
              "      <td>23</td>\n",
              "      <td>0</td>\n",
              "      <td>29.3</td>\n",
              "      <td>0</td>\n",
              "      <td>No Defect</td>\n",
              "    </tr>\n",
              "    <tr>\n",
              "      <th>5</th>\n",
              "      <td>382617</td>\n",
              "      <td>TWLD23</td>\n",
              "      <td>E15002965</td>\n",
              "      <td>240</td>\n",
              "      <td>10-09-2022</td>\n",
              "      <td>7:32:30:696</td>\n",
              "      <td>2.51</td>\n",
              "      <td>74</td>\n",
              "      <td>23</td>\n",
              "      <td>0</td>\n",
              "      <td>27.8</td>\n",
              "      <td>0</td>\n",
              "      <td>No Defect</td>\n",
              "    </tr>\n",
              "    <tr>\n",
              "      <th>6</th>\n",
              "      <td>382617</td>\n",
              "      <td>TWLD23</td>\n",
              "      <td>E15002965</td>\n",
              "      <td>240</td>\n",
              "      <td>10-09-2022</td>\n",
              "      <td>7:32:31:286</td>\n",
              "      <td>0.24</td>\n",
              "      <td>74</td>\n",
              "      <td>23</td>\n",
              "      <td>0</td>\n",
              "      <td>27.8</td>\n",
              "      <td>0</td>\n",
              "      <td>No Defect</td>\n",
              "    </tr>\n",
              "    <tr>\n",
              "      <th>7</th>\n",
              "      <td>382617</td>\n",
              "      <td>TWLD23</td>\n",
              "      <td>E15002965</td>\n",
              "      <td>240</td>\n",
              "      <td>10-09-2022</td>\n",
              "      <td>7:32:31:786</td>\n",
              "      <td>-0.9</td>\n",
              "      <td>74</td>\n",
              "      <td>23</td>\n",
              "      <td>0</td>\n",
              "      <td>27.8</td>\n",
              "      <td>0</td>\n",
              "      <td>No Defect</td>\n",
              "    </tr>\n",
              "    <tr>\n",
              "      <th>8</th>\n",
              "      <td>382617</td>\n",
              "      <td>TWLD23</td>\n",
              "      <td>E15002965</td>\n",
              "      <td>240</td>\n",
              "      <td>10-09-2022</td>\n",
              "      <td>7:32:32:390</td>\n",
              "      <td>2.61</td>\n",
              "      <td>74</td>\n",
              "      <td>23</td>\n",
              "      <td>0</td>\n",
              "      <td>28</td>\n",
              "      <td>0</td>\n",
              "      <td>No Defect</td>\n",
              "    </tr>\n",
              "    <tr>\n",
              "      <th>9</th>\n",
              "      <td>382617</td>\n",
              "      <td>TWLD23</td>\n",
              "      <td>E15002965</td>\n",
              "      <td>240</td>\n",
              "      <td>10-09-2022</td>\n",
              "      <td>7:32:27:884</td>\n",
              "      <td>10.51</td>\n",
              "      <td>74</td>\n",
              "      <td>23</td>\n",
              "      <td>0</td>\n",
              "      <td>28</td>\n",
              "      <td>9.062</td>\n",
              "      <td>No Defect</td>\n",
              "    </tr>\n",
              "    <tr>\n",
              "      <th>10</th>\n",
              "      <td>382617</td>\n",
              "      <td>TWLD23</td>\n",
              "      <td>E15002965</td>\n",
              "      <td>240</td>\n",
              "      <td>10-09-2022</td>\n",
              "      <td>7:32:32:949</td>\n",
              "      <td>2.35</td>\n",
              "      <td>74</td>\n",
              "      <td>23</td>\n",
              "      <td>0</td>\n",
              "      <td>28</td>\n",
              "      <td>0</td>\n",
              "      <td>No Defect</td>\n",
              "    </tr>\n",
              "  </tbody>\n",
              "</table>\n",
              "</div>\n",
              "      <button class=\"colab-df-convert\" onclick=\"convertToInteractive('df-18204828-4306-4be1-b8fa-69df9c9e3d06')\"\n",
              "              title=\"Convert this dataframe to an interactive table.\"\n",
              "              style=\"display:none;\">\n",
              "        \n",
              "  <svg xmlns=\"http://www.w3.org/2000/svg\" height=\"24px\"viewBox=\"0 0 24 24\"\n",
              "       width=\"24px\">\n",
              "    <path d=\"M0 0h24v24H0V0z\" fill=\"none\"/>\n",
              "    <path d=\"M18.56 5.44l.94 2.06.94-2.06 2.06-.94-2.06-.94-.94-2.06-.94 2.06-2.06.94zm-11 1L8.5 8.5l.94-2.06 2.06-.94-2.06-.94L8.5 2.5l-.94 2.06-2.06.94zm10 10l.94 2.06.94-2.06 2.06-.94-2.06-.94-.94-2.06-.94 2.06-2.06.94z\"/><path d=\"M17.41 7.96l-1.37-1.37c-.4-.4-.92-.59-1.43-.59-.52 0-1.04.2-1.43.59L10.3 9.45l-7.72 7.72c-.78.78-.78 2.05 0 2.83L4 21.41c.39.39.9.59 1.41.59.51 0 1.02-.2 1.41-.59l7.78-7.78 2.81-2.81c.8-.78.8-2.07 0-2.86zM5.41 20L4 18.59l7.72-7.72 1.47 1.35L5.41 20z\"/>\n",
              "  </svg>\n",
              "      </button>\n",
              "      \n",
              "  <style>\n",
              "    .colab-df-container {\n",
              "      display:flex;\n",
              "      flex-wrap:wrap;\n",
              "      gap: 12px;\n",
              "    }\n",
              "\n",
              "    .colab-df-convert {\n",
              "      background-color: #E8F0FE;\n",
              "      border: none;\n",
              "      border-radius: 50%;\n",
              "      cursor: pointer;\n",
              "      display: none;\n",
              "      fill: #1967D2;\n",
              "      height: 32px;\n",
              "      padding: 0 0 0 0;\n",
              "      width: 32px;\n",
              "    }\n",
              "\n",
              "    .colab-df-convert:hover {\n",
              "      background-color: #E2EBFA;\n",
              "      box-shadow: 0px 1px 2px rgba(60, 64, 67, 0.3), 0px 1px 3px 1px rgba(60, 64, 67, 0.15);\n",
              "      fill: #174EA6;\n",
              "    }\n",
              "\n",
              "    [theme=dark] .colab-df-convert {\n",
              "      background-color: #3B4455;\n",
              "      fill: #D2E3FC;\n",
              "    }\n",
              "\n",
              "    [theme=dark] .colab-df-convert:hover {\n",
              "      background-color: #434B5C;\n",
              "      box-shadow: 0px 1px 3px 1px rgba(0, 0, 0, 0.15);\n",
              "      filter: drop-shadow(0px 1px 2px rgba(0, 0, 0, 0.3));\n",
              "      fill: #FFFFFF;\n",
              "    }\n",
              "  </style>\n",
              "\n",
              "      <script>\n",
              "        const buttonEl =\n",
              "          document.querySelector('#df-18204828-4306-4be1-b8fa-69df9c9e3d06 button.colab-df-convert');\n",
              "        buttonEl.style.display =\n",
              "          google.colab.kernel.accessAllowed ? 'block' : 'none';\n",
              "\n",
              "        async function convertToInteractive(key) {\n",
              "          const element = document.querySelector('#df-18204828-4306-4be1-b8fa-69df9c9e3d06');\n",
              "          const dataTable =\n",
              "            await google.colab.kernel.invokeFunction('convertToInteractive',\n",
              "                                                     [key], {});\n",
              "          if (!dataTable) return;\n",
              "\n",
              "          const docLinkHtml = 'Like what you see? Visit the ' +\n",
              "            '<a target=\"_blank\" href=https://colab.research.google.com/notebooks/data_table.ipynb>data table notebook</a>'\n",
              "            + ' to learn more about interactive tables.';\n",
              "          element.innerHTML = '';\n",
              "          dataTable['output_type'] = 'display_data';\n",
              "          await google.colab.output.renderOutput(dataTable, element);\n",
              "          const docLink = document.createElement('div');\n",
              "          docLink.innerHTML = docLinkHtml;\n",
              "          element.appendChild(docLink);\n",
              "        }\n",
              "      </script>\n",
              "    </div>\n",
              "  </div>\n",
              "  "
            ],
            "text/plain": [
              "   Employee Code Machine Production Order Operation No        Date  \\\n",
              "1         382617  TWLD23  E15002965                240  10-09-2022   \n",
              "2         382617  TWLD23  E15002965                240  10-09-2022   \n",
              "3         382617  TWLD23  E15002965                240  10-09-2022   \n",
              "4         382617  TWLD23  E15002965                240  10-09-2022   \n",
              "5         382617  TWLD23  E15002965                240  10-09-2022   \n",
              "6         382617  TWLD23  E15002965                240  10-09-2022   \n",
              "7         382617  TWLD23  E15002965                240  10-09-2022   \n",
              "8         382617  TWLD23  E15002965                240  10-09-2022   \n",
              "9         382617  TWLD23  E15002965                240  10-09-2022   \n",
              "10        382617  TWLD23  E15002965                240  10-09-2022   \n",
              "\n",
              "           Time Current Humidity Temperature  Flow Job Temp Voltage  \\\n",
              "1   7:32:28:527    1.13       74          23  0.01     29.3    15.2   \n",
              "2    7:32:29:40    1.82       74          23     0     29.3       0   \n",
              "3   7:32:29:677    2.91       74          23     0     29.3       0   \n",
              "4   7:32:30:166    0.04       74          23     0     29.3       0   \n",
              "5   7:32:30:696    2.51       74          23     0     27.8       0   \n",
              "6   7:32:31:286    0.24       74          23     0     27.8       0   \n",
              "7   7:32:31:786    -0.9       74          23     0     27.8       0   \n",
              "8   7:32:32:390    2.61       74          23     0       28       0   \n",
              "9   7:32:27:884   10.51       74          23     0       28   9.062   \n",
              "10  7:32:32:949    2.35       74          23     0       28       0   \n",
              "\n",
              "                Defect  \n",
              "1            No Defect  \n",
              "2   Tungsten Inclusion  \n",
              "3            No Defect  \n",
              "4            No Defect  \n",
              "5            No Defect  \n",
              "6            No Defect  \n",
              "7            No Defect  \n",
              "8            No Defect  \n",
              "9            No Defect  \n",
              "10           No Defect  "
            ]
          },
          "execution_count": 9,
          "metadata": {},
          "output_type": "execute_result"
        }
      ],
      "source": [
        "dataset_1.head(10)"
      ]
    },
    {
      "cell_type": "code",
      "execution_count": null,
      "metadata": {
        "colab": {
          "base_uri": "https://localhost:8080/"
        },
        "id": "wfhkyxQ1v1U9",
        "outputId": "2376500e-9fe8-425a-aad1-a78ec234326c"
      },
      "outputs": [
        {
          "data": {
            "text/plain": [
              "(827534, 13)"
            ]
          },
          "execution_count": 10,
          "metadata": {},
          "output_type": "execute_result"
        }
      ],
      "source": [
        "dataset_1.shape"
      ]
    },
    {
      "cell_type": "code",
      "execution_count": null,
      "metadata": {
        "colab": {
          "base_uri": "https://localhost:8080/"
        },
        "id": "3UqDqNVDgVgI",
        "outputId": "00bf0379-ed4d-47f2-faec-6e1de86bd969"
      },
      "outputs": [
        {
          "name": "stdout",
          "output_type": "stream",
          "text": [
            "<class 'pandas.core.frame.DataFrame'>\n",
            "RangeIndex: 827534 entries, 1 to 827534\n",
            "Data columns (total 13 columns):\n",
            " #   Column              Non-Null Count   Dtype \n",
            "---  ------              --------------   ----- \n",
            " 0   Employee Code       827534 non-null  object\n",
            " 1   Machine             827534 non-null  object\n",
            " 2   Production          827534 non-null  object\n",
            " 3   Order Operation No  827534 non-null  object\n",
            " 4   Date                827534 non-null  object\n",
            " 5   Time                827534 non-null  object\n",
            " 6   Current             827531 non-null  object\n",
            " 7   Humidity            827534 non-null  object\n",
            " 8   Temperature         827534 non-null  object\n",
            " 9   Flow                827534 non-null  object\n",
            " 10  Job Temp            827534 non-null  object\n",
            " 11  Voltage             827534 non-null  object\n",
            " 12  Defect              827534 non-null  object\n",
            "dtypes: object(13)\n",
            "memory usage: 82.1+ MB\n"
          ]
        }
      ],
      "source": [
        "dataset_1.info()"
      ]
    },
    {
      "cell_type": "code",
      "execution_count": null,
      "metadata": {
        "colab": {
          "base_uri": "https://localhost:8080/",
          "height": 271
        },
        "id": "A9I5s7Gaj1Qq",
        "outputId": "a2fda5f5-3821-4848-832d-6651ffe40cea"
      },
      "outputs": [
        {
          "data": {
            "text/html": [
              "\n",
              "  <div id=\"df-1a55db71-5009-4d69-9ae4-32ee3360dd46\">\n",
              "    <div class=\"colab-df-container\">\n",
              "      <div>\n",
              "<style scoped>\n",
              "    .dataframe tbody tr th:only-of-type {\n",
              "        vertical-align: middle;\n",
              "    }\n",
              "\n",
              "    .dataframe tbody tr th {\n",
              "        vertical-align: top;\n",
              "    }\n",
              "\n",
              "    .dataframe thead th {\n",
              "        text-align: right;\n",
              "    }\n",
              "</style>\n",
              "<table border=\"1\" class=\"dataframe\">\n",
              "  <thead>\n",
              "    <tr style=\"text-align: right;\">\n",
              "      <th></th>\n",
              "      <th>Employee Code</th>\n",
              "      <th>Machine</th>\n",
              "      <th>Production</th>\n",
              "      <th>Order Operation No</th>\n",
              "      <th>Date</th>\n",
              "      <th>Time</th>\n",
              "      <th>Current</th>\n",
              "      <th>Humidity</th>\n",
              "      <th>Temperature</th>\n",
              "      <th>Flow</th>\n",
              "      <th>Job Temp</th>\n",
              "      <th>Voltage</th>\n",
              "      <th>Defect</th>\n",
              "    </tr>\n",
              "  </thead>\n",
              "  <tbody>\n",
              "    <tr>\n",
              "      <th>count</th>\n",
              "      <td>827534</td>\n",
              "      <td>827534</td>\n",
              "      <td>827534</td>\n",
              "      <td>827534</td>\n",
              "      <td>827534</td>\n",
              "      <td>827534</td>\n",
              "      <td>827531.00</td>\n",
              "      <td>827534</td>\n",
              "      <td>827534</td>\n",
              "      <td>827534.0</td>\n",
              "      <td>827534.0</td>\n",
              "      <td>827534.0</td>\n",
              "      <td>827534</td>\n",
              "    </tr>\n",
              "    <tr>\n",
              "      <th>unique</th>\n",
              "      <td>10</td>\n",
              "      <td>1</td>\n",
              "      <td>24</td>\n",
              "      <td>12</td>\n",
              "      <td>24</td>\n",
              "      <td>821555</td>\n",
              "      <td>8926.00</td>\n",
              "      <td>65</td>\n",
              "      <td>26</td>\n",
              "      <td>1022.0</td>\n",
              "      <td>1410.0</td>\n",
              "      <td>14266.0</td>\n",
              "      <td>52</td>\n",
              "    </tr>\n",
              "    <tr>\n",
              "      <th>top</th>\n",
              "      <td>391342</td>\n",
              "      <td>TWLD23</td>\n",
              "      <td>E15003244</td>\n",
              "      <td>240</td>\n",
              "      <td>14-09-2022</td>\n",
              "      <td>14:22:47:641</td>\n",
              "      <td>10.11</td>\n",
              "      <td>78</td>\n",
              "      <td>24</td>\n",
              "      <td>0.0</td>\n",
              "      <td>31.2</td>\n",
              "      <td>0.0</td>\n",
              "      <td>No Defect</td>\n",
              "    </tr>\n",
              "    <tr>\n",
              "      <th>freq</th>\n",
              "      <td>256884</td>\n",
              "      <td>827534</td>\n",
              "      <td>194726</td>\n",
              "      <td>476273</td>\n",
              "      <td>91059</td>\n",
              "      <td>3</td>\n",
              "      <td>10184.00</td>\n",
              "      <td>77495</td>\n",
              "      <td>358943</td>\n",
              "      <td>250303.0</td>\n",
              "      <td>62114.0</td>\n",
              "      <td>572551.0</td>\n",
              "      <td>819552</td>\n",
              "    </tr>\n",
              "  </tbody>\n",
              "</table>\n",
              "</div>\n",
              "      <button class=\"colab-df-convert\" onclick=\"convertToInteractive('df-1a55db71-5009-4d69-9ae4-32ee3360dd46')\"\n",
              "              title=\"Convert this dataframe to an interactive table.\"\n",
              "              style=\"display:none;\">\n",
              "        \n",
              "  <svg xmlns=\"http://www.w3.org/2000/svg\" height=\"24px\"viewBox=\"0 0 24 24\"\n",
              "       width=\"24px\">\n",
              "    <path d=\"M0 0h24v24H0V0z\" fill=\"none\"/>\n",
              "    <path d=\"M18.56 5.44l.94 2.06.94-2.06 2.06-.94-2.06-.94-.94-2.06-.94 2.06-2.06.94zm-11 1L8.5 8.5l.94-2.06 2.06-.94-2.06-.94L8.5 2.5l-.94 2.06-2.06.94zm10 10l.94 2.06.94-2.06 2.06-.94-2.06-.94-.94-2.06-.94 2.06-2.06.94z\"/><path d=\"M17.41 7.96l-1.37-1.37c-.4-.4-.92-.59-1.43-.59-.52 0-1.04.2-1.43.59L10.3 9.45l-7.72 7.72c-.78.78-.78 2.05 0 2.83L4 21.41c.39.39.9.59 1.41.59.51 0 1.02-.2 1.41-.59l7.78-7.78 2.81-2.81c.8-.78.8-2.07 0-2.86zM5.41 20L4 18.59l7.72-7.72 1.47 1.35L5.41 20z\"/>\n",
              "  </svg>\n",
              "      </button>\n",
              "      \n",
              "  <style>\n",
              "    .colab-df-container {\n",
              "      display:flex;\n",
              "      flex-wrap:wrap;\n",
              "      gap: 12px;\n",
              "    }\n",
              "\n",
              "    .colab-df-convert {\n",
              "      background-color: #E8F0FE;\n",
              "      border: none;\n",
              "      border-radius: 50%;\n",
              "      cursor: pointer;\n",
              "      display: none;\n",
              "      fill: #1967D2;\n",
              "      height: 32px;\n",
              "      padding: 0 0 0 0;\n",
              "      width: 32px;\n",
              "    }\n",
              "\n",
              "    .colab-df-convert:hover {\n",
              "      background-color: #E2EBFA;\n",
              "      box-shadow: 0px 1px 2px rgba(60, 64, 67, 0.3), 0px 1px 3px 1px rgba(60, 64, 67, 0.15);\n",
              "      fill: #174EA6;\n",
              "    }\n",
              "\n",
              "    [theme=dark] .colab-df-convert {\n",
              "      background-color: #3B4455;\n",
              "      fill: #D2E3FC;\n",
              "    }\n",
              "\n",
              "    [theme=dark] .colab-df-convert:hover {\n",
              "      background-color: #434B5C;\n",
              "      box-shadow: 0px 1px 3px 1px rgba(0, 0, 0, 0.15);\n",
              "      filter: drop-shadow(0px 1px 2px rgba(0, 0, 0, 0.3));\n",
              "      fill: #FFFFFF;\n",
              "    }\n",
              "  </style>\n",
              "\n",
              "      <script>\n",
              "        const buttonEl =\n",
              "          document.querySelector('#df-1a55db71-5009-4d69-9ae4-32ee3360dd46 button.colab-df-convert');\n",
              "        buttonEl.style.display =\n",
              "          google.colab.kernel.accessAllowed ? 'block' : 'none';\n",
              "\n",
              "        async function convertToInteractive(key) {\n",
              "          const element = document.querySelector('#df-1a55db71-5009-4d69-9ae4-32ee3360dd46');\n",
              "          const dataTable =\n",
              "            await google.colab.kernel.invokeFunction('convertToInteractive',\n",
              "                                                     [key], {});\n",
              "          if (!dataTable) return;\n",
              "\n",
              "          const docLinkHtml = 'Like what you see? Visit the ' +\n",
              "            '<a target=\"_blank\" href=https://colab.research.google.com/notebooks/data_table.ipynb>data table notebook</a>'\n",
              "            + ' to learn more about interactive tables.';\n",
              "          element.innerHTML = '';\n",
              "          dataTable['output_type'] = 'display_data';\n",
              "          await google.colab.output.renderOutput(dataTable, element);\n",
              "          const docLink = document.createElement('div');\n",
              "          docLink.innerHTML = docLinkHtml;\n",
              "          element.appendChild(docLink);\n",
              "        }\n",
              "      </script>\n",
              "    </div>\n",
              "  </div>\n",
              "  "
            ],
            "text/plain": [
              "        Employee Code Machine Production  Order Operation No        Date  \\\n",
              "count          827534  827534     827534              827534      827534   \n",
              "unique             10       1         24                  12          24   \n",
              "top            391342  TWLD23  E15003244                 240  14-09-2022   \n",
              "freq           256884  827534     194726              476273       91059   \n",
              "\n",
              "                Time    Current  Humidity  Temperature      Flow  Job Temp  \\\n",
              "count         827534  827531.00    827534       827534  827534.0  827534.0   \n",
              "unique        821555    8926.00        65           26    1022.0    1410.0   \n",
              "top     14:22:47:641      10.11        78           24       0.0      31.2   \n",
              "freq               3   10184.00     77495       358943  250303.0   62114.0   \n",
              "\n",
              "         Voltage     Defect  \n",
              "count   827534.0     827534  \n",
              "unique   14266.0         52  \n",
              "top          0.0  No Defect  \n",
              "freq    572551.0     819552  "
            ]
          },
          "execution_count": 12,
          "metadata": {},
          "output_type": "execute_result"
        }
      ],
      "source": [
        "dataset_1.describe()"
      ]
    },
    {
      "cell_type": "code",
      "execution_count": null,
      "metadata": {
        "colab": {
          "base_uri": "https://localhost:8080/"
        },
        "id": "X8O9MqYw2slT",
        "outputId": "00de549b-8ad1-4229-8b52-ffb719dc00fd"
      },
      "outputs": [
        {
          "data": {
            "text/plain": [
              "Employee Code         0\n",
              "Machine               0\n",
              "Production            0\n",
              "Order Operation No    0\n",
              "Date                  0\n",
              "Time                  0\n",
              "Current               3\n",
              "Humidity              0\n",
              "Temperature           0\n",
              "Flow                  0\n",
              "Job Temp              0\n",
              "Voltage               0\n",
              "Defect                0\n",
              "dtype: int64"
            ]
          },
          "execution_count": 13,
          "metadata": {},
          "output_type": "execute_result"
        }
      ],
      "source": [
        "#Number of Missing Values\n",
        "dataset_1.isnull().sum()"
      ]
    },
    {
      "cell_type": "markdown",
      "metadata": {
        "id": "V8Z674zf2Ryq"
      },
      "source": [
        "Current column has **3** missing values"
      ]
    },
    {
      "cell_type": "code",
      "execution_count": null,
      "metadata": {
        "colab": {
          "base_uri": "https://localhost:8080/",
          "height": 354
        },
        "id": "58AkSe_c6d0F",
        "outputId": "db3b7edc-8401-4feb-a2c7-7ed0116539cf"
      },
      "outputs": [
        {
          "data": {
            "text/html": [
              "\n",
              "  <div id=\"df-2b6e4162-26c7-40c9-a179-7e74ddf3c0e9\">\n",
              "    <div class=\"colab-df-container\">\n",
              "      <div>\n",
              "<style scoped>\n",
              "    .dataframe tbody tr th:only-of-type {\n",
              "        vertical-align: middle;\n",
              "    }\n",
              "\n",
              "    .dataframe tbody tr th {\n",
              "        vertical-align: top;\n",
              "    }\n",
              "\n",
              "    .dataframe thead th {\n",
              "        text-align: right;\n",
              "    }\n",
              "</style>\n",
              "<table border=\"1\" class=\"dataframe\">\n",
              "  <thead>\n",
              "    <tr style=\"text-align: right;\">\n",
              "      <th></th>\n",
              "      <th>Employee Code</th>\n",
              "      <th>Machine</th>\n",
              "      <th>Production</th>\n",
              "      <th>Order Operation No</th>\n",
              "      <th>Date</th>\n",
              "      <th>Time</th>\n",
              "      <th>Current</th>\n",
              "      <th>Humidity</th>\n",
              "      <th>Temperature</th>\n",
              "      <th>Flow</th>\n",
              "      <th>Job Temp</th>\n",
              "      <th>Voltage</th>\n",
              "      <th>Defect</th>\n",
              "    </tr>\n",
              "  </thead>\n",
              "  <tbody>\n",
              "    <tr>\n",
              "      <th>1</th>\n",
              "      <td>382617</td>\n",
              "      <td>TWLD23</td>\n",
              "      <td>E15002965</td>\n",
              "      <td>240</td>\n",
              "      <td>10-09-2022</td>\n",
              "      <td>7:32:28:527</td>\n",
              "      <td>1.13</td>\n",
              "      <td>74</td>\n",
              "      <td>23</td>\n",
              "      <td>0.01</td>\n",
              "      <td>29.3</td>\n",
              "      <td>15.2</td>\n",
              "      <td>No Defect</td>\n",
              "    </tr>\n",
              "    <tr>\n",
              "      <th>2</th>\n",
              "      <td>382617</td>\n",
              "      <td>TWLD23</td>\n",
              "      <td>E15002965</td>\n",
              "      <td>240</td>\n",
              "      <td>10-09-2022</td>\n",
              "      <td>7:32:29:40</td>\n",
              "      <td>1.82</td>\n",
              "      <td>74</td>\n",
              "      <td>23</td>\n",
              "      <td>0</td>\n",
              "      <td>29.3</td>\n",
              "      <td>0</td>\n",
              "      <td>Tungsten Inclusion</td>\n",
              "    </tr>\n",
              "    <tr>\n",
              "      <th>3</th>\n",
              "      <td>382617</td>\n",
              "      <td>TWLD23</td>\n",
              "      <td>E15002965</td>\n",
              "      <td>240</td>\n",
              "      <td>10-09-2022</td>\n",
              "      <td>7:32:29:677</td>\n",
              "      <td>2.91</td>\n",
              "      <td>74</td>\n",
              "      <td>23</td>\n",
              "      <td>0</td>\n",
              "      <td>29.3</td>\n",
              "      <td>0</td>\n",
              "      <td>No Defect</td>\n",
              "    </tr>\n",
              "    <tr>\n",
              "      <th>4</th>\n",
              "      <td>382617</td>\n",
              "      <td>TWLD23</td>\n",
              "      <td>E15002965</td>\n",
              "      <td>240</td>\n",
              "      <td>10-09-2022</td>\n",
              "      <td>7:32:30:166</td>\n",
              "      <td>0.04</td>\n",
              "      <td>74</td>\n",
              "      <td>23</td>\n",
              "      <td>0</td>\n",
              "      <td>29.3</td>\n",
              "      <td>0</td>\n",
              "      <td>No Defect</td>\n",
              "    </tr>\n",
              "    <tr>\n",
              "      <th>5</th>\n",
              "      <td>382617</td>\n",
              "      <td>TWLD23</td>\n",
              "      <td>E15002965</td>\n",
              "      <td>240</td>\n",
              "      <td>10-09-2022</td>\n",
              "      <td>7:32:30:696</td>\n",
              "      <td>2.51</td>\n",
              "      <td>74</td>\n",
              "      <td>23</td>\n",
              "      <td>0</td>\n",
              "      <td>27.8</td>\n",
              "      <td>0</td>\n",
              "      <td>No Defect</td>\n",
              "    </tr>\n",
              "  </tbody>\n",
              "</table>\n",
              "</div>\n",
              "      <button class=\"colab-df-convert\" onclick=\"convertToInteractive('df-2b6e4162-26c7-40c9-a179-7e74ddf3c0e9')\"\n",
              "              title=\"Convert this dataframe to an interactive table.\"\n",
              "              style=\"display:none;\">\n",
              "        \n",
              "  <svg xmlns=\"http://www.w3.org/2000/svg\" height=\"24px\"viewBox=\"0 0 24 24\"\n",
              "       width=\"24px\">\n",
              "    <path d=\"M0 0h24v24H0V0z\" fill=\"none\"/>\n",
              "    <path d=\"M18.56 5.44l.94 2.06.94-2.06 2.06-.94-2.06-.94-.94-2.06-.94 2.06-2.06.94zm-11 1L8.5 8.5l.94-2.06 2.06-.94-2.06-.94L8.5 2.5l-.94 2.06-2.06.94zm10 10l.94 2.06.94-2.06 2.06-.94-2.06-.94-.94-2.06-.94 2.06-2.06.94z\"/><path d=\"M17.41 7.96l-1.37-1.37c-.4-.4-.92-.59-1.43-.59-.52 0-1.04.2-1.43.59L10.3 9.45l-7.72 7.72c-.78.78-.78 2.05 0 2.83L4 21.41c.39.39.9.59 1.41.59.51 0 1.02-.2 1.41-.59l7.78-7.78 2.81-2.81c.8-.78.8-2.07 0-2.86zM5.41 20L4 18.59l7.72-7.72 1.47 1.35L5.41 20z\"/>\n",
              "  </svg>\n",
              "      </button>\n",
              "      \n",
              "  <style>\n",
              "    .colab-df-container {\n",
              "      display:flex;\n",
              "      flex-wrap:wrap;\n",
              "      gap: 12px;\n",
              "    }\n",
              "\n",
              "    .colab-df-convert {\n",
              "      background-color: #E8F0FE;\n",
              "      border: none;\n",
              "      border-radius: 50%;\n",
              "      cursor: pointer;\n",
              "      display: none;\n",
              "      fill: #1967D2;\n",
              "      height: 32px;\n",
              "      padding: 0 0 0 0;\n",
              "      width: 32px;\n",
              "    }\n",
              "\n",
              "    .colab-df-convert:hover {\n",
              "      background-color: #E2EBFA;\n",
              "      box-shadow: 0px 1px 2px rgba(60, 64, 67, 0.3), 0px 1px 3px 1px rgba(60, 64, 67, 0.15);\n",
              "      fill: #174EA6;\n",
              "    }\n",
              "\n",
              "    [theme=dark] .colab-df-convert {\n",
              "      background-color: #3B4455;\n",
              "      fill: #D2E3FC;\n",
              "    }\n",
              "\n",
              "    [theme=dark] .colab-df-convert:hover {\n",
              "      background-color: #434B5C;\n",
              "      box-shadow: 0px 1px 3px 1px rgba(0, 0, 0, 0.15);\n",
              "      filter: drop-shadow(0px 1px 2px rgba(0, 0, 0, 0.3));\n",
              "      fill: #FFFFFF;\n",
              "    }\n",
              "  </style>\n",
              "\n",
              "      <script>\n",
              "        const buttonEl =\n",
              "          document.querySelector('#df-2b6e4162-26c7-40c9-a179-7e74ddf3c0e9 button.colab-df-convert');\n",
              "        buttonEl.style.display =\n",
              "          google.colab.kernel.accessAllowed ? 'block' : 'none';\n",
              "\n",
              "        async function convertToInteractive(key) {\n",
              "          const element = document.querySelector('#df-2b6e4162-26c7-40c9-a179-7e74ddf3c0e9');\n",
              "          const dataTable =\n",
              "            await google.colab.kernel.invokeFunction('convertToInteractive',\n",
              "                                                     [key], {});\n",
              "          if (!dataTable) return;\n",
              "\n",
              "          const docLinkHtml = 'Like what you see? Visit the ' +\n",
              "            '<a target=\"_blank\" href=https://colab.research.google.com/notebooks/data_table.ipynb>data table notebook</a>'\n",
              "            + ' to learn more about interactive tables.';\n",
              "          element.innerHTML = '';\n",
              "          dataTable['output_type'] = 'display_data';\n",
              "          await google.colab.output.renderOutput(dataTable, element);\n",
              "          const docLink = document.createElement('div');\n",
              "          docLink.innerHTML = docLinkHtml;\n",
              "          element.appendChild(docLink);\n",
              "        }\n",
              "      </script>\n",
              "    </div>\n",
              "  </div>\n",
              "  "
            ],
            "text/plain": [
              "  Employee Code Machine Production Order Operation No        Date  \\\n",
              "1        382617  TWLD23  E15002965                240  10-09-2022   \n",
              "2        382617  TWLD23  E15002965                240  10-09-2022   \n",
              "3        382617  TWLD23  E15002965                240  10-09-2022   \n",
              "4        382617  TWLD23  E15002965                240  10-09-2022   \n",
              "5        382617  TWLD23  E15002965                240  10-09-2022   \n",
              "\n",
              "          Time Current Humidity Temperature  Flow Job Temp Voltage  \\\n",
              "1  7:32:28:527    1.13       74          23  0.01     29.3    15.2   \n",
              "2   7:32:29:40    1.82       74          23     0     29.3       0   \n",
              "3  7:32:29:677    2.91       74          23     0     29.3       0   \n",
              "4  7:32:30:166    0.04       74          23     0     29.3       0   \n",
              "5  7:32:30:696    2.51       74          23     0     27.8       0   \n",
              "\n",
              "               Defect  \n",
              "1           No Defect  \n",
              "2  Tungsten Inclusion  \n",
              "3           No Defect  \n",
              "4           No Defect  \n",
              "5           No Defect  "
            ]
          },
          "execution_count": 14,
          "metadata": {},
          "output_type": "execute_result"
        }
      ],
      "source": [
        "# Dropping missing data\n",
        "dataset_2 = dataset_1.dropna()\n",
        "dataset_2.head()"
      ]
    },
    {
      "cell_type": "code",
      "execution_count": null,
      "metadata": {
        "colab": {
          "base_uri": "https://localhost:8080/"
        },
        "id": "v6DRS3SO6MvX",
        "outputId": "f26d94fd-e44d-425d-dbe7-cfe3f3b84545"
      },
      "outputs": [
        {
          "data": {
            "text/plain": [
              "(827534, 827531)"
            ]
          },
          "execution_count": 15,
          "metadata": {},
          "output_type": "execute_result"
        }
      ],
      "source": [
        "# Checking length of dataset_1 and dataset_2\n",
        "len(dataset_1), len(dataset_2)"
      ]
    },
    {
      "cell_type": "code",
      "execution_count": null,
      "metadata": {
        "colab": {
          "base_uri": "https://localhost:8080/"
        },
        "id": "GrezQeyC7kmp",
        "outputId": "fef0128f-a891-49c5-f464-05e539aff417"
      },
      "outputs": [
        {
          "data": {
            "text/plain": [
              "Employee Code         0\n",
              "Machine               0\n",
              "Production            0\n",
              "Order Operation No    0\n",
              "Date                  0\n",
              "Time                  0\n",
              "Current               0\n",
              "Humidity              0\n",
              "Temperature           0\n",
              "Flow                  0\n",
              "Job Temp              0\n",
              "Voltage               0\n",
              "Defect                0\n",
              "dtype: int64"
            ]
          },
          "execution_count": 16,
          "metadata": {},
          "output_type": "execute_result"
        }
      ],
      "source": [
        "dataset_2.isnull().sum()"
      ]
    },
    {
      "cell_type": "code",
      "execution_count": null,
      "metadata": {
        "colab": {
          "base_uri": "https://localhost:8080/",
          "height": 354
        },
        "id": "WUlRCzYu8nOg",
        "outputId": "73d6685a-815b-4f5a-e9f6-81353d538758"
      },
      "outputs": [
        {
          "data": {
            "text/html": [
              "\n",
              "  <div id=\"df-2a6541d8-750a-44df-bc9a-aa2b1450d510\">\n",
              "    <div class=\"colab-df-container\">\n",
              "      <div>\n",
              "<style scoped>\n",
              "    .dataframe tbody tr th:only-of-type {\n",
              "        vertical-align: middle;\n",
              "    }\n",
              "\n",
              "    .dataframe tbody tr th {\n",
              "        vertical-align: top;\n",
              "    }\n",
              "\n",
              "    .dataframe thead th {\n",
              "        text-align: right;\n",
              "    }\n",
              "</style>\n",
              "<table border=\"1\" class=\"dataframe\">\n",
              "  <thead>\n",
              "    <tr style=\"text-align: right;\">\n",
              "      <th></th>\n",
              "      <th>Employee Code</th>\n",
              "      <th>Machine</th>\n",
              "      <th>Production</th>\n",
              "      <th>Order Operation No</th>\n",
              "      <th>Date</th>\n",
              "      <th>Time</th>\n",
              "      <th>Current</th>\n",
              "      <th>Humidity</th>\n",
              "      <th>Temperature</th>\n",
              "      <th>Flow</th>\n",
              "      <th>Job Temp</th>\n",
              "      <th>Voltage</th>\n",
              "      <th>Defect</th>\n",
              "    </tr>\n",
              "  </thead>\n",
              "  <tbody>\n",
              "    <tr>\n",
              "      <th>1</th>\n",
              "      <td>382617</td>\n",
              "      <td>TWLD23</td>\n",
              "      <td>E15002965</td>\n",
              "      <td>240</td>\n",
              "      <td>10-09-2022</td>\n",
              "      <td>7:32:28:527</td>\n",
              "      <td>1.13</td>\n",
              "      <td>74</td>\n",
              "      <td>23</td>\n",
              "      <td>0.01</td>\n",
              "      <td>29.3</td>\n",
              "      <td>15.2</td>\n",
              "      <td>No Defect</td>\n",
              "    </tr>\n",
              "    <tr>\n",
              "      <th>2</th>\n",
              "      <td>382617</td>\n",
              "      <td>TWLD23</td>\n",
              "      <td>E15002965</td>\n",
              "      <td>240</td>\n",
              "      <td>10-09-2022</td>\n",
              "      <td>7:32:29:40</td>\n",
              "      <td>1.82</td>\n",
              "      <td>74</td>\n",
              "      <td>23</td>\n",
              "      <td>0</td>\n",
              "      <td>29.3</td>\n",
              "      <td>0</td>\n",
              "      <td>Tungsten Inclusion</td>\n",
              "    </tr>\n",
              "    <tr>\n",
              "      <th>3</th>\n",
              "      <td>382617</td>\n",
              "      <td>TWLD23</td>\n",
              "      <td>E15002965</td>\n",
              "      <td>240</td>\n",
              "      <td>10-09-2022</td>\n",
              "      <td>7:32:29:677</td>\n",
              "      <td>2.91</td>\n",
              "      <td>74</td>\n",
              "      <td>23</td>\n",
              "      <td>0</td>\n",
              "      <td>29.3</td>\n",
              "      <td>0</td>\n",
              "      <td>No Defect</td>\n",
              "    </tr>\n",
              "    <tr>\n",
              "      <th>4</th>\n",
              "      <td>382617</td>\n",
              "      <td>TWLD23</td>\n",
              "      <td>E15002965</td>\n",
              "      <td>240</td>\n",
              "      <td>10-09-2022</td>\n",
              "      <td>7:32:30:166</td>\n",
              "      <td>0.04</td>\n",
              "      <td>74</td>\n",
              "      <td>23</td>\n",
              "      <td>0</td>\n",
              "      <td>29.3</td>\n",
              "      <td>0</td>\n",
              "      <td>No Defect</td>\n",
              "    </tr>\n",
              "    <tr>\n",
              "      <th>5</th>\n",
              "      <td>382617</td>\n",
              "      <td>TWLD23</td>\n",
              "      <td>E15002965</td>\n",
              "      <td>240</td>\n",
              "      <td>10-09-2022</td>\n",
              "      <td>7:32:30:696</td>\n",
              "      <td>2.51</td>\n",
              "      <td>74</td>\n",
              "      <td>23</td>\n",
              "      <td>0</td>\n",
              "      <td>27.8</td>\n",
              "      <td>0</td>\n",
              "      <td>No Defect</td>\n",
              "    </tr>\n",
              "  </tbody>\n",
              "</table>\n",
              "</div>\n",
              "      <button class=\"colab-df-convert\" onclick=\"convertToInteractive('df-2a6541d8-750a-44df-bc9a-aa2b1450d510')\"\n",
              "              title=\"Convert this dataframe to an interactive table.\"\n",
              "              style=\"display:none;\">\n",
              "        \n",
              "  <svg xmlns=\"http://www.w3.org/2000/svg\" height=\"24px\"viewBox=\"0 0 24 24\"\n",
              "       width=\"24px\">\n",
              "    <path d=\"M0 0h24v24H0V0z\" fill=\"none\"/>\n",
              "    <path d=\"M18.56 5.44l.94 2.06.94-2.06 2.06-.94-2.06-.94-.94-2.06-.94 2.06-2.06.94zm-11 1L8.5 8.5l.94-2.06 2.06-.94-2.06-.94L8.5 2.5l-.94 2.06-2.06.94zm10 10l.94 2.06.94-2.06 2.06-.94-2.06-.94-.94-2.06-.94 2.06-2.06.94z\"/><path d=\"M17.41 7.96l-1.37-1.37c-.4-.4-.92-.59-1.43-.59-.52 0-1.04.2-1.43.59L10.3 9.45l-7.72 7.72c-.78.78-.78 2.05 0 2.83L4 21.41c.39.39.9.59 1.41.59.51 0 1.02-.2 1.41-.59l7.78-7.78 2.81-2.81c.8-.78.8-2.07 0-2.86zM5.41 20L4 18.59l7.72-7.72 1.47 1.35L5.41 20z\"/>\n",
              "  </svg>\n",
              "      </button>\n",
              "      \n",
              "  <style>\n",
              "    .colab-df-container {\n",
              "      display:flex;\n",
              "      flex-wrap:wrap;\n",
              "      gap: 12px;\n",
              "    }\n",
              "\n",
              "    .colab-df-convert {\n",
              "      background-color: #E8F0FE;\n",
              "      border: none;\n",
              "      border-radius: 50%;\n",
              "      cursor: pointer;\n",
              "      display: none;\n",
              "      fill: #1967D2;\n",
              "      height: 32px;\n",
              "      padding: 0 0 0 0;\n",
              "      width: 32px;\n",
              "    }\n",
              "\n",
              "    .colab-df-convert:hover {\n",
              "      background-color: #E2EBFA;\n",
              "      box-shadow: 0px 1px 2px rgba(60, 64, 67, 0.3), 0px 1px 3px 1px rgba(60, 64, 67, 0.15);\n",
              "      fill: #174EA6;\n",
              "    }\n",
              "\n",
              "    [theme=dark] .colab-df-convert {\n",
              "      background-color: #3B4455;\n",
              "      fill: #D2E3FC;\n",
              "    }\n",
              "\n",
              "    [theme=dark] .colab-df-convert:hover {\n",
              "      background-color: #434B5C;\n",
              "      box-shadow: 0px 1px 3px 1px rgba(0, 0, 0, 0.15);\n",
              "      filter: drop-shadow(0px 1px 2px rgba(0, 0, 0, 0.3));\n",
              "      fill: #FFFFFF;\n",
              "    }\n",
              "  </style>\n",
              "\n",
              "      <script>\n",
              "        const buttonEl =\n",
              "          document.querySelector('#df-2a6541d8-750a-44df-bc9a-aa2b1450d510 button.colab-df-convert');\n",
              "        buttonEl.style.display =\n",
              "          google.colab.kernel.accessAllowed ? 'block' : 'none';\n",
              "\n",
              "        async function convertToInteractive(key) {\n",
              "          const element = document.querySelector('#df-2a6541d8-750a-44df-bc9a-aa2b1450d510');\n",
              "          const dataTable =\n",
              "            await google.colab.kernel.invokeFunction('convertToInteractive',\n",
              "                                                     [key], {});\n",
              "          if (!dataTable) return;\n",
              "\n",
              "          const docLinkHtml = 'Like what you see? Visit the ' +\n",
              "            '<a target=\"_blank\" href=https://colab.research.google.com/notebooks/data_table.ipynb>data table notebook</a>'\n",
              "            + ' to learn more about interactive tables.';\n",
              "          element.innerHTML = '';\n",
              "          dataTable['output_type'] = 'display_data';\n",
              "          await google.colab.output.renderOutput(dataTable, element);\n",
              "          const docLink = document.createElement('div');\n",
              "          docLink.innerHTML = docLinkHtml;\n",
              "          element.appendChild(docLink);\n",
              "        }\n",
              "      </script>\n",
              "    </div>\n",
              "  </div>\n",
              "  "
            ],
            "text/plain": [
              "  Employee Code Machine Production Order Operation No        Date  \\\n",
              "1        382617  TWLD23  E15002965                240  10-09-2022   \n",
              "2        382617  TWLD23  E15002965                240  10-09-2022   \n",
              "3        382617  TWLD23  E15002965                240  10-09-2022   \n",
              "4        382617  TWLD23  E15002965                240  10-09-2022   \n",
              "5        382617  TWLD23  E15002965                240  10-09-2022   \n",
              "\n",
              "          Time Current Humidity Temperature  Flow Job Temp Voltage  \\\n",
              "1  7:32:28:527    1.13       74          23  0.01     29.3    15.2   \n",
              "2   7:32:29:40    1.82       74          23     0     29.3       0   \n",
              "3  7:32:29:677    2.91       74          23     0     29.3       0   \n",
              "4  7:32:30:166    0.04       74          23     0     29.3       0   \n",
              "5  7:32:30:696    2.51       74          23     0     27.8       0   \n",
              "\n",
              "               Defect  \n",
              "1           No Defect  \n",
              "2  Tungsten Inclusion  \n",
              "3           No Defect  \n",
              "4           No Defect  \n",
              "5           No Defect  "
            ]
          },
          "execution_count": 17,
          "metadata": {},
          "output_type": "execute_result"
        }
      ],
      "source": [
        "dataset_2.head()"
      ]
    },
    {
      "cell_type": "markdown",
      "metadata": {
        "id": "-miQeRbBNt5v"
      },
      "source": [
        "### *Data Cleaning in **Employee Code** Column*\n",
        "\n"
      ]
    },
    {
      "cell_type": "code",
      "execution_count": null,
      "metadata": {
        "colab": {
          "base_uri": "https://localhost:8080/"
        },
        "id": "IYlhn5gL80Wj",
        "outputId": "b0e43680-3505-4dfe-9874-e57d0a467094"
      },
      "outputs": [
        {
          "data": {
            "text/plain": [
              "array(['382617', 382617, 391342, 97346, 0, 394965, 387268, 394365, 383138,\n",
              "       394269], dtype=object)"
            ]
          },
          "execution_count": 18,
          "metadata": {},
          "output_type": "execute_result"
        }
      ],
      "source": [
        "dataset_2[\"Employee Code\"].unique()"
      ]
    },
    {
      "cell_type": "code",
      "execution_count": null,
      "metadata": {
        "colab": {
          "base_uri": "https://localhost:8080/"
        },
        "id": "OqMDmGi9lAKr",
        "outputId": "42208ade-cb25-4219-a4a6-7f3007f83cfe"
      },
      "outputs": [
        {
          "data": {
            "text/plain": [
              "391342    256882\n",
              "394965    174984\n",
              "97346     117426\n",
              "394269    114821\n",
              "0          66820\n",
              "382617     28574\n",
              "383138     27295\n",
              "394365     23922\n",
              "387268      8616\n",
              "382617      8191\n",
              "Name: Employee Code, dtype: int64"
            ]
          },
          "execution_count": 19,
          "metadata": {},
          "output_type": "execute_result"
        }
      ],
      "source": [
        "dataset_2['Employee Code'].value_counts()"
      ]
    },
    {
      "cell_type": "code",
      "execution_count": null,
      "metadata": {
        "colab": {
          "base_uri": "https://localhost:8080/"
        },
        "id": "AghvrJQluQmL",
        "outputId": "8fd7aca4-dab3-4f89-d35e-c028cda7483e"
      },
      "outputs": [
        {
          "name": "stderr",
          "output_type": "stream",
          "text": [
            "<ipython-input-20-9f6d27474d0c>:1: SettingWithCopyWarning: \n",
            "A value is trying to be set on a copy of a slice from a DataFrame.\n",
            "Try using .loc[row_indexer,col_indexer] = value instead\n",
            "\n",
            "See the caveats in the documentation: https://pandas.pydata.org/pandas-docs/stable/user_guide/indexing.html#returning-a-view-versus-a-copy\n",
            "  dataset_2['Employee Code']=dataset_2['Employee Code'].astype(int)\n"
          ]
        }
      ],
      "source": [
        "dataset_2['Employee Code']=dataset_2['Employee Code'].astype(int)"
      ]
    },
    {
      "cell_type": "code",
      "execution_count": null,
      "metadata": {
        "colab": {
          "base_uri": "https://localhost:8080/"
        },
        "id": "RhM5mP0cnWjL",
        "outputId": "d1462ea1-87f0-46ff-82e6-85b61943da73"
      },
      "outputs": [
        {
          "name": "stderr",
          "output_type": "stream",
          "text": [
            "/usr/local/lib/python3.8/dist-packages/pandas/core/frame.py:4906: SettingWithCopyWarning: \n",
            "A value is trying to be set on a copy of a slice from a DataFrame\n",
            "\n",
            "See the caveats in the documentation: https://pandas.pydata.org/pandas-docs/stable/user_guide/indexing.html#returning-a-view-versus-a-copy\n",
            "  return super().drop(\n"
          ]
        }
      ],
      "source": [
        "#Removing the column values=0 as employee code cannot be 0.\n",
        "\n",
        "dataset_2.drop(dataset_2.loc[dataset_2['Employee Code']==0].index, inplace=True)\n"
      ]
    },
    {
      "cell_type": "code",
      "execution_count": null,
      "metadata": {
        "colab": {
          "base_uri": "https://localhost:8080/"
        },
        "id": "VPXH8YUALlZ1",
        "outputId": "9fa49a5e-0e17-47d2-be01-2d67aa1bff14"
      },
      "outputs": [
        {
          "data": {
            "text/plain": [
              "(760711, 827534)"
            ]
          },
          "execution_count": 22,
          "metadata": {},
          "output_type": "execute_result"
        }
      ],
      "source": [
        "#around 66823 datas from the datasets are dropped\n",
        "\n",
        "len(dataset_2), len(dataset_1)"
      ]
    },
    {
      "cell_type": "code",
      "execution_count": null,
      "metadata": {
        "colab": {
          "base_uri": "https://localhost:8080/"
        },
        "id": "ChYrptKono9E",
        "outputId": "72aec3e6-d59a-494d-8033-76f1b75b7a5f"
      },
      "outputs": [
        {
          "data": {
            "text/plain": [
              "391342    256882\n",
              "394965    174984\n",
              "97346     117426\n",
              "394269    114821\n",
              "382617     36765\n",
              "383138     27295\n",
              "394365     23922\n",
              "387268      8616\n",
              "Name: Employee Code, dtype: int64"
            ]
          },
          "execution_count": 23,
          "metadata": {},
          "output_type": "execute_result"
        }
      ],
      "source": [
        "dataset_2['Employee Code'].value_counts()"
      ]
    },
    {
      "cell_type": "code",
      "execution_count": null,
      "metadata": {
        "colab": {
          "base_uri": "https://localhost:8080/"
        },
        "id": "8TzSRy96M_0d",
        "outputId": "1e8c3048-e89d-4956-9cfe-d8622acbc3f9"
      },
      "outputs": [
        {
          "data": {
            "text/plain": [
              "0"
            ]
          },
          "execution_count": 24,
          "metadata": {},
          "output_type": "execute_result"
        }
      ],
      "source": [
        "# checking again Employee Code with zero\n",
        "len(dataset_2[dataset_2[\"Employee Code\"]==\"0\"])"
      ]
    },
    {
      "cell_type": "code",
      "execution_count": null,
      "metadata": {
        "colab": {
          "base_uri": "https://localhost:8080/"
        },
        "id": "6_UbHGQ5N2_a",
        "outputId": "c8599715-4f75-4e55-d9d6-5510919aa54a"
      },
      "outputs": [
        {
          "name": "stderr",
          "output_type": "stream",
          "text": [
            "/usr/local/lib/python3.8/dist-packages/pandas/core/indexing.py:1773: SettingWithCopyWarning: \n",
            "A value is trying to be set on a copy of a slice from a DataFrame.\n",
            "Try using .loc[row_indexer,col_indexer] = value instead\n",
            "\n",
            "See the caveats in the documentation: https://pandas.pydata.org/pandas-docs/stable/user_guide/indexing.html#returning-a-view-versus-a-copy\n",
            "  self._setitem_single_column(ilocs[0], value, pi)\n"
          ]
        }
      ],
      "source": [
        "# changing Employee Code values of 97346 to 397346\n",
        "dataset_2.replace({\"Employee Code\":{97346: 397346}}, inplace = True)"
      ]
    },
    {
      "cell_type": "code",
      "execution_count": null,
      "metadata": {
        "colab": {
          "base_uri": "https://localhost:8080/"
        },
        "id": "scP9vMGBoqtN",
        "outputId": "09c5a966-cc9c-4982-edcd-9240df80991c"
      },
      "outputs": [
        {
          "data": {
            "text/plain": [
              "391342    256882\n",
              "394965    174984\n",
              "397346    117426\n",
              "394269    114821\n",
              "382617     36765\n",
              "383138     27295\n",
              "394365     23922\n",
              "387268      8616\n",
              "Name: Employee Code, dtype: int64"
            ]
          },
          "execution_count": 26,
          "metadata": {},
          "output_type": "execute_result"
        }
      ],
      "source": [
        "dataset_2['Employee Code'].value_counts()"
      ]
    },
    {
      "cell_type": "markdown",
      "metadata": {
        "id": "ujLHy7cdCO7-"
      },
      "source": [
        "### *Data Cleaning in **Machine** Column*\n",
        "\n",
        "\n"
      ]
    },
    {
      "cell_type": "code",
      "execution_count": null,
      "metadata": {
        "colab": {
          "base_uri": "https://localhost:8080/"
        },
        "id": "my2JqnDn_u1K",
        "outputId": "3cee6749-793e-4d88-a17e-808ec3d34164"
      },
      "outputs": [
        {
          "data": {
            "text/plain": [
              "array(['TWLD23'], dtype=object)"
            ]
          },
          "execution_count": 27,
          "metadata": {},
          "output_type": "execute_result"
        }
      ],
      "source": [
        "dataset_2[\"Machine\"].unique()\n"
      ]
    },
    {
      "cell_type": "code",
      "execution_count": null,
      "metadata": {
        "colab": {
          "base_uri": "https://localhost:8080/"
        },
        "id": "TBt8l7gHqteG",
        "outputId": "94a3cf9e-3ba9-40bf-9430-977562a142c7"
      },
      "outputs": [
        {
          "data": {
            "text/plain": [
              "TWLD23    760711\n",
              "Name: Machine, dtype: int64"
            ]
          },
          "execution_count": 28,
          "metadata": {},
          "output_type": "execute_result"
        }
      ],
      "source": [
        "dataset_2['Machine'].value_counts()"
      ]
    },
    {
      "cell_type": "markdown",
      "metadata": {
        "id": "KGrzMSpLCjO6"
      },
      "source": [
        "### *Data Cleaning in **Production** Column*"
      ]
    },
    {
      "cell_type": "code",
      "execution_count": null,
      "metadata": {
        "colab": {
          "base_uri": "https://localhost:8080/"
        },
        "id": "fGs1b91TAmZP",
        "outputId": "65f5b688-d1fe-4a5b-c0c3-8a8dafeb6ac6"
      },
      "outputs": [
        {
          "data": {
            "text/plain": [
              "array(['E15002965', 'E15002966', 'E15003253', '-', 'E52009694',\n",
              "       'E15003244', 'E15003208', '15003062', 'E15003220', 'E15002881',\n",
              "       'E10002436', 'E50006711', 'E15003200', 'E15003202', 'E15003056',\n",
              "       'E15002963', 'E10002437', 'E15003219', 'E15003201', 'Test coopan',\n",
              "       '-15003217', -15003217, -150033027, 15003062], dtype=object)"
            ]
          },
          "execution_count": 29,
          "metadata": {},
          "output_type": "execute_result"
        }
      ],
      "source": [
        "dataset_2[\"Production\"].unique()"
      ]
    },
    {
      "cell_type": "code",
      "execution_count": null,
      "metadata": {
        "colab": {
          "base_uri": "https://localhost:8080/"
        },
        "id": "ekrl30kSrBMu",
        "outputId": "4660ad90-df1a-479e-bd11-8ddcd336c294"
      },
      "outputs": [
        {
          "data": {
            "text/plain": [
              "E15003244      150015\n",
              "E15003208       64481\n",
              "Test coopan     62184\n",
              "E15003202       49607\n",
              "-15003217       47337\n",
              "E15002881       46235\n",
              "E15002966       44189\n",
              "-150033027      43272\n",
              "E15003200       40890\n",
              "E15003219       29137\n",
              "E15003220       24526\n",
              "E15003201       24411\n",
              "E10002437       20787\n",
              "E52009694       17658\n",
              "15003062        16029\n",
              "E50006711       15473\n",
              "E15002963       14979\n",
              "E10002436       14761\n",
              "E15003056       10617\n",
              "E15002965       10153\n",
              "15003062         6863\n",
              "-15003217        5901\n",
              "-                 740\n",
              "E15003253         466\n",
              "Name: Production, dtype: int64"
            ]
          },
          "execution_count": 30,
          "metadata": {},
          "output_type": "execute_result"
        }
      ],
      "source": [
        "dataset_2['Production'].value_counts()"
      ]
    },
    {
      "cell_type": "code",
      "execution_count": null,
      "metadata": {
        "id": "1_j46OuHZyqz"
      },
      "outputs": [],
      "source": [
        "#removing Production values like 'test coupan', '-' which are not useful.\n",
        "\n",
        "dataset_2.drop(dataset_2.loc[dataset_2['Production']==('Test coopan')].index, inplace=True)\n",
        "dataset_2.drop(dataset_2.loc[dataset_2['Production']==('-')].index, inplace=True)\n"
      ]
    },
    {
      "cell_type": "code",
      "execution_count": null,
      "metadata": {
        "id": "0On7S6BPsMgt"
      },
      "outputs": [],
      "source": [
        "dataset_2.replace({'Production':{'-15003217':'E15003217'}}, inplace=True)\n",
        "dataset_2.replace({'Production':{-15003217:'E15003217'}}, inplace=True)\n",
        "dataset_2.replace({'Production':{-150033027:'E150033027'}}, inplace=True)\n",
        "dataset_2.replace({'Production':{15003062:'E15003062'}}, inplace=True)\n",
        "dataset_2.replace({'Production':{'15003062':'E15003062'}}, inplace=True)\n"
      ]
    },
    {
      "cell_type": "code",
      "execution_count": null,
      "metadata": {
        "colab": {
          "base_uri": "https://localhost:8080/"
        },
        "id": "7CI_TZegZu2x",
        "outputId": "20076d3d-45ba-47b4-c078-03493c2f8f1d"
      },
      "outputs": [
        {
          "data": {
            "text/plain": [
              "E15003244     150015\n",
              "E15003208      64481\n",
              "E15003217      53238\n",
              "E15003202      49607\n",
              "E15002881      46235\n",
              "E15002966      44189\n",
              "E150033027     43272\n",
              "E15003200      40890\n",
              "E15003219      29137\n",
              "E15003220      24526\n",
              "E15003201      24411\n",
              "E15003062      22892\n",
              "E10002437      20787\n",
              "E52009694      17658\n",
              "E50006711      15473\n",
              "E15002963      14979\n",
              "E10002436      14761\n",
              "E15003056      10617\n",
              "E15002965      10153\n",
              "E15003253        466\n",
              "Name: Production, dtype: int64"
            ]
          },
          "execution_count": 33,
          "metadata": {},
          "output_type": "execute_result"
        }
      ],
      "source": [
        "dataset_2['Production'].value_counts()"
      ]
    },
    {
      "cell_type": "markdown",
      "metadata": {
        "id": "5NQ3O72JDaMW"
      },
      "source": [
        "### *Data Cleaning in **Order Operation No** Column*"
      ]
    },
    {
      "cell_type": "code",
      "execution_count": null,
      "metadata": {
        "colab": {
          "base_uri": "https://localhost:8080/"
        },
        "id": "ZxfdEh1yBwwa",
        "outputId": "795e19d8-c893-476f-f387-6c84f92e3174"
      },
      "outputs": [
        {
          "data": {
            "text/plain": [
              "array(['240', 240, '-240', '130', 130, 180, 40, 30, '180-'], dtype=object)"
            ]
          },
          "execution_count": 34,
          "metadata": {},
          "output_type": "execute_result"
        }
      ],
      "source": [
        "dataset_2[\"Order Operation No\"].unique()"
      ]
    },
    {
      "cell_type": "code",
      "execution_count": null,
      "metadata": {
        "colab": {
          "base_uri": "https://localhost:8080/"
        },
        "id": "G2HTRRQcuCRY",
        "outputId": "b91cd285-ef12-47fb-c44a-0ee6820f3bb0"
      },
      "outputs": [
        {
          "data": {
            "text/plain": [
              "240     431561\n",
              "180     128646\n",
              "180-     53238\n",
              "40       35548\n",
              "130      16712\n",
              "30       15473\n",
              "240      15197\n",
              "130        946\n",
              "-240       466\n",
              "Name: Order Operation No, dtype: int64"
            ]
          },
          "execution_count": 35,
          "metadata": {},
          "output_type": "execute_result"
        }
      ],
      "source": [
        "dataset_2['Order Operation No'].value_counts()"
      ]
    },
    {
      "cell_type": "code",
      "execution_count": null,
      "metadata": {
        "id": "9eg5w7oSuVtI"
      },
      "outputs": [],
      "source": [
        "dataset_2.replace({'Order Operation No':{'240':240 ,'180-':180 , '130':130 , '-240':240 }}, inplace=True)"
      ]
    },
    {
      "cell_type": "code",
      "execution_count": null,
      "metadata": {
        "colab": {
          "base_uri": "https://localhost:8080/"
        },
        "id": "kuTr2Vyzu3Ml",
        "outputId": "0316ac25-393e-4738-9945-038d3c6448fd"
      },
      "outputs": [
        {
          "data": {
            "text/plain": [
              "240    447224\n",
              "180    181884\n",
              "40      35548\n",
              "130     17658\n",
              "30      15473\n",
              "Name: Order Operation No, dtype: int64"
            ]
          },
          "execution_count": 37,
          "metadata": {},
          "output_type": "execute_result"
        }
      ],
      "source": [
        "dataset_2['Order Operation No'].value_counts()"
      ]
    },
    {
      "cell_type": "code",
      "execution_count": null,
      "metadata": {
        "colab": {
          "base_uri": "https://localhost:8080/"
        },
        "id": "ovRJS5UEu7XG",
        "outputId": "15f2dcb8-16ad-4ead-a237-f3e3864a274f"
      },
      "outputs": [
        {
          "name": "stderr",
          "output_type": "stream",
          "text": [
            "<ipython-input-38-8017900e7b6f>:1: SettingWithCopyWarning: \n",
            "A value is trying to be set on a copy of a slice from a DataFrame.\n",
            "Try using .loc[row_indexer,col_indexer] = value instead\n",
            "\n",
            "See the caveats in the documentation: https://pandas.pydata.org/pandas-docs/stable/user_guide/indexing.html#returning-a-view-versus-a-copy\n",
            "  dataset_2['Order Operation No']=dataset_2['Order Operation No'].astype(int)\n"
          ]
        }
      ],
      "source": [
        "dataset_2['Order Operation No']=dataset_2['Order Operation No'].astype(int)"
      ]
    },
    {
      "cell_type": "markdown",
      "metadata": {
        "id": "nWUcT-oBDmFz"
      },
      "source": [
        "### *Data Cleaning in **Date** Column*"
      ]
    },
    {
      "cell_type": "code",
      "execution_count": null,
      "metadata": {
        "colab": {
          "base_uri": "https://localhost:8080/"
        },
        "id": "j7qWPFZPD7PB",
        "outputId": "babd09fa-7d61-4703-eb0c-a47058fd0c03"
      },
      "outputs": [
        {
          "data": {
            "text/plain": [
              "array(['10-09-2022', '12-09-2022', '13-09-2022', '14-09-2022',\n",
              "       '15-09-2022', '16-09-2022', '17-09-2022', '19-09-2022',\n",
              "       '30-08-2022', '01-09-2022', '02-09-2022', '03-09-2022',\n",
              "       '05-09-2022', '06-09-2022', '07-09-2022', '08-09-2022',\n",
              "       '09-09-2022', '22-08-2022', '23-08-2022', '26-08-2022',\n",
              "       '27-08-2022', '29-08-2022'], dtype=object)"
            ]
          },
          "execution_count": 39,
          "metadata": {},
          "output_type": "execute_result"
        }
      ],
      "source": [
        "dataset_2[\"Date\"].unique()"
      ]
    },
    {
      "cell_type": "code",
      "execution_count": null,
      "metadata": {
        "colab": {
          "base_uri": "https://localhost:8080/"
        },
        "id": "q3U65Gm1vT8Z",
        "outputId": "71498daf-c332-4b5d-fa9c-e859db5a0898"
      },
      "outputs": [
        {
          "data": {
            "text/plain": [
              "06-09-2022    49879\n",
              "14-09-2022    47698\n",
              "07-09-2022    47587\n",
              "08-09-2022    42636\n",
              "26-08-2022    42282\n",
              "10-09-2022    40992\n",
              "16-09-2022    40187\n",
              "29-08-2022    38332\n",
              "15-09-2022    34591\n",
              "05-09-2022    34100\n",
              "19-09-2022    32315\n",
              "17-09-2022    32166\n",
              "27-08-2022    31925\n",
              "09-09-2022    31699\n",
              "12-09-2022    31474\n",
              "03-09-2022    27593\n",
              "13-09-2022    27539\n",
              "01-09-2022    24855\n",
              "30-08-2022    18165\n",
              "02-09-2022    10682\n",
              "22-08-2022     9202\n",
              "23-08-2022     1888\n",
              "Name: Date, dtype: int64"
            ]
          },
          "execution_count": 40,
          "metadata": {},
          "output_type": "execute_result"
        }
      ],
      "source": [
        "dataset_2['Date'].value_counts()"
      ]
    },
    {
      "cell_type": "markdown",
      "metadata": {
        "id": "jf_XFdF-v2Co"
      },
      "source": [
        "### *Data Cleaning in **Current** Column*"
      ]
    },
    {
      "cell_type": "code",
      "execution_count": null,
      "metadata": {
        "colab": {
          "base_uri": "https://localhost:8080/"
        },
        "id": "7C8D7sfpEbbO",
        "outputId": "1e22fa57-dad0-4a39-9d68-b48eb5f9dfb1"
      },
      "outputs": [
        {
          "data": {
            "text/plain": [
              "array(['1.13', '1.82', '2.91', ..., 80.26, 77.9, 79.33], dtype=object)"
            ]
          },
          "execution_count": 41,
          "metadata": {},
          "output_type": "execute_result"
        }
      ],
      "source": [
        "dataset_2[\"Current\"].unique()"
      ]
    },
    {
      "cell_type": "code",
      "execution_count": null,
      "metadata": {
        "colab": {
          "base_uri": "https://localhost:8080/"
        },
        "id": "7-bXtX62v-by",
        "outputId": "c73090cf-bdf6-456c-874f-dfbc1d6c1563"
      },
      "outputs": [
        {
          "data": {
            "text/plain": [
              "10.11    10164\n",
              "0.43      1715\n",
              "0.4       1670\n",
              "0.55      1661\n",
              "0.51      1625\n",
              "         ...  \n",
              "36.3         1\n",
              "29.85        1\n",
              "28.46        1\n",
              "4            1\n",
              "79.33        1\n",
              "Name: Current, Length: 8915, dtype: int64"
            ]
          },
          "execution_count": 42,
          "metadata": {},
          "output_type": "execute_result"
        }
      ],
      "source": [
        "dataset_2[\"Current\"].value_counts()"
      ]
    },
    {
      "cell_type": "code",
      "execution_count": null,
      "metadata": {
        "id": "xRBjt4frvxS1"
      },
      "outputs": [],
      "source": [
        "dataset_2.drop(dataset_2.loc[dataset_2['Current']==0].index, inplace=True)"
      ]
    },
    {
      "cell_type": "code",
      "execution_count": null,
      "metadata": {
        "colab": {
          "base_uri": "https://localhost:8080/"
        },
        "id": "tVm8oOqewTm2",
        "outputId": "a3bf67ed-905e-43f3-9e2f-4e1845b94073"
      },
      "outputs": [
        {
          "name": "stderr",
          "output_type": "stream",
          "text": [
            "<ipython-input-44-e9731fafa390>:1: SettingWithCopyWarning: \n",
            "A value is trying to be set on a copy of a slice from a DataFrame.\n",
            "Try using .loc[row_indexer,col_indexer] = value instead\n",
            "\n",
            "See the caveats in the documentation: https://pandas.pydata.org/pandas-docs/stable/user_guide/indexing.html#returning-a-view-versus-a-copy\n",
            "  dataset_2['Current']=dataset_2['Current'].astype(float)\n"
          ]
        }
      ],
      "source": [
        "dataset_2['Current']=dataset_2['Current'].astype(float)"
      ]
    },
    {
      "cell_type": "markdown",
      "metadata": {
        "id": "lN9vnxFHwOq4"
      },
      "source": [
        "### *Data Cleaning in **Humidity** Column*"
      ]
    },
    {
      "cell_type": "code",
      "execution_count": null,
      "metadata": {
        "colab": {
          "base_uri": "https://localhost:8080/"
        },
        "id": "aOiGBQCaEl_O",
        "outputId": "f7f3774d-c569-4de2-cb02-32d360ae5086"
      },
      "outputs": [
        {
          "data": {
            "text/plain": [
              "array(['74', '73', '72', '71', '77', '76', '78', '0', '79', '80', '81',\n",
              "       '82', 78, 77, 79, 80, 64, 0, 76, 99, 75, 73, 72, 74, 81, 82, 83,\n",
              "       85, 84, 171, 2444, 86, 87, 88, 158, 52, 71, 70, 69, 40, 68, 67, 90,\n",
              "       66, 63, 62, 65, 61, 60, 59, 53, 39, 149, 58, 56, 89, 314, 38, 37,\n",
              "       30, 33, 31, 118, 57], dtype=object)"
            ]
          },
          "execution_count": 45,
          "metadata": {},
          "output_type": "execute_result"
        }
      ],
      "source": [
        "dataset_2[\"Humidity\"].unique()"
      ]
    },
    {
      "cell_type": "code",
      "execution_count": null,
      "metadata": {
        "colab": {
          "base_uri": "https://localhost:8080/"
        },
        "id": "RTp7c3vvEvZW",
        "outputId": "6962d093-190c-4508-d4d3-8ed90c2f8fd7"
      },
      "outputs": [
        {
          "data": {
            "text/plain": [
              "78     72819\n",
              "77     68028\n",
              "76     64170\n",
              "79     48333\n",
              "75     46742\n",
              "       ...  \n",
              "30         3\n",
              "171        3\n",
              "31         3\n",
              "76         3\n",
              "56         1\n",
              "Name: Humidity, Length: 64, dtype: int64"
            ]
          },
          "execution_count": 46,
          "metadata": {},
          "output_type": "execute_result"
        }
      ],
      "source": [
        "dataset_2[\"Humidity\"].value_counts()"
      ]
    },
    {
      "cell_type": "code",
      "execution_count": null,
      "metadata": {
        "colab": {
          "base_uri": "https://localhost:8080/"
        },
        "id": "pU-bDcB8vJrU",
        "outputId": "1e3fdf33-059d-42ab-c01d-fce242a2644c"
      },
      "outputs": [
        {
          "name": "stderr",
          "output_type": "stream",
          "text": [
            "<ipython-input-47-b8a1334c1384>:1: SettingWithCopyWarning: \n",
            "A value is trying to be set on a copy of a slice from a DataFrame.\n",
            "Try using .loc[row_indexer,col_indexer] = value instead\n",
            "\n",
            "See the caveats in the documentation: https://pandas.pydata.org/pandas-docs/stable/user_guide/indexing.html#returning-a-view-versus-a-copy\n",
            "  dataset_2['Humidity']=dataset_2['Humidity'].astype(int)\n"
          ]
        }
      ],
      "source": [
        "dataset_2['Humidity']=dataset_2['Humidity'].astype(int)"
      ]
    },
    {
      "cell_type": "markdown",
      "metadata": {
        "id": "v5GZlpKBwnxn"
      },
      "source": [
        "### *Data Cleaning in **Flow** Column*\n"
      ]
    },
    {
      "cell_type": "code",
      "execution_count": null,
      "metadata": {
        "colab": {
          "base_uri": "https://localhost:8080/"
        },
        "id": "BfGCiY8qFJce",
        "outputId": "fc366ff3-89f2-477b-d60a-6bca414e6638"
      },
      "outputs": [
        {
          "data": {
            "text/plain": [
              "array(['0.01', '0', '0.04', ..., 9.67, 9.74, 10.17], dtype=object)"
            ]
          },
          "execution_count": 48,
          "metadata": {},
          "output_type": "execute_result"
        }
      ],
      "source": [
        "dataset_2[\"Flow\"].unique()"
      ]
    },
    {
      "cell_type": "code",
      "execution_count": null,
      "metadata": {
        "colab": {
          "base_uri": "https://localhost:8080/"
        },
        "id": "pk7jQCN3FUNU",
        "outputId": "950a58ae-41ce-44b2-c59b-7e6b422f2a3d"
      },
      "outputs": [
        {
          "data": {
            "text/plain": [
              "0.0      174770\n",
              "0.01       7419\n",
              "0          6871\n",
              "0.02       6318\n",
              "0.03       5401\n",
              "          ...  \n",
              "5.85          1\n",
              "5.89          1\n",
              "12.69         1\n",
              "6.79          1\n",
              "5.8           1\n",
              "Name: Flow, Length: 1022, dtype: int64"
            ]
          },
          "execution_count": 49,
          "metadata": {},
          "output_type": "execute_result"
        }
      ],
      "source": [
        "dataset_2[\"Flow\"].value_counts()"
      ]
    },
    {
      "cell_type": "code",
      "execution_count": null,
      "metadata": {
        "colab": {
          "base_uri": "https://localhost:8080/"
        },
        "id": "ONihNM1XwJ53",
        "outputId": "8c4f37f3-ff41-450f-c00e-fd8df13bf382"
      },
      "outputs": [
        {
          "name": "stderr",
          "output_type": "stream",
          "text": [
            "<ipython-input-50-9d04bc4bb7b2>:1: SettingWithCopyWarning: \n",
            "A value is trying to be set on a copy of a slice from a DataFrame.\n",
            "Try using .loc[row_indexer,col_indexer] = value instead\n",
            "\n",
            "See the caveats in the documentation: https://pandas.pydata.org/pandas-docs/stable/user_guide/indexing.html#returning-a-view-versus-a-copy\n",
            "  dataset_2['Flow']=dataset_2['Flow'].astype(float)\n"
          ]
        }
      ],
      "source": [
        "dataset_2['Flow']=dataset_2['Flow'].astype(float)"
      ]
    },
    {
      "cell_type": "markdown",
      "metadata": {
        "id": "wmETg5kCwrhO"
      },
      "source": [
        "### *Data Cleaning in **Job Type** Column*"
      ]
    },
    {
      "cell_type": "code",
      "execution_count": null,
      "metadata": {
        "colab": {
          "base_uri": "https://localhost:8080/"
        },
        "id": "PfdtkJs5Fe44",
        "outputId": "57986216-e31c-4bfe-8b0c-e7c6e2004004"
      },
      "outputs": [
        {
          "data": {
            "text/plain": [
              "array(['29.3', '27.8', '28', ..., 1635.9, 100.3, 3274.9], dtype=object)"
            ]
          },
          "execution_count": 51,
          "metadata": {},
          "output_type": "execute_result"
        }
      ],
      "source": [
        "dataset_2[\"Job Temp\"].unique()"
      ]
    },
    {
      "cell_type": "code",
      "execution_count": null,
      "metadata": {
        "colab": {
          "base_uri": "https://localhost:8080/"
        },
        "id": "Wejq1Wd7w3TP",
        "outputId": "910fc069-9df3-4685-86d5-7fbab7f3b5b3"
      },
      "outputs": [
        {
          "data": {
            "text/plain": [
              "31.2      61543\n",
              "56.8      34369\n",
              "30.9      10279\n",
              "30.6      10089\n",
              "30.7      10003\n",
              "          ...  \n",
              "204.5         1\n",
              "3270.3        1\n",
              "200.3         1\n",
              "797.6         1\n",
              "50.7          1\n",
              "Name: Job Temp, Length: 1373, dtype: int64"
            ]
          },
          "execution_count": 52,
          "metadata": {},
          "output_type": "execute_result"
        }
      ],
      "source": [
        "dataset_2[\"Job Temp\"].value_counts()"
      ]
    },
    {
      "cell_type": "code",
      "execution_count": null,
      "metadata": {
        "colab": {
          "base_uri": "https://localhost:8080/"
        },
        "id": "1HzyCmcDwcRB",
        "outputId": "21caadcb-11c6-4a38-c989-f0b5c8bbd58a"
      },
      "outputs": [
        {
          "name": "stderr",
          "output_type": "stream",
          "text": [
            "<ipython-input-53-54ca7e49f47d>:1: SettingWithCopyWarning: \n",
            "A value is trying to be set on a copy of a slice from a DataFrame.\n",
            "Try using .loc[row_indexer,col_indexer] = value instead\n",
            "\n",
            "See the caveats in the documentation: https://pandas.pydata.org/pandas-docs/stable/user_guide/indexing.html#returning-a-view-versus-a-copy\n",
            "  dataset_2['Job Temp']=dataset_2['Job Temp'].astype(float)\n"
          ]
        }
      ],
      "source": [
        "dataset_2['Job Temp']=dataset_2['Job Temp'].astype(float)"
      ]
    },
    {
      "cell_type": "markdown",
      "metadata": {
        "id": "VWBmaPYHztwY"
      },
      "source": [
        "### *Data Cleaning in **Voltage** Column*"
      ]
    },
    {
      "cell_type": "code",
      "execution_count": null,
      "metadata": {
        "colab": {
          "base_uri": "https://localhost:8080/"
        },
        "id": "9lLGU8nXyO_v",
        "outputId": "0ebec6e4-158f-4ee9-ce4c-b070af040dbd"
      },
      "outputs": [
        {
          "data": {
            "text/plain": [
              "array(['15.2', '0', '9.062', ..., 24.137, 20.095, 5.896], dtype=object)"
            ]
          },
          "execution_count": 54,
          "metadata": {},
          "output_type": "execute_result"
        }
      ],
      "source": [
        "dataset_2[\"Voltage\"].unique()"
      ]
    },
    {
      "cell_type": "code",
      "execution_count": null,
      "metadata": {
        "colab": {
          "base_uri": "https://localhost:8080/"
        },
        "id": "rm3l4eBRwn-M",
        "outputId": "dfa3f9a6-27e2-4f72-f684-a58e5a415638"
      },
      "outputs": [
        {
          "name": "stderr",
          "output_type": "stream",
          "text": [
            "<ipython-input-55-3906a40e5952>:1: SettingWithCopyWarning: \n",
            "A value is trying to be set on a copy of a slice from a DataFrame.\n",
            "Try using .loc[row_indexer,col_indexer] = value instead\n",
            "\n",
            "See the caveats in the documentation: https://pandas.pydata.org/pandas-docs/stable/user_guide/indexing.html#returning-a-view-versus-a-copy\n",
            "  dataset_2['Voltage']=dataset_2['Voltage'].astype(float)\n"
          ]
        }
      ],
      "source": [
        "dataset_2['Voltage']=dataset_2['Voltage'].astype(float)"
      ]
    },
    {
      "cell_type": "code",
      "execution_count": null,
      "metadata": {
        "colab": {
          "base_uri": "https://localhost:8080/"
        },
        "id": "fG14IPtwyV23",
        "outputId": "13d6e5ac-782b-4b47-fbfb-6e38504d46f2"
      },
      "outputs": [
        {
          "data": {
            "text/plain": [
              " 0.000     470906\n",
              " 12.408      3738\n",
              " 11.874       440\n",
              " 9.235        214\n",
              " 8.948        205\n",
              "            ...  \n",
              "-0.340          1\n",
              " 3.542          1\n",
              " 16.174         1\n",
              " 13.352         1\n",
              " 5.896          1\n",
              "Name: Voltage, Length: 12252, dtype: int64"
            ]
          },
          "execution_count": 56,
          "metadata": {},
          "output_type": "execute_result"
        }
      ],
      "source": [
        "dataset_2[\"Voltage\"].value_counts()"
      ]
    },
    {
      "cell_type": "code",
      "execution_count": null,
      "metadata": {
        "id": "FiDWqbgXyfug"
      },
      "outputs": [],
      "source": [
        "dataset_2.replace({'Voltage':{0:0.0}}, inplace=True)\n",
        "dataset_2.replace({'Voltage':{'0':0.0}}, inplace=True)"
      ]
    },
    {
      "cell_type": "code",
      "execution_count": null,
      "metadata": {
        "colab": {
          "base_uri": "https://localhost:8080/"
        },
        "id": "DQdHb5KxysGI",
        "outputId": "5c4738cd-5e6f-4665-fa27-6d5a89ff9da0"
      },
      "outputs": [
        {
          "data": {
            "text/plain": [
              " 0.000     470906\n",
              " 12.408      3738\n",
              " 11.874       440\n",
              " 9.235        214\n",
              " 8.948        205\n",
              "            ...  \n",
              "-0.340          1\n",
              " 3.542          1\n",
              " 16.174         1\n",
              " 13.352         1\n",
              " 5.896          1\n",
              "Name: Voltage, Length: 12252, dtype: int64"
            ]
          },
          "execution_count": 58,
          "metadata": {},
          "output_type": "execute_result"
        }
      ],
      "source": [
        "dataset_2[\"Voltage\"].value_counts()"
      ]
    },
    {
      "cell_type": "markdown",
      "metadata": {
        "id": "Tn044q8oycg-"
      },
      "source": [
        "### *Data Cleaning in **Temperature** Column*"
      ]
    },
    {
      "cell_type": "code",
      "execution_count": null,
      "metadata": {
        "colab": {
          "base_uri": "https://localhost:8080/"
        },
        "id": "GFTocbOFyf1V",
        "outputId": "3af78da7-a809-4a09-a407-72f702df1eb7"
      },
      "outputs": [
        {
          "data": {
            "text/plain": [
              "array(['23', '0', '24', 23, 24, 129, 12, 0, 25, 26, 50, 828, 31, -12, 27,\n",
              "       48, 22, -13, 54, 13, 64, 96, 21, -11, 11, 49], dtype=object)"
            ]
          },
          "execution_count": 59,
          "metadata": {},
          "output_type": "execute_result"
        }
      ],
      "source": [
        "dataset_2[\"Temperature\"].unique()"
      ]
    },
    {
      "cell_type": "code",
      "execution_count": null,
      "metadata": {
        "colab": {
          "base_uri": "https://localhost:8080/"
        },
        "id": "WRYxaJsCylU5",
        "outputId": "8b88f61b-6be0-4b7c-ea3f-a94c5a7d1337"
      },
      "outputs": [
        {
          "data": {
            "text/plain": [
              "24     303951\n",
              "25     200219\n",
              "23     108991\n",
              "26      43049\n",
              "22      15943\n",
              "23       7483\n",
              "27       7311\n",
              "0        6873\n",
              "21       1390\n",
              "24        699\n",
              "-13       436\n",
              "129       172\n",
              "12         33\n",
              "-12         9\n",
              "0           9\n",
              "-11         8\n",
              "828         4\n",
              "13          4\n",
              "96          4\n",
              "11          4\n",
              "49          4\n",
              "48          3\n",
              "31          3\n",
              "54          3\n",
              "50          3\n",
              "64          1\n",
              "Name: Temperature, dtype: int64"
            ]
          },
          "execution_count": 60,
          "metadata": {},
          "output_type": "execute_result"
        }
      ],
      "source": [
        "dataset_2[\"Temperature\"].value_counts()"
      ]
    },
    {
      "cell_type": "code",
      "execution_count": null,
      "metadata": {
        "colab": {
          "base_uri": "https://localhost:8080/"
        },
        "id": "jMRgcsDyv7-m",
        "outputId": "8e6cc89b-dd1d-4e3a-cf63-733f5454f464"
      },
      "outputs": [
        {
          "name": "stderr",
          "output_type": "stream",
          "text": [
            "<ipython-input-61-5e824f45f23b>:1: SettingWithCopyWarning: \n",
            "A value is trying to be set on a copy of a slice from a DataFrame.\n",
            "Try using .loc[row_indexer,col_indexer] = value instead\n",
            "\n",
            "See the caveats in the documentation: https://pandas.pydata.org/pandas-docs/stable/user_guide/indexing.html#returning-a-view-versus-a-copy\n",
            "  dataset_2['Temperature']=dataset_2['Temperature'].astype(int)\n"
          ]
        }
      ],
      "source": [
        "dataset_2['Temperature']=dataset_2['Temperature'].astype(int)"
      ]
    },
    {
      "cell_type": "markdown",
      "metadata": {
        "id": "iIaDzlDnwukP"
      },
      "source": [
        "### *Data Cleaning in **Defect** Column*"
      ]
    },
    {
      "cell_type": "code",
      "execution_count": null,
      "metadata": {
        "colab": {
          "base_uri": "https://localhost:8080/"
        },
        "id": "Qq9jyEmkFnzg",
        "outputId": "0f268006-df66-498e-d3a1-2700d968e184"
      },
      "outputs": [
        {
          "data": {
            "text/plain": [
              "array(['No Defect', 'Tungsten Inclusion', 'No Defect73',\n",
              "       'Tungsten Inclusion72', 'No Defect72', 'No Defect77',\n",
              "       'No Defect79', 'No Defect80', 'Porosity', 'No Defect78',\n",
              "       'No Defect76', 'No Defect0', 'No Defect82', 'No Defect85',\n",
              "       'No Defect84', 'No Defect83', 'No Defect81', 'No Defect75',\n",
              "       'No Defect86', 'Porosity86', 'No Defect87', 'Tungsten Inclusion78',\n",
              "       'No Defect74', 'No Defect99', 'Porosity75', 'Tungsten Inclusion77',\n",
              "       'No Defect71', 'No Defect40', 'Porosity80', 'No Defect70',\n",
              "       'No Defect68', 'No Defect90', 'Tungsten Inclusion80',\n",
              "       'No Defect69', 'No Defect67', 'No Defect63', 'No Defect64',\n",
              "       'No Defect65', 'No Defect62', 'No Defect61', 'No Defect60',\n",
              "       'No Defect59', 'Porosity76', 'No Defect66', 'Tungsten Inclusion71',\n",
              "       'No Defect88', 'Tungsten Inclusion67', 'Tungsten Inclusion75',\n",
              "       'Tungsten Inclusion76', 'Porosity71', 'No Defect58', 'No Defect57'],\n",
              "      dtype=object)"
            ]
          },
          "execution_count": 62,
          "metadata": {},
          "output_type": "execute_result"
        }
      ],
      "source": [
        "dataset_2[\"Defect\"].unique()"
      ]
    },
    {
      "cell_type": "code",
      "execution_count": null,
      "metadata": {
        "colab": {
          "base_uri": "https://localhost:8080/"
        },
        "id": "gR4XiiLUF7cM",
        "outputId": "f09a37fd-1f0a-4407-8221-0ec1f0244cac"
      },
      "outputs": [
        {
          "data": {
            "text/plain": [
              "No Defect               689539\n",
              "Tungsten Inclusion        4206\n",
              "Porosity                   976\n",
              "No Defect77                204\n",
              "No Defect78                199\n",
              "No Defect76                144\n",
              "No Defect79                130\n",
              "No Defect80                105\n",
              "No Defect75                 96\n",
              "No Defect81                 92\n",
              "No Defect0                  86\n",
              "No Defect72                 79\n",
              "No Defect73                 78\n",
              "No Defect71                 75\n",
              "No Defect67                 59\n",
              "No Defect65                 51\n",
              "No Defect70                 49\n",
              "No Defect83                 48\n",
              "No Defect74                 47\n",
              "No Defect68                 46\n",
              "No Defect66                 40\n",
              "No Defect69                 37\n",
              "No Defect82                 37\n",
              "No Defect64                 31\n",
              "No Defect84                 25\n",
              "No Defect63                 24\n",
              "No Defect85                 21\n",
              "No Defect61                 15\n",
              "No Defect58                  9\n",
              "No Defect62                  7\n",
              "No Defect87                  7\n",
              "No Defect86                  7\n",
              "No Defect90                  7\n",
              "No Defect57                  6\n",
              "No Defect60                  4\n",
              "No Defect59                  4\n",
              "Tungsten Inclusion78         2\n",
              "No Defect88                  2\n",
              "Tungsten Inclusion77         2\n",
              "Porosity75                   1\n",
              "Tungsten Inclusion72         1\n",
              "No Defect99                  1\n",
              "Porosity76                   1\n",
              "Tungsten Inclusion80         1\n",
              "Tungsten Inclusion71         1\n",
              "Porosity86                   1\n",
              "Tungsten Inclusion67         1\n",
              "Tungsten Inclusion75         1\n",
              "Tungsten Inclusion76         1\n",
              "Porosity71                   1\n",
              "No Defect40                  1\n",
              "Porosity80                   1\n",
              "Name: Defect, dtype: int64"
            ]
          },
          "execution_count": 63,
          "metadata": {},
          "output_type": "execute_result"
        }
      ],
      "source": [
        "dataset_2[\"Defect\"].value_counts()"
      ]
    },
    {
      "cell_type": "code",
      "execution_count": null,
      "metadata": {
        "id": "R8moC1UfxEIp"
      },
      "outputs": [],
      "source": [
        "dataset_2.replace({'Defect':{'No Defect77':'No Defect',\n",
        "                    'No Defect77':'No Defect','No Defect67':'No Defect',\n",
        "                    'No Defect78':'No Defect','No Defect71':'No Defect',\n",
        "                    'No Defect79':'No Defect','No Defect73':'No Defect',\n",
        "                    'No Defect59':'No Defect','No Defect72':'No Defect',\n",
        "                    'No Defect60':'No Defect','No Defect0':'No Defect',\n",
        "                    'No Defect57':'No Defect','No Defect81':'No Defect',\n",
        "                    'No Defect90':'No Defect','No Defect75':'No Defect',\n",
        "                    'No Defect86':'No Defect','No Defect80':'No Defect',\n",
        "                    'No Defect87':'No Defect','No Defect88':'No Defect',\n",
        "                    'No Defect62':'No Defect','No Defect76':'No Defect',\n",
        "                    'No Defect58':'No Defect','No Defect40':'No Defect',\n",
        "                    'No Defect61':'No Defect','No Defect99':'No Defect',\n",
        "                    'No Defect85':'No Defect','Tungsten Inclusion78':'Tungsten Inclusion',\n",
        "                    'No Defect63':'No Defect','Tungsten Inclusion77':'Tungsten Inclusion',\n",
        "                    'No Defect84':'No Defect','Tungsten Inclusion72':'Tungsten Inclusion',\n",
        "                    'No Defect64':'No Defect','Tungsten Inclusion80':'Tungsten Inclusion',\n",
        "                    'No Defect82':'No Defect','Tungsten Inclusion71':'Tungsten Inclusion',\n",
        "                    'No Defect69':'No Defect','Tungsten Inclusion67':'Tungsten Inclusion',\n",
        "                    'No Defect66':'No Defect','Tungsten Inclusion75':'Tungsten Inclusion',\n",
        "                    'No Defect68':'No Defect','Tungsten Inclusion76':'Tungsten Inclusion',\n",
        "                    'No Defect74':'No Defect','Porosity86':'Porosity',\n",
        "                    'No Defect83':'No Defect','Porosity75':'Porosity',\n",
        "                    'No Defect70':'No Defect','Porosity80':'Porosity',\n",
        "                    'No Defect65':'No Defect','Porosity76':'Porosity',\n",
        "                    'Porosity71':'Porosity',\n",
        "\n",
        "\n",
        "                  }}, inplace=True)"
      ]
    },
    {
      "cell_type": "code",
      "execution_count": null,
      "metadata": {
        "colab": {
          "base_uri": "https://localhost:8080/"
        },
        "id": "mXM9nia82_GS",
        "outputId": "0da10513-dcc0-41ba-fb21-f12724316ce9"
      },
      "outputs": [
        {
          "data": {
            "text/plain": [
              "No Defect             691412\n",
              "Tungsten Inclusion      4216\n",
              "Porosity                 981\n",
              "Name: Defect, dtype: int64"
            ]
          },
          "execution_count": 65,
          "metadata": {},
          "output_type": "execute_result"
        }
      ],
      "source": [
        "dataset_2[\"Defect\"].value_counts()"
      ]
    },
    {
      "cell_type": "markdown",
      "metadata": {
        "id": "d6h762no7br3"
      },
      "source": [
        "**Our dataset seems to be imbalanced**"
      ]
    },
    {
      "cell_type": "code",
      "execution_count": null,
      "metadata": {
        "id": "NwkYjUid7T1v"
      },
      "outputs": [],
      "source": [
        "dataset_2.replace({'Defect':{'No Defect':0, 'Tungsten Inclusion':1, 'Porosity':2 }}, inplace=True)"
      ]
    },
    {
      "cell_type": "code",
      "execution_count": null,
      "metadata": {
        "colab": {
          "base_uri": "https://localhost:8080/",
          "height": 659
        },
        "id": "YqKZD3_OPZmL",
        "outputId": "210b0cad-b555-4601-f1a5-70e51d885b07"
      },
      "outputs": [
        {
          "data": {
            "text/html": [
              "\n",
              "  <div id=\"df-561365e5-9975-4699-9664-efcca60fc39e\">\n",
              "    <div class=\"colab-df-container\">\n",
              "      <div>\n",
              "<style scoped>\n",
              "    .dataframe tbody tr th:only-of-type {\n",
              "        vertical-align: middle;\n",
              "    }\n",
              "\n",
              "    .dataframe tbody tr th {\n",
              "        vertical-align: top;\n",
              "    }\n",
              "\n",
              "    .dataframe thead th {\n",
              "        text-align: right;\n",
              "    }\n",
              "</style>\n",
              "<table border=\"1\" class=\"dataframe\">\n",
              "  <thead>\n",
              "    <tr style=\"text-align: right;\">\n",
              "      <th></th>\n",
              "      <th>Employee Code</th>\n",
              "      <th>Machine</th>\n",
              "      <th>Production</th>\n",
              "      <th>Order Operation No</th>\n",
              "      <th>Date</th>\n",
              "      <th>Time</th>\n",
              "      <th>Current</th>\n",
              "      <th>Humidity</th>\n",
              "      <th>Temperature</th>\n",
              "      <th>Flow</th>\n",
              "      <th>Job Temp</th>\n",
              "      <th>Voltage</th>\n",
              "      <th>Defect</th>\n",
              "    </tr>\n",
              "  </thead>\n",
              "  <tbody>\n",
              "    <tr>\n",
              "      <th>1</th>\n",
              "      <td>382617</td>\n",
              "      <td>TWLD23</td>\n",
              "      <td>E15002965</td>\n",
              "      <td>240</td>\n",
              "      <td>10-09-2022</td>\n",
              "      <td>7:32:28:527</td>\n",
              "      <td>1.13</td>\n",
              "      <td>74</td>\n",
              "      <td>23</td>\n",
              "      <td>0.01</td>\n",
              "      <td>29.3</td>\n",
              "      <td>15.2</td>\n",
              "      <td>0</td>\n",
              "    </tr>\n",
              "    <tr>\n",
              "      <th>2</th>\n",
              "      <td>382617</td>\n",
              "      <td>TWLD23</td>\n",
              "      <td>E15002965</td>\n",
              "      <td>240</td>\n",
              "      <td>10-09-2022</td>\n",
              "      <td>7:32:29:40</td>\n",
              "      <td>1.82</td>\n",
              "      <td>74</td>\n",
              "      <td>23</td>\n",
              "      <td>0.00</td>\n",
              "      <td>29.3</td>\n",
              "      <td>0.0</td>\n",
              "      <td>1</td>\n",
              "    </tr>\n",
              "    <tr>\n",
              "      <th>3</th>\n",
              "      <td>382617</td>\n",
              "      <td>TWLD23</td>\n",
              "      <td>E15002965</td>\n",
              "      <td>240</td>\n",
              "      <td>10-09-2022</td>\n",
              "      <td>7:32:29:677</td>\n",
              "      <td>2.91</td>\n",
              "      <td>74</td>\n",
              "      <td>23</td>\n",
              "      <td>0.00</td>\n",
              "      <td>29.3</td>\n",
              "      <td>0.0</td>\n",
              "      <td>0</td>\n",
              "    </tr>\n",
              "    <tr>\n",
              "      <th>4</th>\n",
              "      <td>382617</td>\n",
              "      <td>TWLD23</td>\n",
              "      <td>E15002965</td>\n",
              "      <td>240</td>\n",
              "      <td>10-09-2022</td>\n",
              "      <td>7:32:30:166</td>\n",
              "      <td>0.04</td>\n",
              "      <td>74</td>\n",
              "      <td>23</td>\n",
              "      <td>0.00</td>\n",
              "      <td>29.3</td>\n",
              "      <td>0.0</td>\n",
              "      <td>0</td>\n",
              "    </tr>\n",
              "    <tr>\n",
              "      <th>5</th>\n",
              "      <td>382617</td>\n",
              "      <td>TWLD23</td>\n",
              "      <td>E15002965</td>\n",
              "      <td>240</td>\n",
              "      <td>10-09-2022</td>\n",
              "      <td>7:32:30:696</td>\n",
              "      <td>2.51</td>\n",
              "      <td>74</td>\n",
              "      <td>23</td>\n",
              "      <td>0.00</td>\n",
              "      <td>27.8</td>\n",
              "      <td>0.0</td>\n",
              "      <td>0</td>\n",
              "    </tr>\n",
              "    <tr>\n",
              "      <th>...</th>\n",
              "      <td>...</td>\n",
              "      <td>...</td>\n",
              "      <td>...</td>\n",
              "      <td>...</td>\n",
              "      <td>...</td>\n",
              "      <td>...</td>\n",
              "      <td>...</td>\n",
              "      <td>...</td>\n",
              "      <td>...</td>\n",
              "      <td>...</td>\n",
              "      <td>...</td>\n",
              "      <td>...</td>\n",
              "      <td>...</td>\n",
              "    </tr>\n",
              "    <tr>\n",
              "      <th>827530</th>\n",
              "      <td>391342</td>\n",
              "      <td>TWLD23</td>\n",
              "      <td>E15003062</td>\n",
              "      <td>240</td>\n",
              "      <td>29-08-2022</td>\n",
              "      <td>23:2:13:452</td>\n",
              "      <td>0.33</td>\n",
              "      <td>58</td>\n",
              "      <td>24</td>\n",
              "      <td>0.00</td>\n",
              "      <td>34.0</td>\n",
              "      <td>0.0</td>\n",
              "      <td>0</td>\n",
              "    </tr>\n",
              "    <tr>\n",
              "      <th>827531</th>\n",
              "      <td>391342</td>\n",
              "      <td>TWLD23</td>\n",
              "      <td>E15003062</td>\n",
              "      <td>240</td>\n",
              "      <td>29-08-2022</td>\n",
              "      <td>23:2:14:46</td>\n",
              "      <td>0.34</td>\n",
              "      <td>58</td>\n",
              "      <td>24</td>\n",
              "      <td>0.00</td>\n",
              "      <td>34.0</td>\n",
              "      <td>0.0</td>\n",
              "      <td>0</td>\n",
              "    </tr>\n",
              "    <tr>\n",
              "      <th>827532</th>\n",
              "      <td>391342</td>\n",
              "      <td>TWLD23</td>\n",
              "      <td>E15003062</td>\n",
              "      <td>240</td>\n",
              "      <td>29-08-2022</td>\n",
              "      <td>23:2:14:552</td>\n",
              "      <td>-0.86</td>\n",
              "      <td>58</td>\n",
              "      <td>24</td>\n",
              "      <td>0.06</td>\n",
              "      <td>34.0</td>\n",
              "      <td>0.0</td>\n",
              "      <td>0</td>\n",
              "    </tr>\n",
              "    <tr>\n",
              "      <th>827533</th>\n",
              "      <td>391342</td>\n",
              "      <td>TWLD23</td>\n",
              "      <td>E15003062</td>\n",
              "      <td>240</td>\n",
              "      <td>29-08-2022</td>\n",
              "      <td>23:2:15:143</td>\n",
              "      <td>0.32</td>\n",
              "      <td>58</td>\n",
              "      <td>24</td>\n",
              "      <td>0.00</td>\n",
              "      <td>34.6</td>\n",
              "      <td>0.0</td>\n",
              "      <td>0</td>\n",
              "    </tr>\n",
              "    <tr>\n",
              "      <th>827534</th>\n",
              "      <td>391342</td>\n",
              "      <td>TWLD23</td>\n",
              "      <td>E15003062</td>\n",
              "      <td>240</td>\n",
              "      <td>29-08-2022</td>\n",
              "      <td>23:2:15:646</td>\n",
              "      <td>0.74</td>\n",
              "      <td>57</td>\n",
              "      <td>24</td>\n",
              "      <td>0.04</td>\n",
              "      <td>34.6</td>\n",
              "      <td>0.0</td>\n",
              "      <td>0</td>\n",
              "    </tr>\n",
              "  </tbody>\n",
              "</table>\n",
              "<p>696609 rows × 13 columns</p>\n",
              "</div>\n",
              "      <button class=\"colab-df-convert\" onclick=\"convertToInteractive('df-561365e5-9975-4699-9664-efcca60fc39e')\"\n",
              "              title=\"Convert this dataframe to an interactive table.\"\n",
              "              style=\"display:none;\">\n",
              "        \n",
              "  <svg xmlns=\"http://www.w3.org/2000/svg\" height=\"24px\"viewBox=\"0 0 24 24\"\n",
              "       width=\"24px\">\n",
              "    <path d=\"M0 0h24v24H0V0z\" fill=\"none\"/>\n",
              "    <path d=\"M18.56 5.44l.94 2.06.94-2.06 2.06-.94-2.06-.94-.94-2.06-.94 2.06-2.06.94zm-11 1L8.5 8.5l.94-2.06 2.06-.94-2.06-.94L8.5 2.5l-.94 2.06-2.06.94zm10 10l.94 2.06.94-2.06 2.06-.94-2.06-.94-.94-2.06-.94 2.06-2.06.94z\"/><path d=\"M17.41 7.96l-1.37-1.37c-.4-.4-.92-.59-1.43-.59-.52 0-1.04.2-1.43.59L10.3 9.45l-7.72 7.72c-.78.78-.78 2.05 0 2.83L4 21.41c.39.39.9.59 1.41.59.51 0 1.02-.2 1.41-.59l7.78-7.78 2.81-2.81c.8-.78.8-2.07 0-2.86zM5.41 20L4 18.59l7.72-7.72 1.47 1.35L5.41 20z\"/>\n",
              "  </svg>\n",
              "      </button>\n",
              "      \n",
              "  <style>\n",
              "    .colab-df-container {\n",
              "      display:flex;\n",
              "      flex-wrap:wrap;\n",
              "      gap: 12px;\n",
              "    }\n",
              "\n",
              "    .colab-df-convert {\n",
              "      background-color: #E8F0FE;\n",
              "      border: none;\n",
              "      border-radius: 50%;\n",
              "      cursor: pointer;\n",
              "      display: none;\n",
              "      fill: #1967D2;\n",
              "      height: 32px;\n",
              "      padding: 0 0 0 0;\n",
              "      width: 32px;\n",
              "    }\n",
              "\n",
              "    .colab-df-convert:hover {\n",
              "      background-color: #E2EBFA;\n",
              "      box-shadow: 0px 1px 2px rgba(60, 64, 67, 0.3), 0px 1px 3px 1px rgba(60, 64, 67, 0.15);\n",
              "      fill: #174EA6;\n",
              "    }\n",
              "\n",
              "    [theme=dark] .colab-df-convert {\n",
              "      background-color: #3B4455;\n",
              "      fill: #D2E3FC;\n",
              "    }\n",
              "\n",
              "    [theme=dark] .colab-df-convert:hover {\n",
              "      background-color: #434B5C;\n",
              "      box-shadow: 0px 1px 3px 1px rgba(0, 0, 0, 0.15);\n",
              "      filter: drop-shadow(0px 1px 2px rgba(0, 0, 0, 0.3));\n",
              "      fill: #FFFFFF;\n",
              "    }\n",
              "  </style>\n",
              "\n",
              "      <script>\n",
              "        const buttonEl =\n",
              "          document.querySelector('#df-561365e5-9975-4699-9664-efcca60fc39e button.colab-df-convert');\n",
              "        buttonEl.style.display =\n",
              "          google.colab.kernel.accessAllowed ? 'block' : 'none';\n",
              "\n",
              "        async function convertToInteractive(key) {\n",
              "          const element = document.querySelector('#df-561365e5-9975-4699-9664-efcca60fc39e');\n",
              "          const dataTable =\n",
              "            await google.colab.kernel.invokeFunction('convertToInteractive',\n",
              "                                                     [key], {});\n",
              "          if (!dataTable) return;\n",
              "\n",
              "          const docLinkHtml = 'Like what you see? Visit the ' +\n",
              "            '<a target=\"_blank\" href=https://colab.research.google.com/notebooks/data_table.ipynb>data table notebook</a>'\n",
              "            + ' to learn more about interactive tables.';\n",
              "          element.innerHTML = '';\n",
              "          dataTable['output_type'] = 'display_data';\n",
              "          await google.colab.output.renderOutput(dataTable, element);\n",
              "          const docLink = document.createElement('div');\n",
              "          docLink.innerHTML = docLinkHtml;\n",
              "          element.appendChild(docLink);\n",
              "        }\n",
              "      </script>\n",
              "    </div>\n",
              "  </div>\n",
              "  "
            ],
            "text/plain": [
              "        Employee Code Machine Production  Order Operation No        Date  \\\n",
              "1              382617  TWLD23  E15002965                 240  10-09-2022   \n",
              "2              382617  TWLD23  E15002965                 240  10-09-2022   \n",
              "3              382617  TWLD23  E15002965                 240  10-09-2022   \n",
              "4              382617  TWLD23  E15002965                 240  10-09-2022   \n",
              "5              382617  TWLD23  E15002965                 240  10-09-2022   \n",
              "...               ...     ...        ...                 ...         ...   \n",
              "827530         391342  TWLD23  E15003062                 240  29-08-2022   \n",
              "827531         391342  TWLD23  E15003062                 240  29-08-2022   \n",
              "827532         391342  TWLD23  E15003062                 240  29-08-2022   \n",
              "827533         391342  TWLD23  E15003062                 240  29-08-2022   \n",
              "827534         391342  TWLD23  E15003062                 240  29-08-2022   \n",
              "\n",
              "               Time  Current  Humidity  Temperature  Flow  Job Temp  Voltage  \\\n",
              "1       7:32:28:527     1.13        74           23  0.01      29.3     15.2   \n",
              "2        7:32:29:40     1.82        74           23  0.00      29.3      0.0   \n",
              "3       7:32:29:677     2.91        74           23  0.00      29.3      0.0   \n",
              "4       7:32:30:166     0.04        74           23  0.00      29.3      0.0   \n",
              "5       7:32:30:696     2.51        74           23  0.00      27.8      0.0   \n",
              "...             ...      ...       ...          ...   ...       ...      ...   \n",
              "827530  23:2:13:452     0.33        58           24  0.00      34.0      0.0   \n",
              "827531   23:2:14:46     0.34        58           24  0.00      34.0      0.0   \n",
              "827532  23:2:14:552    -0.86        58           24  0.06      34.0      0.0   \n",
              "827533  23:2:15:143     0.32        58           24  0.00      34.6      0.0   \n",
              "827534  23:2:15:646     0.74        57           24  0.04      34.6      0.0   \n",
              "\n",
              "        Defect  \n",
              "1            0  \n",
              "2            1  \n",
              "3            0  \n",
              "4            0  \n",
              "5            0  \n",
              "...        ...  \n",
              "827530       0  \n",
              "827531       0  \n",
              "827532       0  \n",
              "827533       0  \n",
              "827534       0  \n",
              "\n",
              "[696609 rows x 13 columns]"
            ]
          },
          "execution_count": 67,
          "metadata": {},
          "output_type": "execute_result"
        }
      ],
      "source": [
        "dataset_2"
      ]
    },
    {
      "cell_type": "code",
      "execution_count": null,
      "metadata": {
        "colab": {
          "base_uri": "https://localhost:8080/"
        },
        "id": "PkqRKa8K3DBm",
        "outputId": "0b02ebf6-6765-4793-d11a-1236645aad76"
      },
      "outputs": [
        {
          "data": {
            "text/plain": [
              "696609"
            ]
          },
          "execution_count": 68,
          "metadata": {},
          "output_type": "execute_result"
        }
      ],
      "source": [
        "#Length of dataset after data cleaning\n",
        "len(dataset_2)"
      ]
    },
    {
      "cell_type": "code",
      "execution_count": null,
      "metadata": {
        "colab": {
          "base_uri": "https://localhost:8080/"
        },
        "id": "WO0memLU0RKd",
        "outputId": "71df4285-e577-4251-d1f1-c7fa338d4a74"
      },
      "outputs": [
        {
          "name": "stdout",
          "output_type": "stream",
          "text": [
            "<class 'pandas.core.frame.DataFrame'>\n",
            "Int64Index: 696609 entries, 1 to 827534\n",
            "Data columns (total 13 columns):\n",
            " #   Column              Non-Null Count   Dtype  \n",
            "---  ------              --------------   -----  \n",
            " 0   Employee Code       696609 non-null  int64  \n",
            " 1   Machine             696609 non-null  object \n",
            " 2   Production          696609 non-null  object \n",
            " 3   Order Operation No  696609 non-null  int64  \n",
            " 4   Date                696609 non-null  object \n",
            " 5   Time                696609 non-null  object \n",
            " 6   Current             696609 non-null  float64\n",
            " 7   Humidity            696609 non-null  int64  \n",
            " 8   Temperature         696609 non-null  int64  \n",
            " 9   Flow                696609 non-null  float64\n",
            " 10  Job Temp            696609 non-null  float64\n",
            " 11  Voltage             696609 non-null  float64\n",
            " 12  Defect              696609 non-null  int64  \n",
            "dtypes: float64(4), int64(5), object(4)\n",
            "memory usage: 74.4+ MB\n"
          ]
        }
      ],
      "source": [
        "dataset_2.info()"
      ]
    },
    {
      "cell_type": "code",
      "execution_count": null,
      "metadata": {
        "colab": {
          "base_uri": "https://localhost:8080/",
          "height": 332
        },
        "id": "WEoQg6GQ5k0N",
        "outputId": "3ef03253-5881-456c-92fb-328fb58b1700"
      },
      "outputs": [
        {
          "data": {
            "text/html": [
              "\n",
              "  <div id=\"df-f2cb3629-6abb-4f8b-be6d-c425a27f1246\">\n",
              "    <div class=\"colab-df-container\">\n",
              "      <div>\n",
              "<style scoped>\n",
              "    .dataframe tbody tr th:only-of-type {\n",
              "        vertical-align: middle;\n",
              "    }\n",
              "\n",
              "    .dataframe tbody tr th {\n",
              "        vertical-align: top;\n",
              "    }\n",
              "\n",
              "    .dataframe thead th {\n",
              "        text-align: right;\n",
              "    }\n",
              "</style>\n",
              "<table border=\"1\" class=\"dataframe\">\n",
              "  <thead>\n",
              "    <tr style=\"text-align: right;\">\n",
              "      <th></th>\n",
              "      <th>Employee Code</th>\n",
              "      <th>Order Operation No</th>\n",
              "      <th>Current</th>\n",
              "      <th>Humidity</th>\n",
              "      <th>Temperature</th>\n",
              "      <th>Flow</th>\n",
              "      <th>Job Temp</th>\n",
              "      <th>Voltage</th>\n",
              "      <th>Defect</th>\n",
              "    </tr>\n",
              "  </thead>\n",
              "  <tbody>\n",
              "    <tr>\n",
              "      <th>Employee Code</th>\n",
              "      <td>1.000000</td>\n",
              "      <td>0.420228</td>\n",
              "      <td>-0.045201</td>\n",
              "      <td>-0.068612</td>\n",
              "      <td>-0.028576</td>\n",
              "      <td>0.067800</td>\n",
              "      <td>0.013929</td>\n",
              "      <td>-0.005554</td>\n",
              "      <td>0.004306</td>\n",
              "    </tr>\n",
              "    <tr>\n",
              "      <th>Order Operation No</th>\n",
              "      <td>0.420228</td>\n",
              "      <td>1.000000</td>\n",
              "      <td>-0.044134</td>\n",
              "      <td>-0.102697</td>\n",
              "      <td>-0.024275</td>\n",
              "      <td>-0.156194</td>\n",
              "      <td>0.024418</td>\n",
              "      <td>-0.009280</td>\n",
              "      <td>0.008064</td>\n",
              "    </tr>\n",
              "    <tr>\n",
              "      <th>Current</th>\n",
              "      <td>-0.045201</td>\n",
              "      <td>-0.044134</td>\n",
              "      <td>1.000000</td>\n",
              "      <td>-0.006190</td>\n",
              "      <td>-0.002782</td>\n",
              "      <td>0.090802</td>\n",
              "      <td>0.061064</td>\n",
              "      <td>0.732441</td>\n",
              "      <td>0.063671</td>\n",
              "    </tr>\n",
              "    <tr>\n",
              "      <th>Humidity</th>\n",
              "      <td>-0.068612</td>\n",
              "      <td>-0.102697</td>\n",
              "      <td>-0.006190</td>\n",
              "      <td>1.000000</td>\n",
              "      <td>0.726822</td>\n",
              "      <td>0.024034</td>\n",
              "      <td>-0.099268</td>\n",
              "      <td>-0.044255</td>\n",
              "      <td>-0.007120</td>\n",
              "    </tr>\n",
              "    <tr>\n",
              "      <th>Temperature</th>\n",
              "      <td>-0.028576</td>\n",
              "      <td>-0.024275</td>\n",
              "      <td>-0.002782</td>\n",
              "      <td>0.726822</td>\n",
              "      <td>1.000000</td>\n",
              "      <td>-0.011876</td>\n",
              "      <td>-0.085832</td>\n",
              "      <td>-0.034360</td>\n",
              "      <td>-0.004624</td>\n",
              "    </tr>\n",
              "    <tr>\n",
              "      <th>Flow</th>\n",
              "      <td>0.067800</td>\n",
              "      <td>-0.156194</td>\n",
              "      <td>0.090802</td>\n",
              "      <td>0.024034</td>\n",
              "      <td>-0.011876</td>\n",
              "      <td>1.000000</td>\n",
              "      <td>-0.001632</td>\n",
              "      <td>0.094464</td>\n",
              "      <td>-0.003152</td>\n",
              "    </tr>\n",
              "    <tr>\n",
              "      <th>Job Temp</th>\n",
              "      <td>0.013929</td>\n",
              "      <td>0.024418</td>\n",
              "      <td>0.061064</td>\n",
              "      <td>-0.099268</td>\n",
              "      <td>-0.085832</td>\n",
              "      <td>-0.001632</td>\n",
              "      <td>1.000000</td>\n",
              "      <td>0.123080</td>\n",
              "      <td>0.034315</td>\n",
              "    </tr>\n",
              "    <tr>\n",
              "      <th>Voltage</th>\n",
              "      <td>-0.005554</td>\n",
              "      <td>-0.009280</td>\n",
              "      <td>0.732441</td>\n",
              "      <td>-0.044255</td>\n",
              "      <td>-0.034360</td>\n",
              "      <td>0.094464</td>\n",
              "      <td>0.123080</td>\n",
              "      <td>1.000000</td>\n",
              "      <td>0.049640</td>\n",
              "    </tr>\n",
              "    <tr>\n",
              "      <th>Defect</th>\n",
              "      <td>0.004306</td>\n",
              "      <td>0.008064</td>\n",
              "      <td>0.063671</td>\n",
              "      <td>-0.007120</td>\n",
              "      <td>-0.004624</td>\n",
              "      <td>-0.003152</td>\n",
              "      <td>0.034315</td>\n",
              "      <td>0.049640</td>\n",
              "      <td>1.000000</td>\n",
              "    </tr>\n",
              "  </tbody>\n",
              "</table>\n",
              "</div>\n",
              "      <button class=\"colab-df-convert\" onclick=\"convertToInteractive('df-f2cb3629-6abb-4f8b-be6d-c425a27f1246')\"\n",
              "              title=\"Convert this dataframe to an interactive table.\"\n",
              "              style=\"display:none;\">\n",
              "        \n",
              "  <svg xmlns=\"http://www.w3.org/2000/svg\" height=\"24px\"viewBox=\"0 0 24 24\"\n",
              "       width=\"24px\">\n",
              "    <path d=\"M0 0h24v24H0V0z\" fill=\"none\"/>\n",
              "    <path d=\"M18.56 5.44l.94 2.06.94-2.06 2.06-.94-2.06-.94-.94-2.06-.94 2.06-2.06.94zm-11 1L8.5 8.5l.94-2.06 2.06-.94-2.06-.94L8.5 2.5l-.94 2.06-2.06.94zm10 10l.94 2.06.94-2.06 2.06-.94-2.06-.94-.94-2.06-.94 2.06-2.06.94z\"/><path d=\"M17.41 7.96l-1.37-1.37c-.4-.4-.92-.59-1.43-.59-.52 0-1.04.2-1.43.59L10.3 9.45l-7.72 7.72c-.78.78-.78 2.05 0 2.83L4 21.41c.39.39.9.59 1.41.59.51 0 1.02-.2 1.41-.59l7.78-7.78 2.81-2.81c.8-.78.8-2.07 0-2.86zM5.41 20L4 18.59l7.72-7.72 1.47 1.35L5.41 20z\"/>\n",
              "  </svg>\n",
              "      </button>\n",
              "      \n",
              "  <style>\n",
              "    .colab-df-container {\n",
              "      display:flex;\n",
              "      flex-wrap:wrap;\n",
              "      gap: 12px;\n",
              "    }\n",
              "\n",
              "    .colab-df-convert {\n",
              "      background-color: #E8F0FE;\n",
              "      border: none;\n",
              "      border-radius: 50%;\n",
              "      cursor: pointer;\n",
              "      display: none;\n",
              "      fill: #1967D2;\n",
              "      height: 32px;\n",
              "      padding: 0 0 0 0;\n",
              "      width: 32px;\n",
              "    }\n",
              "\n",
              "    .colab-df-convert:hover {\n",
              "      background-color: #E2EBFA;\n",
              "      box-shadow: 0px 1px 2px rgba(60, 64, 67, 0.3), 0px 1px 3px 1px rgba(60, 64, 67, 0.15);\n",
              "      fill: #174EA6;\n",
              "    }\n",
              "\n",
              "    [theme=dark] .colab-df-convert {\n",
              "      background-color: #3B4455;\n",
              "      fill: #D2E3FC;\n",
              "    }\n",
              "\n",
              "    [theme=dark] .colab-df-convert:hover {\n",
              "      background-color: #434B5C;\n",
              "      box-shadow: 0px 1px 3px 1px rgba(0, 0, 0, 0.15);\n",
              "      filter: drop-shadow(0px 1px 2px rgba(0, 0, 0, 0.3));\n",
              "      fill: #FFFFFF;\n",
              "    }\n",
              "  </style>\n",
              "\n",
              "      <script>\n",
              "        const buttonEl =\n",
              "          document.querySelector('#df-f2cb3629-6abb-4f8b-be6d-c425a27f1246 button.colab-df-convert');\n",
              "        buttonEl.style.display =\n",
              "          google.colab.kernel.accessAllowed ? 'block' : 'none';\n",
              "\n",
              "        async function convertToInteractive(key) {\n",
              "          const element = document.querySelector('#df-f2cb3629-6abb-4f8b-be6d-c425a27f1246');\n",
              "          const dataTable =\n",
              "            await google.colab.kernel.invokeFunction('convertToInteractive',\n",
              "                                                     [key], {});\n",
              "          if (!dataTable) return;\n",
              "\n",
              "          const docLinkHtml = 'Like what you see? Visit the ' +\n",
              "            '<a target=\"_blank\" href=https://colab.research.google.com/notebooks/data_table.ipynb>data table notebook</a>'\n",
              "            + ' to learn more about interactive tables.';\n",
              "          element.innerHTML = '';\n",
              "          dataTable['output_type'] = 'display_data';\n",
              "          await google.colab.output.renderOutput(dataTable, element);\n",
              "          const docLink = document.createElement('div');\n",
              "          docLink.innerHTML = docLinkHtml;\n",
              "          element.appendChild(docLink);\n",
              "        }\n",
              "      </script>\n",
              "    </div>\n",
              "  </div>\n",
              "  "
            ],
            "text/plain": [
              "                    Employee Code  Order Operation No   Current  Humidity  \\\n",
              "Employee Code            1.000000            0.420228 -0.045201 -0.068612   \n",
              "Order Operation No       0.420228            1.000000 -0.044134 -0.102697   \n",
              "Current                 -0.045201           -0.044134  1.000000 -0.006190   \n",
              "Humidity                -0.068612           -0.102697 -0.006190  1.000000   \n",
              "Temperature             -0.028576           -0.024275 -0.002782  0.726822   \n",
              "Flow                     0.067800           -0.156194  0.090802  0.024034   \n",
              "Job Temp                 0.013929            0.024418  0.061064 -0.099268   \n",
              "Voltage                 -0.005554           -0.009280  0.732441 -0.044255   \n",
              "Defect                   0.004306            0.008064  0.063671 -0.007120   \n",
              "\n",
              "                    Temperature      Flow  Job Temp   Voltage    Defect  \n",
              "Employee Code         -0.028576  0.067800  0.013929 -0.005554  0.004306  \n",
              "Order Operation No    -0.024275 -0.156194  0.024418 -0.009280  0.008064  \n",
              "Current               -0.002782  0.090802  0.061064  0.732441  0.063671  \n",
              "Humidity               0.726822  0.024034 -0.099268 -0.044255 -0.007120  \n",
              "Temperature            1.000000 -0.011876 -0.085832 -0.034360 -0.004624  \n",
              "Flow                  -0.011876  1.000000 -0.001632  0.094464 -0.003152  \n",
              "Job Temp              -0.085832 -0.001632  1.000000  0.123080  0.034315  \n",
              "Voltage               -0.034360  0.094464  0.123080  1.000000  0.049640  \n",
              "Defect                -0.004624 -0.003152  0.034315  0.049640  1.000000  "
            ]
          },
          "execution_count": 70,
          "metadata": {},
          "output_type": "execute_result"
        }
      ],
      "source": [
        "#Corelation matrix\n",
        "dataset_2.corr()"
      ]
    },
    {
      "cell_type": "markdown",
      "metadata": {
        "id": "wJYUwOLH71vm"
      },
      "source": [
        "## **DATA VISUALIZATION**"
      ]
    },
    {
      "cell_type": "code",
      "execution_count": null,
      "metadata": {
        "colab": {
          "base_uri": "https://localhost:8080/",
          "height": 354
        },
        "id": "OQs_i_p-ptgA",
        "outputId": "452251bc-1d55-4f98-ccd8-02b6131aa124"
      },
      "outputs": [
        {
          "data": {
            "text/html": [
              "\n",
              "  <div id=\"df-ac959b99-a6e0-42aa-9f89-803593b2f14c\">\n",
              "    <div class=\"colab-df-container\">\n",
              "      <div>\n",
              "<style scoped>\n",
              "    .dataframe tbody tr th:only-of-type {\n",
              "        vertical-align: middle;\n",
              "    }\n",
              "\n",
              "    .dataframe tbody tr th {\n",
              "        vertical-align: top;\n",
              "    }\n",
              "\n",
              "    .dataframe thead th {\n",
              "        text-align: right;\n",
              "    }\n",
              "</style>\n",
              "<table border=\"1\" class=\"dataframe\">\n",
              "  <thead>\n",
              "    <tr style=\"text-align: right;\">\n",
              "      <th></th>\n",
              "      <th>Employee Code</th>\n",
              "      <th>Machine</th>\n",
              "      <th>Production</th>\n",
              "      <th>Order Operation No</th>\n",
              "      <th>Date</th>\n",
              "      <th>Time</th>\n",
              "      <th>Current</th>\n",
              "      <th>Humidity</th>\n",
              "      <th>Temperature</th>\n",
              "      <th>Flow</th>\n",
              "      <th>Job Temp</th>\n",
              "      <th>Voltage</th>\n",
              "      <th>Defect</th>\n",
              "    </tr>\n",
              "  </thead>\n",
              "  <tbody>\n",
              "    <tr>\n",
              "      <th>1</th>\n",
              "      <td>382617</td>\n",
              "      <td>TWLD23</td>\n",
              "      <td>E15002965</td>\n",
              "      <td>240</td>\n",
              "      <td>10-09-2022</td>\n",
              "      <td>7:32:28:527</td>\n",
              "      <td>1.13</td>\n",
              "      <td>74</td>\n",
              "      <td>23</td>\n",
              "      <td>0.01</td>\n",
              "      <td>29.3</td>\n",
              "      <td>15.2</td>\n",
              "      <td>0</td>\n",
              "    </tr>\n",
              "    <tr>\n",
              "      <th>3</th>\n",
              "      <td>382617</td>\n",
              "      <td>TWLD23</td>\n",
              "      <td>E15002965</td>\n",
              "      <td>240</td>\n",
              "      <td>10-09-2022</td>\n",
              "      <td>7:32:29:677</td>\n",
              "      <td>2.91</td>\n",
              "      <td>74</td>\n",
              "      <td>23</td>\n",
              "      <td>0.00</td>\n",
              "      <td>29.3</td>\n",
              "      <td>0.0</td>\n",
              "      <td>0</td>\n",
              "    </tr>\n",
              "    <tr>\n",
              "      <th>4</th>\n",
              "      <td>382617</td>\n",
              "      <td>TWLD23</td>\n",
              "      <td>E15002965</td>\n",
              "      <td>240</td>\n",
              "      <td>10-09-2022</td>\n",
              "      <td>7:32:30:166</td>\n",
              "      <td>0.04</td>\n",
              "      <td>74</td>\n",
              "      <td>23</td>\n",
              "      <td>0.00</td>\n",
              "      <td>29.3</td>\n",
              "      <td>0.0</td>\n",
              "      <td>0</td>\n",
              "    </tr>\n",
              "    <tr>\n",
              "      <th>5</th>\n",
              "      <td>382617</td>\n",
              "      <td>TWLD23</td>\n",
              "      <td>E15002965</td>\n",
              "      <td>240</td>\n",
              "      <td>10-09-2022</td>\n",
              "      <td>7:32:30:696</td>\n",
              "      <td>2.51</td>\n",
              "      <td>74</td>\n",
              "      <td>23</td>\n",
              "      <td>0.00</td>\n",
              "      <td>27.8</td>\n",
              "      <td>0.0</td>\n",
              "      <td>0</td>\n",
              "    </tr>\n",
              "    <tr>\n",
              "      <th>6</th>\n",
              "      <td>382617</td>\n",
              "      <td>TWLD23</td>\n",
              "      <td>E15002965</td>\n",
              "      <td>240</td>\n",
              "      <td>10-09-2022</td>\n",
              "      <td>7:32:31:286</td>\n",
              "      <td>0.24</td>\n",
              "      <td>74</td>\n",
              "      <td>23</td>\n",
              "      <td>0.00</td>\n",
              "      <td>27.8</td>\n",
              "      <td>0.0</td>\n",
              "      <td>0</td>\n",
              "    </tr>\n",
              "  </tbody>\n",
              "</table>\n",
              "</div>\n",
              "      <button class=\"colab-df-convert\" onclick=\"convertToInteractive('df-ac959b99-a6e0-42aa-9f89-803593b2f14c')\"\n",
              "              title=\"Convert this dataframe to an interactive table.\"\n",
              "              style=\"display:none;\">\n",
              "        \n",
              "  <svg xmlns=\"http://www.w3.org/2000/svg\" height=\"24px\"viewBox=\"0 0 24 24\"\n",
              "       width=\"24px\">\n",
              "    <path d=\"M0 0h24v24H0V0z\" fill=\"none\"/>\n",
              "    <path d=\"M18.56 5.44l.94 2.06.94-2.06 2.06-.94-2.06-.94-.94-2.06-.94 2.06-2.06.94zm-11 1L8.5 8.5l.94-2.06 2.06-.94-2.06-.94L8.5 2.5l-.94 2.06-2.06.94zm10 10l.94 2.06.94-2.06 2.06-.94-2.06-.94-.94-2.06-.94 2.06-2.06.94z\"/><path d=\"M17.41 7.96l-1.37-1.37c-.4-.4-.92-.59-1.43-.59-.52 0-1.04.2-1.43.59L10.3 9.45l-7.72 7.72c-.78.78-.78 2.05 0 2.83L4 21.41c.39.39.9.59 1.41.59.51 0 1.02-.2 1.41-.59l7.78-7.78 2.81-2.81c.8-.78.8-2.07 0-2.86zM5.41 20L4 18.59l7.72-7.72 1.47 1.35L5.41 20z\"/>\n",
              "  </svg>\n",
              "      </button>\n",
              "      \n",
              "  <style>\n",
              "    .colab-df-container {\n",
              "      display:flex;\n",
              "      flex-wrap:wrap;\n",
              "      gap: 12px;\n",
              "    }\n",
              "\n",
              "    .colab-df-convert {\n",
              "      background-color: #E8F0FE;\n",
              "      border: none;\n",
              "      border-radius: 50%;\n",
              "      cursor: pointer;\n",
              "      display: none;\n",
              "      fill: #1967D2;\n",
              "      height: 32px;\n",
              "      padding: 0 0 0 0;\n",
              "      width: 32px;\n",
              "    }\n",
              "\n",
              "    .colab-df-convert:hover {\n",
              "      background-color: #E2EBFA;\n",
              "      box-shadow: 0px 1px 2px rgba(60, 64, 67, 0.3), 0px 1px 3px 1px rgba(60, 64, 67, 0.15);\n",
              "      fill: #174EA6;\n",
              "    }\n",
              "\n",
              "    [theme=dark] .colab-df-convert {\n",
              "      background-color: #3B4455;\n",
              "      fill: #D2E3FC;\n",
              "    }\n",
              "\n",
              "    [theme=dark] .colab-df-convert:hover {\n",
              "      background-color: #434B5C;\n",
              "      box-shadow: 0px 1px 3px 1px rgba(0, 0, 0, 0.15);\n",
              "      filter: drop-shadow(0px 1px 2px rgba(0, 0, 0, 0.3));\n",
              "      fill: #FFFFFF;\n",
              "    }\n",
              "  </style>\n",
              "\n",
              "      <script>\n",
              "        const buttonEl =\n",
              "          document.querySelector('#df-ac959b99-a6e0-42aa-9f89-803593b2f14c button.colab-df-convert');\n",
              "        buttonEl.style.display =\n",
              "          google.colab.kernel.accessAllowed ? 'block' : 'none';\n",
              "\n",
              "        async function convertToInteractive(key) {\n",
              "          const element = document.querySelector('#df-ac959b99-a6e0-42aa-9f89-803593b2f14c');\n",
              "          const dataTable =\n",
              "            await google.colab.kernel.invokeFunction('convertToInteractive',\n",
              "                                                     [key], {});\n",
              "          if (!dataTable) return;\n",
              "\n",
              "          const docLinkHtml = 'Like what you see? Visit the ' +\n",
              "            '<a target=\"_blank\" href=https://colab.research.google.com/notebooks/data_table.ipynb>data table notebook</a>'\n",
              "            + ' to learn more about interactive tables.';\n",
              "          element.innerHTML = '';\n",
              "          dataTable['output_type'] = 'display_data';\n",
              "          await google.colab.output.renderOutput(dataTable, element);\n",
              "          const docLink = document.createElement('div');\n",
              "          docLink.innerHTML = docLinkHtml;\n",
              "          element.appendChild(docLink);\n",
              "        }\n",
              "      </script>\n",
              "    </div>\n",
              "  </div>\n",
              "  "
            ],
            "text/plain": [
              "   Employee Code Machine Production  Order Operation No        Date  \\\n",
              "1         382617  TWLD23  E15002965                 240  10-09-2022   \n",
              "3         382617  TWLD23  E15002965                 240  10-09-2022   \n",
              "4         382617  TWLD23  E15002965                 240  10-09-2022   \n",
              "5         382617  TWLD23  E15002965                 240  10-09-2022   \n",
              "6         382617  TWLD23  E15002965                 240  10-09-2022   \n",
              "\n",
              "          Time  Current  Humidity  Temperature  Flow  Job Temp  Voltage  \\\n",
              "1  7:32:28:527     1.13        74           23  0.01      29.3     15.2   \n",
              "3  7:32:29:677     2.91        74           23  0.00      29.3      0.0   \n",
              "4  7:32:30:166     0.04        74           23  0.00      29.3      0.0   \n",
              "5  7:32:30:696     2.51        74           23  0.00      27.8      0.0   \n",
              "6  7:32:31:286     0.24        74           23  0.00      27.8      0.0   \n",
              "\n",
              "   Defect  \n",
              "1       0  \n",
              "3       0  \n",
              "4       0  \n",
              "5       0  \n",
              "6       0  "
            ]
          },
          "execution_count": 71,
          "metadata": {},
          "output_type": "execute_result"
        }
      ],
      "source": [
        "#Creating a Dataframe that contains only defective feature\n",
        "dataset_defect = dataset_2[dataset_2[\"Defect\"] == 0]\n",
        "dataset_defect.head()"
      ]
    },
    {
      "cell_type": "code",
      "execution_count": null,
      "metadata": {
        "colab": {
          "base_uri": "https://localhost:8080/",
          "height": 354
        },
        "id": "OmoHqBSvptSl",
        "outputId": "a60f0bd2-54f4-41e7-f684-12df9f0694da"
      },
      "outputs": [
        {
          "data": {
            "text/html": [
              "\n",
              "  <div id=\"df-69141671-6fc2-46d9-a766-e5c57028a4fd\">\n",
              "    <div class=\"colab-df-container\">\n",
              "      <div>\n",
              "<style scoped>\n",
              "    .dataframe tbody tr th:only-of-type {\n",
              "        vertical-align: middle;\n",
              "    }\n",
              "\n",
              "    .dataframe tbody tr th {\n",
              "        vertical-align: top;\n",
              "    }\n",
              "\n",
              "    .dataframe thead th {\n",
              "        text-align: right;\n",
              "    }\n",
              "</style>\n",
              "<table border=\"1\" class=\"dataframe\">\n",
              "  <thead>\n",
              "    <tr style=\"text-align: right;\">\n",
              "      <th></th>\n",
              "      <th>Employee Code</th>\n",
              "      <th>Machine</th>\n",
              "      <th>Production</th>\n",
              "      <th>Order Operation No</th>\n",
              "      <th>Date</th>\n",
              "      <th>Time</th>\n",
              "      <th>Current</th>\n",
              "      <th>Humidity</th>\n",
              "      <th>Temperature</th>\n",
              "      <th>Flow</th>\n",
              "      <th>Job Temp</th>\n",
              "      <th>Voltage</th>\n",
              "      <th>Defect</th>\n",
              "    </tr>\n",
              "  </thead>\n",
              "  <tbody>\n",
              "    <tr>\n",
              "      <th>2</th>\n",
              "      <td>382617</td>\n",
              "      <td>TWLD23</td>\n",
              "      <td>E15002965</td>\n",
              "      <td>240</td>\n",
              "      <td>10-09-2022</td>\n",
              "      <td>7:32:29:40</td>\n",
              "      <td>1.82</td>\n",
              "      <td>74</td>\n",
              "      <td>23</td>\n",
              "      <td>0.0</td>\n",
              "      <td>29.3</td>\n",
              "      <td>0.000</td>\n",
              "      <td>1</td>\n",
              "    </tr>\n",
              "    <tr>\n",
              "      <th>37</th>\n",
              "      <td>382617</td>\n",
              "      <td>TWLD23</td>\n",
              "      <td>E15002965</td>\n",
              "      <td>240</td>\n",
              "      <td>10-09-2022</td>\n",
              "      <td>7:32:47:696</td>\n",
              "      <td>25.01</td>\n",
              "      <td>74</td>\n",
              "      <td>23</td>\n",
              "      <td>0.0</td>\n",
              "      <td>28.1</td>\n",
              "      <td>5.501</td>\n",
              "      <td>1</td>\n",
              "    </tr>\n",
              "    <tr>\n",
              "      <th>38</th>\n",
              "      <td>382617</td>\n",
              "      <td>TWLD23</td>\n",
              "      <td>E15002965</td>\n",
              "      <td>240</td>\n",
              "      <td>10-09-2022</td>\n",
              "      <td>7:32:48:300</td>\n",
              "      <td>8.20</td>\n",
              "      <td>74</td>\n",
              "      <td>23</td>\n",
              "      <td>0.0</td>\n",
              "      <td>28.1</td>\n",
              "      <td>-2.008</td>\n",
              "      <td>1</td>\n",
              "    </tr>\n",
              "    <tr>\n",
              "      <th>43</th>\n",
              "      <td>382617</td>\n",
              "      <td>TWLD23</td>\n",
              "      <td>E15002965</td>\n",
              "      <td>240</td>\n",
              "      <td>10-09-2022</td>\n",
              "      <td>7:32:51:1</td>\n",
              "      <td>15.02</td>\n",
              "      <td>74</td>\n",
              "      <td>23</td>\n",
              "      <td>0.0</td>\n",
              "      <td>101.6</td>\n",
              "      <td>5.000</td>\n",
              "      <td>1</td>\n",
              "    </tr>\n",
              "    <tr>\n",
              "      <th>44</th>\n",
              "      <td>382617</td>\n",
              "      <td>TWLD23</td>\n",
              "      <td>E15002965</td>\n",
              "      <td>240</td>\n",
              "      <td>10-09-2022</td>\n",
              "      <td>7:32:51:602</td>\n",
              "      <td>25.00</td>\n",
              "      <td>74</td>\n",
              "      <td>23</td>\n",
              "      <td>0.0</td>\n",
              "      <td>101.6</td>\n",
              "      <td>8.019</td>\n",
              "      <td>1</td>\n",
              "    </tr>\n",
              "  </tbody>\n",
              "</table>\n",
              "</div>\n",
              "      <button class=\"colab-df-convert\" onclick=\"convertToInteractive('df-69141671-6fc2-46d9-a766-e5c57028a4fd')\"\n",
              "              title=\"Convert this dataframe to an interactive table.\"\n",
              "              style=\"display:none;\">\n",
              "        \n",
              "  <svg xmlns=\"http://www.w3.org/2000/svg\" height=\"24px\"viewBox=\"0 0 24 24\"\n",
              "       width=\"24px\">\n",
              "    <path d=\"M0 0h24v24H0V0z\" fill=\"none\"/>\n",
              "    <path d=\"M18.56 5.44l.94 2.06.94-2.06 2.06-.94-2.06-.94-.94-2.06-.94 2.06-2.06.94zm-11 1L8.5 8.5l.94-2.06 2.06-.94-2.06-.94L8.5 2.5l-.94 2.06-2.06.94zm10 10l.94 2.06.94-2.06 2.06-.94-2.06-.94-.94-2.06-.94 2.06-2.06.94z\"/><path d=\"M17.41 7.96l-1.37-1.37c-.4-.4-.92-.59-1.43-.59-.52 0-1.04.2-1.43.59L10.3 9.45l-7.72 7.72c-.78.78-.78 2.05 0 2.83L4 21.41c.39.39.9.59 1.41.59.51 0 1.02-.2 1.41-.59l7.78-7.78 2.81-2.81c.8-.78.8-2.07 0-2.86zM5.41 20L4 18.59l7.72-7.72 1.47 1.35L5.41 20z\"/>\n",
              "  </svg>\n",
              "      </button>\n",
              "      \n",
              "  <style>\n",
              "    .colab-df-container {\n",
              "      display:flex;\n",
              "      flex-wrap:wrap;\n",
              "      gap: 12px;\n",
              "    }\n",
              "\n",
              "    .colab-df-convert {\n",
              "      background-color: #E8F0FE;\n",
              "      border: none;\n",
              "      border-radius: 50%;\n",
              "      cursor: pointer;\n",
              "      display: none;\n",
              "      fill: #1967D2;\n",
              "      height: 32px;\n",
              "      padding: 0 0 0 0;\n",
              "      width: 32px;\n",
              "    }\n",
              "\n",
              "    .colab-df-convert:hover {\n",
              "      background-color: #E2EBFA;\n",
              "      box-shadow: 0px 1px 2px rgba(60, 64, 67, 0.3), 0px 1px 3px 1px rgba(60, 64, 67, 0.15);\n",
              "      fill: #174EA6;\n",
              "    }\n",
              "\n",
              "    [theme=dark] .colab-df-convert {\n",
              "      background-color: #3B4455;\n",
              "      fill: #D2E3FC;\n",
              "    }\n",
              "\n",
              "    [theme=dark] .colab-df-convert:hover {\n",
              "      background-color: #434B5C;\n",
              "      box-shadow: 0px 1px 3px 1px rgba(0, 0, 0, 0.15);\n",
              "      filter: drop-shadow(0px 1px 2px rgba(0, 0, 0, 0.3));\n",
              "      fill: #FFFFFF;\n",
              "    }\n",
              "  </style>\n",
              "\n",
              "      <script>\n",
              "        const buttonEl =\n",
              "          document.querySelector('#df-69141671-6fc2-46d9-a766-e5c57028a4fd button.colab-df-convert');\n",
              "        buttonEl.style.display =\n",
              "          google.colab.kernel.accessAllowed ? 'block' : 'none';\n",
              "\n",
              "        async function convertToInteractive(key) {\n",
              "          const element = document.querySelector('#df-69141671-6fc2-46d9-a766-e5c57028a4fd');\n",
              "          const dataTable =\n",
              "            await google.colab.kernel.invokeFunction('convertToInteractive',\n",
              "                                                     [key], {});\n",
              "          if (!dataTable) return;\n",
              "\n",
              "          const docLinkHtml = 'Like what you see? Visit the ' +\n",
              "            '<a target=\"_blank\" href=https://colab.research.google.com/notebooks/data_table.ipynb>data table notebook</a>'\n",
              "            + ' to learn more about interactive tables.';\n",
              "          element.innerHTML = '';\n",
              "          dataTable['output_type'] = 'display_data';\n",
              "          await google.colab.output.renderOutput(dataTable, element);\n",
              "          const docLink = document.createElement('div');\n",
              "          docLink.innerHTML = docLinkHtml;\n",
              "          element.appendChild(docLink);\n",
              "        }\n",
              "      </script>\n",
              "    </div>\n",
              "  </div>\n",
              "  "
            ],
            "text/plain": [
              "    Employee Code Machine Production  Order Operation No        Date  \\\n",
              "2          382617  TWLD23  E15002965                 240  10-09-2022   \n",
              "37         382617  TWLD23  E15002965                 240  10-09-2022   \n",
              "38         382617  TWLD23  E15002965                 240  10-09-2022   \n",
              "43         382617  TWLD23  E15002965                 240  10-09-2022   \n",
              "44         382617  TWLD23  E15002965                 240  10-09-2022   \n",
              "\n",
              "           Time  Current  Humidity  Temperature  Flow  Job Temp  Voltage  \\\n",
              "2    7:32:29:40     1.82        74           23   0.0      29.3    0.000   \n",
              "37  7:32:47:696    25.01        74           23   0.0      28.1    5.501   \n",
              "38  7:32:48:300     8.20        74           23   0.0      28.1   -2.008   \n",
              "43    7:32:51:1    15.02        74           23   0.0     101.6    5.000   \n",
              "44  7:32:51:602    25.00        74           23   0.0     101.6    8.019   \n",
              "\n",
              "    Defect  \n",
              "2        1  \n",
              "37       1  \n",
              "38       1  \n",
              "43       1  \n",
              "44       1  "
            ]
          },
          "execution_count": 72,
          "metadata": {},
          "output_type": "execute_result"
        }
      ],
      "source": [
        "#Creating a Dataframe that contains only non-defective feature\n",
        "dataset_Tungsten_inclusion = dataset_2[dataset_2[\"Defect\"] == 1]\n",
        "dataset_Tungsten_inclusion.head()"
      ]
    },
    {
      "cell_type": "code",
      "execution_count": null,
      "metadata": {
        "colab": {
          "base_uri": "https://localhost:8080/",
          "height": 354
        },
        "id": "QPF025_S9DiI",
        "outputId": "d781e3fd-d042-4713-ebd9-a7f27c200be2"
      },
      "outputs": [
        {
          "data": {
            "text/html": [
              "\n",
              "  <div id=\"df-7cefadfa-8b11-43c9-af93-3d487c6bf1be\">\n",
              "    <div class=\"colab-df-container\">\n",
              "      <div>\n",
              "<style scoped>\n",
              "    .dataframe tbody tr th:only-of-type {\n",
              "        vertical-align: middle;\n",
              "    }\n",
              "\n",
              "    .dataframe tbody tr th {\n",
              "        vertical-align: top;\n",
              "    }\n",
              "\n",
              "    .dataframe thead th {\n",
              "        text-align: right;\n",
              "    }\n",
              "</style>\n",
              "<table border=\"1\" class=\"dataframe\">\n",
              "  <thead>\n",
              "    <tr style=\"text-align: right;\">\n",
              "      <th></th>\n",
              "      <th>Employee Code</th>\n",
              "      <th>Machine</th>\n",
              "      <th>Production</th>\n",
              "      <th>Order Operation No</th>\n",
              "      <th>Date</th>\n",
              "      <th>Time</th>\n",
              "      <th>Current</th>\n",
              "      <th>Humidity</th>\n",
              "      <th>Temperature</th>\n",
              "      <th>Flow</th>\n",
              "      <th>Job Temp</th>\n",
              "      <th>Voltage</th>\n",
              "      <th>Defect</th>\n",
              "    </tr>\n",
              "  </thead>\n",
              "  <tbody>\n",
              "    <tr>\n",
              "      <th>3803</th>\n",
              "      <td>382617</td>\n",
              "      <td>TWLD23</td>\n",
              "      <td>E15002965</td>\n",
              "      <td>240</td>\n",
              "      <td>10-09-2022</td>\n",
              "      <td>8:37:15:62</td>\n",
              "      <td>1.46</td>\n",
              "      <td>80</td>\n",
              "      <td>23</td>\n",
              "      <td>0.00</td>\n",
              "      <td>31.7</td>\n",
              "      <td>0.000</td>\n",
              "      <td>2</td>\n",
              "    </tr>\n",
              "    <tr>\n",
              "      <th>4229</th>\n",
              "      <td>382617</td>\n",
              "      <td>TWLD23</td>\n",
              "      <td>E15002965</td>\n",
              "      <td>240</td>\n",
              "      <td>10-09-2022</td>\n",
              "      <td>8:41:12:754</td>\n",
              "      <td>0.58</td>\n",
              "      <td>79</td>\n",
              "      <td>24</td>\n",
              "      <td>0.04</td>\n",
              "      <td>37.5</td>\n",
              "      <td>-1.842</td>\n",
              "      <td>2</td>\n",
              "    </tr>\n",
              "    <tr>\n",
              "      <th>5323</th>\n",
              "      <td>382617</td>\n",
              "      <td>TWLD23</td>\n",
              "      <td>E15002965</td>\n",
              "      <td>240</td>\n",
              "      <td>10-09-2022</td>\n",
              "      <td>9:29:51:772</td>\n",
              "      <td>0.38</td>\n",
              "      <td>80</td>\n",
              "      <td>23</td>\n",
              "      <td>0.00</td>\n",
              "      <td>30.6</td>\n",
              "      <td>0.000</td>\n",
              "      <td>2</td>\n",
              "    </tr>\n",
              "    <tr>\n",
              "      <th>6404</th>\n",
              "      <td>382617</td>\n",
              "      <td>TWLD23</td>\n",
              "      <td>E15002965</td>\n",
              "      <td>240</td>\n",
              "      <td>10-09-2022</td>\n",
              "      <td>9:39:54:101</td>\n",
              "      <td>1.79</td>\n",
              "      <td>80</td>\n",
              "      <td>23</td>\n",
              "      <td>0.00</td>\n",
              "      <td>29.9</td>\n",
              "      <td>0.000</td>\n",
              "      <td>2</td>\n",
              "    </tr>\n",
              "    <tr>\n",
              "      <th>6580</th>\n",
              "      <td>382617</td>\n",
              "      <td>TWLD23</td>\n",
              "      <td>E15002965</td>\n",
              "      <td>240</td>\n",
              "      <td>10-09-2022</td>\n",
              "      <td>9:41:33:111</td>\n",
              "      <td>0.72</td>\n",
              "      <td>81</td>\n",
              "      <td>23</td>\n",
              "      <td>0.00</td>\n",
              "      <td>28.5</td>\n",
              "      <td>0.000</td>\n",
              "      <td>2</td>\n",
              "    </tr>\n",
              "  </tbody>\n",
              "</table>\n",
              "</div>\n",
              "      <button class=\"colab-df-convert\" onclick=\"convertToInteractive('df-7cefadfa-8b11-43c9-af93-3d487c6bf1be')\"\n",
              "              title=\"Convert this dataframe to an interactive table.\"\n",
              "              style=\"display:none;\">\n",
              "        \n",
              "  <svg xmlns=\"http://www.w3.org/2000/svg\" height=\"24px\"viewBox=\"0 0 24 24\"\n",
              "       width=\"24px\">\n",
              "    <path d=\"M0 0h24v24H0V0z\" fill=\"none\"/>\n",
              "    <path d=\"M18.56 5.44l.94 2.06.94-2.06 2.06-.94-2.06-.94-.94-2.06-.94 2.06-2.06.94zm-11 1L8.5 8.5l.94-2.06 2.06-.94-2.06-.94L8.5 2.5l-.94 2.06-2.06.94zm10 10l.94 2.06.94-2.06 2.06-.94-2.06-.94-.94-2.06-.94 2.06-2.06.94z\"/><path d=\"M17.41 7.96l-1.37-1.37c-.4-.4-.92-.59-1.43-.59-.52 0-1.04.2-1.43.59L10.3 9.45l-7.72 7.72c-.78.78-.78 2.05 0 2.83L4 21.41c.39.39.9.59 1.41.59.51 0 1.02-.2 1.41-.59l7.78-7.78 2.81-2.81c.8-.78.8-2.07 0-2.86zM5.41 20L4 18.59l7.72-7.72 1.47 1.35L5.41 20z\"/>\n",
              "  </svg>\n",
              "      </button>\n",
              "      \n",
              "  <style>\n",
              "    .colab-df-container {\n",
              "      display:flex;\n",
              "      flex-wrap:wrap;\n",
              "      gap: 12px;\n",
              "    }\n",
              "\n",
              "    .colab-df-convert {\n",
              "      background-color: #E8F0FE;\n",
              "      border: none;\n",
              "      border-radius: 50%;\n",
              "      cursor: pointer;\n",
              "      display: none;\n",
              "      fill: #1967D2;\n",
              "      height: 32px;\n",
              "      padding: 0 0 0 0;\n",
              "      width: 32px;\n",
              "    }\n",
              "\n",
              "    .colab-df-convert:hover {\n",
              "      background-color: #E2EBFA;\n",
              "      box-shadow: 0px 1px 2px rgba(60, 64, 67, 0.3), 0px 1px 3px 1px rgba(60, 64, 67, 0.15);\n",
              "      fill: #174EA6;\n",
              "    }\n",
              "\n",
              "    [theme=dark] .colab-df-convert {\n",
              "      background-color: #3B4455;\n",
              "      fill: #D2E3FC;\n",
              "    }\n",
              "\n",
              "    [theme=dark] .colab-df-convert:hover {\n",
              "      background-color: #434B5C;\n",
              "      box-shadow: 0px 1px 3px 1px rgba(0, 0, 0, 0.15);\n",
              "      filter: drop-shadow(0px 1px 2px rgba(0, 0, 0, 0.3));\n",
              "      fill: #FFFFFF;\n",
              "    }\n",
              "  </style>\n",
              "\n",
              "      <script>\n",
              "        const buttonEl =\n",
              "          document.querySelector('#df-7cefadfa-8b11-43c9-af93-3d487c6bf1be button.colab-df-convert');\n",
              "        buttonEl.style.display =\n",
              "          google.colab.kernel.accessAllowed ? 'block' : 'none';\n",
              "\n",
              "        async function convertToInteractive(key) {\n",
              "          const element = document.querySelector('#df-7cefadfa-8b11-43c9-af93-3d487c6bf1be');\n",
              "          const dataTable =\n",
              "            await google.colab.kernel.invokeFunction('convertToInteractive',\n",
              "                                                     [key], {});\n",
              "          if (!dataTable) return;\n",
              "\n",
              "          const docLinkHtml = 'Like what you see? Visit the ' +\n",
              "            '<a target=\"_blank\" href=https://colab.research.google.com/notebooks/data_table.ipynb>data table notebook</a>'\n",
              "            + ' to learn more about interactive tables.';\n",
              "          element.innerHTML = '';\n",
              "          dataTable['output_type'] = 'display_data';\n",
              "          await google.colab.output.renderOutput(dataTable, element);\n",
              "          const docLink = document.createElement('div');\n",
              "          docLink.innerHTML = docLinkHtml;\n",
              "          element.appendChild(docLink);\n",
              "        }\n",
              "      </script>\n",
              "    </div>\n",
              "  </div>\n",
              "  "
            ],
            "text/plain": [
              "      Employee Code Machine Production  Order Operation No        Date  \\\n",
              "3803         382617  TWLD23  E15002965                 240  10-09-2022   \n",
              "4229         382617  TWLD23  E15002965                 240  10-09-2022   \n",
              "5323         382617  TWLD23  E15002965                 240  10-09-2022   \n",
              "6404         382617  TWLD23  E15002965                 240  10-09-2022   \n",
              "6580         382617  TWLD23  E15002965                 240  10-09-2022   \n",
              "\n",
              "             Time  Current  Humidity  Temperature  Flow  Job Temp  Voltage  \\\n",
              "3803   8:37:15:62     1.46        80           23  0.00      31.7    0.000   \n",
              "4229  8:41:12:754     0.58        79           24  0.04      37.5   -1.842   \n",
              "5323  9:29:51:772     0.38        80           23  0.00      30.6    0.000   \n",
              "6404  9:39:54:101     1.79        80           23  0.00      29.9    0.000   \n",
              "6580  9:41:33:111     0.72        81           23  0.00      28.5    0.000   \n",
              "\n",
              "      Defect  \n",
              "3803       2  \n",
              "4229       2  \n",
              "5323       2  \n",
              "6404       2  \n",
              "6580       2  "
            ]
          },
          "execution_count": 73,
          "metadata": {},
          "output_type": "execute_result"
        }
      ],
      "source": [
        "#Creating a Dataframe that contains only non-defective feature\n",
        "dataset_porosity = dataset_2[dataset_2[\"Defect\"] == 2]\n",
        "dataset_porosity.head()"
      ]
    },
    {
      "cell_type": "markdown",
      "metadata": {
        "id": "08AeiozVLMSm"
      },
      "source": [
        "\n",
        "### ***Defect vs Current visualization***"
      ]
    },
    {
      "cell_type": "code",
      "execution_count": null,
      "metadata": {
        "colab": {
          "base_uri": "https://localhost:8080/"
        },
        "id": "Azn3lpsr9Df5",
        "outputId": "8572768e-6863-4ac9-ceb4-884cf37a6e8a"
      },
      "outputs": [
        {
          "data": {
            "image/png": "[encoded data removed]",
            "text/plain": [
              "<Figure size 720x504 with 1 Axes>"
            ]
          },
          "metadata": {},
          "output_type": "display_data"
        }
      ],
      "source": [
        "fig, ax = plt.subplots(figsize = (10,7))\n",
        "scatter = ax.scatter(x = dataset_2[\"Defect\"],\n",
        "                     y = dataset_2[\"Current\"])\n",
        "plt.axhline(0, c='black', ls='--')\n",
        "ax.set(ylabel = \"Current\",\n",
        "       xlabel = \"Types\")\n",
        "plt.show()"
      ]
    },
    {
      "cell_type": "code",
      "execution_count": null,
      "metadata": {
        "colab": {
          "base_uri": "https://localhost:8080/"
        },
        "id": "gcYqu4Lsia4e",
        "outputId": "c856453c-5ec0-42d8-bd4a-f41258651b88"
      },
      "outputs": [
        {
          "data": {
            "text/plain": [
              "<matplotlib.axes._subplots.AxesSubplot at 0x7fc7c8ecae20>"
            ]
          },
          "execution_count": 75,
          "metadata": {},
          "output_type": "execute_result"
        },
        {
          "data": {
            "image/png": "[encoded data removed]",
            "text/plain": [
              "<Figure size 432x288 with 1 Axes>"
            ]
          },
          "metadata": {},
          "output_type": "display_data"
        }
      ],
      "source": [
        "sns.barplot(data=dataset_2, x=\"Defect\", y=\"Current\")"
      ]
    },
    {
      "cell_type": "markdown",
      "metadata": {
        "id": "XUxN8pGTLk_I"
      },
      "source": [
        "### ***Defect vs Current visualization using BoxPlot***"
      ]
    },
    {
      "cell_type": "code",
      "execution_count": null,
      "metadata": {
        "colab": {
          "base_uri": "https://localhost:8080/"
        },
        "id": "APGjVNnt9DdN",
        "outputId": "32d8d016-52a4-4937-9cea-bccc46a4b29b"
      },
      "outputs": [
        {
          "data": {
            "image/png": "[encoded data removed]",
            "text/plain": [
              "<Figure size 720x504 with 1 Axes>"
            ]
          },
          "metadata": {},
          "output_type": "display_data"
        }
      ],
      "source": [
        "fig, ax = plt.subplots(figsize = (10,7))\n",
        "sns.boxplot(x =\"Defect\", y ='Current', data = dataset_2,palette ='RdYlGn_r' , showmeans = True,\n",
        "            saturation = 0.9,\n",
        "            meanprops={\"marker\": \"+\",\n",
        "                       \"markeredgecolor\": \"black\",\n",
        "                       \"markersize\": \"10\"})\n",
        "plt.axhline(0, c='black', ls='--')\n",
        "sns.set_style('whitegrid')\n",
        "sns.despine()"
      ]
    },
    {
      "cell_type": "markdown",
      "metadata": {
        "id": "RRtVdZ2mLs4r"
      },
      "source": [
        "### ***Defect vs Humidity visualization***"
      ]
    },
    {
      "cell_type": "code",
      "execution_count": null,
      "metadata": {
        "colab": {
          "base_uri": "https://localhost:8080/"
        },
        "id": "l5j8781Y9Dat",
        "outputId": "de8d987f-d04b-4a54-f88d-9ad9e51b7748"
      },
      "outputs": [
        {
          "data": {
            "image/png": "[encoded data removed]",
            "text/plain": [
              "<Figure size 720x504 with 1 Axes>"
            ]
          },
          "metadata": {},
          "output_type": "display_data"
        }
      ],
      "source": [
        "fig, ax = plt.subplots(figsize = (10,7))\n",
        "scatter = ax.scatter(x = dataset_2[\"Defect\"],\n",
        "                     y = dataset_2[\"Humidity\"])\n",
        "plt.axhline(0, c='black', ls='--')\n",
        "ax.set(ylabel = \"Humidity\",\n",
        "       xlabel = \"Types\")\n",
        "sns.despine()\n",
        "plt.show()"
      ]
    },
    {
      "cell_type": "markdown",
      "metadata": {
        "id": "xVB8Y1BjMsji"
      },
      "source": [
        "### ***Defect vs Flow visualization***"
      ]
    },
    {
      "cell_type": "code",
      "execution_count": null,
      "metadata": {
        "colab": {
          "base_uri": "https://localhost:8080/"
        },
        "id": "t9myYPa89DTY",
        "outputId": "a8fb6433-81c2-4a6a-c697-de5379bb277b"
      },
      "outputs": [
        {
          "data": {
            "image/png": "[encoded data removed]",
            "text/plain": [
              "<Figure size 720x504 with 1 Axes>"
            ]
          },
          "metadata": {},
          "output_type": "display_data"
        }
      ],
      "source": [
        "fig, ax = plt.subplots(figsize = (10,7))\n",
        "scatter = ax.scatter(x = dataset_2[\"Defect\"],\n",
        "                     y = dataset_2[\"Flow\"],\n",
        "                     alpha = 0.5)\n",
        "plt.axhline(0, c='black', ls='--')\n",
        "ax.set(ylabel = \"Flow\",\n",
        "       xlabel = \"Types\")\n",
        "sns.despine()\n",
        "plt.show()"
      ]
    },
    {
      "cell_type": "markdown",
      "metadata": {
        "id": "486q1Y3eNRqh"
      },
      "source": [
        "### ***Defect vs Voltage visualization****"
      ]
    },
    {
      "cell_type": "code",
      "execution_count": null,
      "metadata": {
        "colab": {
          "base_uri": "https://localhost:8080/"
        },
        "id": "2WAQ4eTc9DJS",
        "outputId": "ed9d4e4b-238e-49fc-9dcb-b636f966b77e"
      },
      "outputs": [
        {
          "data": {
            "image/png": "[encoded data removed]",
            "text/plain": [
              "<Figure size 720x504 with 1 Axes>"
            ]
          },
          "metadata": {},
          "output_type": "display_data"
        }
      ],
      "source": [
        "fig, ax = plt.subplots(figsize = (10,7))\n",
        "scatter = ax.scatter(x = dataset_2[\"Defect\"],\n",
        "                     y = dataset_2[\"Voltage\"],\n",
        "                     alpha = 0.5)\n",
        "plt.axhline(0, c='black', ls='--')\n",
        "\n",
        "\n",
        "ax.set(ylabel = \"Voltage\",\n",
        "       xlabel = \"Types\")\n",
        "sns.despine()\n",
        "plt.show()"
      ]
    },
    {
      "cell_type": "markdown",
      "metadata": {
        "id": "givHNgrEU88F"
      },
      "source": [
        "### ***Defect vs Temperature visualization***"
      ]
    },
    {
      "cell_type": "code",
      "execution_count": null,
      "metadata": {
        "colab": {
          "base_uri": "https://localhost:8080/"
        },
        "id": "muSa7vF1UhlS",
        "outputId": "fa01ff19-d236-45e2-b72a-b8697ab51980"
      },
      "outputs": [
        {
          "data": {
            "image/png": "[encoded data removed]",
            "text/plain": [
              "<Figure size 720x504 with 1 Axes>"
            ]
          },
          "metadata": {},
          "output_type": "display_data"
        }
      ],
      "source": [
        "fig, ax = plt.subplots(figsize = (10,7))\n",
        "scatter = ax.scatter(x = dataset_2[\"Defect\"],\n",
        "                     y = dataset_2[\"Temperature\"],\n",
        "                     alpha = 0.5)\n",
        "plt.axhline(0, c='black', ls='--')\n",
        "\n",
        "\n",
        "ax.set(ylabel = \"Voltage\",\n",
        "       xlabel = \"Types\")\n",
        "sns.despine()\n",
        "plt.show()"
      ]
    },
    {
      "cell_type": "markdown",
      "metadata": {
        "id": "s3u-TBQyVDb3"
      },
      "source": [
        "### ***Defect vs Job Temperature visualization***"
      ]
    },
    {
      "cell_type": "code",
      "execution_count": null,
      "metadata": {
        "colab": {
          "base_uri": "https://localhost:8080/"
        },
        "id": "PBap5JWuVC_i",
        "outputId": "ff3f8d1b-bf05-40db-e1cc-54a834a27b14"
      },
      "outputs": [
        {
          "data": {
            "image/png": "[encoded data removed]",
            "text/plain": [
              "<Figure size 720x504 with 1 Axes>"
            ]
          },
          "metadata": {},
          "output_type": "display_data"
        }
      ],
      "source": [
        "fig, ax = plt.subplots(figsize = (10,7))\n",
        "scatter = ax.scatter(x = dataset_2[\"Defect\"],\n",
        "                     y = dataset_2[\"Job Temp\"])\n",
        "plt.axhline(0, c='black', ls='--')\n",
        "ax.set(ylabel = \"Current\",\n",
        "       xlabel = \"Types\")\n",
        "plt.show()"
      ]
    },
    {
      "cell_type": "markdown",
      "metadata": {
        "id": "AAJGxPlGO2BV"
      },
      "source": [
        "# **REMOVING OUTLIERS**"
      ]
    },
    {
      "cell_type": "code",
      "execution_count": null,
      "metadata": {
        "colab": {
          "base_uri": "https://localhost:8080/"
        },
        "id": "OE_-VV7Caggy",
        "outputId": "315d1022-a809-4669-b274-b3f20ec14347"
      },
      "outputs": [
        {
          "data": {
            "text/plain": [
              "(696609, 13)"
            ]
          },
          "execution_count": 82,
          "metadata": {},
          "output_type": "execute_result"
        }
      ],
      "source": [
        "#Shape of data before removing the outliers\n",
        "dataset_2.shape"
      ]
    },
    {
      "cell_type": "code",
      "execution_count": null,
      "metadata": {
        "colab": {
          "base_uri": "https://localhost:8080/"
        },
        "id": "0ZqOyjPXZVgn",
        "outputId": "62fc440f-d6ae-4500-c846-2b8dce978d5b"
      },
      "outputs": [
        {
          "name": "stdout",
          "output_type": "stream",
          "text": [
            "(696603, 13)\n"
          ]
        },
        {
          "name": "stderr",
          "output_type": "stream",
          "text": [
            "/usr/local/lib/python3.8/dist-packages/pandas/core/frame.py:4906: SettingWithCopyWarning: \n",
            "A value is trying to be set on a copy of a slice from a DataFrame\n",
            "\n",
            "See the caveats in the documentation: https://pandas.pydata.org/pandas-docs/stable/user_guide/indexing.html#returning-a-view-versus-a-copy\n",
            "  return super().drop(\n"
          ]
        }
      ],
      "source": [
        "remove= dataset_2[(dataset_2['Current']>=145)].index\n",
        "dataset_2.drop(remove , inplace=True)\n",
        "print(dataset_2.shape)"
      ]
    },
    {
      "cell_type": "code",
      "execution_count": null,
      "metadata": {
        "colab": {
          "base_uri": "https://localhost:8080/"
        },
        "id": "am9-7LJZao_Z",
        "outputId": "15cfd7c8-4290-40b9-eb6e-810971de07dd"
      },
      "outputs": [
        {
          "name": "stdout",
          "output_type": "stream",
          "text": [
            "(696595, 13)\n"
          ]
        }
      ],
      "source": [
        "remove2= dataset_2[(dataset_2['Humidity']>=200)].index\n",
        "dataset_2.drop(remove2 , inplace=True)\n",
        "print(dataset_2.shape)"
      ]
    },
    {
      "cell_type": "code",
      "execution_count": null,
      "metadata": {
        "colab": {
          "base_uri": "https://localhost:8080/"
        },
        "id": "NuKEpECGgO_6",
        "outputId": "9cac2d1c-66a4-4f5a-8eee-8c6f5349badf"
      },
      "outputs": [
        {
          "name": "stdout",
          "output_type": "stream",
          "text": [
            "(694251, 13)\n"
          ]
        }
      ],
      "source": [
        "remove3= dataset_2[(dataset_2['Job Temp']>=1900)].index\n",
        "dataset_2.drop(remove3 , inplace=True)\n",
        "print(dataset_2.shape)"
      ]
    },
    {
      "cell_type": "code",
      "execution_count": null,
      "metadata": {
        "colab": {
          "base_uri": "https://localhost:8080/"
        },
        "id": "0CxkjMaNgn7R",
        "outputId": "9f422cdf-6715-4d1b-b769-48ac0f3fd326"
      },
      "outputs": [
        {
          "name": "stdout",
          "output_type": "stream",
          "text": [
            "(694238, 13)\n"
          ]
        }
      ],
      "source": [
        "remove4= dataset_2[(dataset_2['Flow']>=12)].index\n",
        "dataset_2.drop(remove4 , inplace=True)\n",
        "print(dataset_2.shape)"
      ]
    },
    {
      "cell_type": "code",
      "execution_count": null,
      "metadata": {
        "colab": {
          "base_uri": "https://localhost:8080/"
        },
        "id": "JPy3agV7hJAA",
        "outputId": "1f6a3d1a-ae7d-420d-82d5-f2bb7f31a12e"
      },
      "outputs": [
        {
          "name": "stdout",
          "output_type": "stream",
          "text": [
            "(694072, 13)\n"
          ]
        }
      ],
      "source": [
        "remove5= dataset_2[(dataset_2['Temperature']>=100)].index\n",
        "dataset_2.drop(remove5 , inplace=True)\n",
        "print(dataset_2.shape)"
      ]
    },
    {
      "cell_type": "code",
      "execution_count": null,
      "metadata": {
        "colab": {
          "base_uri": "https://localhost:8080/",
          "height": 354
        },
        "id": "eK6U4685Q68R",
        "outputId": "caaa4ed5-6ff1-4aa5-93bf-762b9bebdc81"
      },
      "outputs": [
        {
          "data": {
            "text/html": [
              "\n",
              "  <div id=\"df-7a01eb1c-7202-48c2-b15b-346f7c0c0696\">\n",
              "    <div class=\"colab-df-container\">\n",
              "      <div>\n",
              "<style scoped>\n",
              "    .dataframe tbody tr th:only-of-type {\n",
              "        vertical-align: middle;\n",
              "    }\n",
              "\n",
              "    .dataframe tbody tr th {\n",
              "        vertical-align: top;\n",
              "    }\n",
              "\n",
              "    .dataframe thead th {\n",
              "        text-align: right;\n",
              "    }\n",
              "</style>\n",
              "<table border=\"1\" class=\"dataframe\">\n",
              "  <thead>\n",
              "    <tr style=\"text-align: right;\">\n",
              "      <th></th>\n",
              "      <th>Employee Code</th>\n",
              "      <th>Machine</th>\n",
              "      <th>Production</th>\n",
              "      <th>Order Operation No</th>\n",
              "      <th>Date</th>\n",
              "      <th>Time</th>\n",
              "      <th>Current</th>\n",
              "      <th>Humidity</th>\n",
              "      <th>Temperature</th>\n",
              "      <th>Flow</th>\n",
              "      <th>Job Temp</th>\n",
              "      <th>Voltage</th>\n",
              "      <th>Defect</th>\n",
              "    </tr>\n",
              "  </thead>\n",
              "  <tbody>\n",
              "    <tr>\n",
              "      <th>1</th>\n",
              "      <td>382617</td>\n",
              "      <td>TWLD23</td>\n",
              "      <td>E15002965</td>\n",
              "      <td>240</td>\n",
              "      <td>10-09-2022</td>\n",
              "      <td>7:32:28:527</td>\n",
              "      <td>1.13</td>\n",
              "      <td>74</td>\n",
              "      <td>23</td>\n",
              "      <td>0.01</td>\n",
              "      <td>29.3</td>\n",
              "      <td>15.2</td>\n",
              "      <td>0</td>\n",
              "    </tr>\n",
              "    <tr>\n",
              "      <th>2</th>\n",
              "      <td>382617</td>\n",
              "      <td>TWLD23</td>\n",
              "      <td>E15002965</td>\n",
              "      <td>240</td>\n",
              "      <td>10-09-2022</td>\n",
              "      <td>7:32:29:40</td>\n",
              "      <td>1.82</td>\n",
              "      <td>74</td>\n",
              "      <td>23</td>\n",
              "      <td>0.00</td>\n",
              "      <td>29.3</td>\n",
              "      <td>0.0</td>\n",
              "      <td>1</td>\n",
              "    </tr>\n",
              "    <tr>\n",
              "      <th>3</th>\n",
              "      <td>382617</td>\n",
              "      <td>TWLD23</td>\n",
              "      <td>E15002965</td>\n",
              "      <td>240</td>\n",
              "      <td>10-09-2022</td>\n",
              "      <td>7:32:29:677</td>\n",
              "      <td>2.91</td>\n",
              "      <td>74</td>\n",
              "      <td>23</td>\n",
              "      <td>0.00</td>\n",
              "      <td>29.3</td>\n",
              "      <td>0.0</td>\n",
              "      <td>0</td>\n",
              "    </tr>\n",
              "    <tr>\n",
              "      <th>4</th>\n",
              "      <td>382617</td>\n",
              "      <td>TWLD23</td>\n",
              "      <td>E15002965</td>\n",
              "      <td>240</td>\n",
              "      <td>10-09-2022</td>\n",
              "      <td>7:32:30:166</td>\n",
              "      <td>0.04</td>\n",
              "      <td>74</td>\n",
              "      <td>23</td>\n",
              "      <td>0.00</td>\n",
              "      <td>29.3</td>\n",
              "      <td>0.0</td>\n",
              "      <td>0</td>\n",
              "    </tr>\n",
              "    <tr>\n",
              "      <th>5</th>\n",
              "      <td>382617</td>\n",
              "      <td>TWLD23</td>\n",
              "      <td>E15002965</td>\n",
              "      <td>240</td>\n",
              "      <td>10-09-2022</td>\n",
              "      <td>7:32:30:696</td>\n",
              "      <td>2.51</td>\n",
              "      <td>74</td>\n",
              "      <td>23</td>\n",
              "      <td>0.00</td>\n",
              "      <td>27.8</td>\n",
              "      <td>0.0</td>\n",
              "      <td>0</td>\n",
              "    </tr>\n",
              "  </tbody>\n",
              "</table>\n",
              "</div>\n",
              "      <button class=\"colab-df-convert\" onclick=\"convertToInteractive('df-7a01eb1c-7202-48c2-b15b-346f7c0c0696')\"\n",
              "              title=\"Convert this dataframe to an interactive table.\"\n",
              "              style=\"display:none;\">\n",
              "        \n",
              "  <svg xmlns=\"http://www.w3.org/2000/svg\" height=\"24px\"viewBox=\"0 0 24 24\"\n",
              "       width=\"24px\">\n",
              "    <path d=\"M0 0h24v24H0V0z\" fill=\"none\"/>\n",
              "    <path d=\"M18.56 5.44l.94 2.06.94-2.06 2.06-.94-2.06-.94-.94-2.06-.94 2.06-2.06.94zm-11 1L8.5 8.5l.94-2.06 2.06-.94-2.06-.94L8.5 2.5l-.94 2.06-2.06.94zm10 10l.94 2.06.94-2.06 2.06-.94-2.06-.94-.94-2.06-.94 2.06-2.06.94z\"/><path d=\"M17.41 7.96l-1.37-1.37c-.4-.4-.92-.59-1.43-.59-.52 0-1.04.2-1.43.59L10.3 9.45l-7.72 7.72c-.78.78-.78 2.05 0 2.83L4 21.41c.39.39.9.59 1.41.59.51 0 1.02-.2 1.41-.59l7.78-7.78 2.81-2.81c.8-.78.8-2.07 0-2.86zM5.41 20L4 18.59l7.72-7.72 1.47 1.35L5.41 20z\"/>\n",
              "  </svg>\n",
              "      </button>\n",
              "      \n",
              "  <style>\n",
              "    .colab-df-container {\n",
              "      display:flex;\n",
              "      flex-wrap:wrap;\n",
              "      gap: 12px;\n",
              "    }\n",
              "\n",
              "    .colab-df-convert {\n",
              "      background-color: #E8F0FE;\n",
              "      border: none;\n",
              "      border-radius: 50%;\n",
              "      cursor: pointer;\n",
              "      display: none;\n",
              "      fill: #1967D2;\n",
              "      height: 32px;\n",
              "      padding: 0 0 0 0;\n",
              "      width: 32px;\n",
              "    }\n",
              "\n",
              "    .colab-df-convert:hover {\n",
              "      background-color: #E2EBFA;\n",
              "      box-shadow: 0px 1px 2px rgba(60, 64, 67, 0.3), 0px 1px 3px 1px rgba(60, 64, 67, 0.15);\n",
              "      fill: #174EA6;\n",
              "    }\n",
              "\n",
              "    [theme=dark] .colab-df-convert {\n",
              "      background-color: #3B4455;\n",
              "      fill: #D2E3FC;\n",
              "    }\n",
              "\n",
              "    [theme=dark] .colab-df-convert:hover {\n",
              "      background-color: #434B5C;\n",
              "      box-shadow: 0px 1px 3px 1px rgba(0, 0, 0, 0.15);\n",
              "      filter: drop-shadow(0px 1px 2px rgba(0, 0, 0, 0.3));\n",
              "      fill: #FFFFFF;\n",
              "    }\n",
              "  </style>\n",
              "\n",
              "      <script>\n",
              "        const buttonEl =\n",
              "          document.querySelector('#df-7a01eb1c-7202-48c2-b15b-346f7c0c0696 button.colab-df-convert');\n",
              "        buttonEl.style.display =\n",
              "          google.colab.kernel.accessAllowed ? 'block' : 'none';\n",
              "\n",
              "        async function convertToInteractive(key) {\n",
              "          const element = document.querySelector('#df-7a01eb1c-7202-48c2-b15b-346f7c0c0696');\n",
              "          const dataTable =\n",
              "            await google.colab.kernel.invokeFunction('convertToInteractive',\n",
              "                                                     [key], {});\n",
              "          if (!dataTable) return;\n",
              "\n",
              "          const docLinkHtml = 'Like what you see? Visit the ' +\n",
              "            '<a target=\"_blank\" href=https://colab.research.google.com/notebooks/data_table.ipynb>data table notebook</a>'\n",
              "            + ' to learn more about interactive tables.';\n",
              "          element.innerHTML = '';\n",
              "          dataTable['output_type'] = 'display_data';\n",
              "          await google.colab.output.renderOutput(dataTable, element);\n",
              "          const docLink = document.createElement('div');\n",
              "          docLink.innerHTML = docLinkHtml;\n",
              "          element.appendChild(docLink);\n",
              "        }\n",
              "      </script>\n",
              "    </div>\n",
              "  </div>\n",
              "  "
            ],
            "text/plain": [
              "   Employee Code Machine Production  Order Operation No        Date  \\\n",
              "1         382617  TWLD23  E15002965                 240  10-09-2022   \n",
              "2         382617  TWLD23  E15002965                 240  10-09-2022   \n",
              "3         382617  TWLD23  E15002965                 240  10-09-2022   \n",
              "4         382617  TWLD23  E15002965                 240  10-09-2022   \n",
              "5         382617  TWLD23  E15002965                 240  10-09-2022   \n",
              "\n",
              "          Time  Current  Humidity  Temperature  Flow  Job Temp  Voltage  \\\n",
              "1  7:32:28:527     1.13        74           23  0.01      29.3     15.2   \n",
              "2   7:32:29:40     1.82        74           23  0.00      29.3      0.0   \n",
              "3  7:32:29:677     2.91        74           23  0.00      29.3      0.0   \n",
              "4  7:32:30:166     0.04        74           23  0.00      29.3      0.0   \n",
              "5  7:32:30:696     2.51        74           23  0.00      27.8      0.0   \n",
              "\n",
              "   Defect  \n",
              "1       0  \n",
              "2       1  \n",
              "3       0  \n",
              "4       0  \n",
              "5       0  "
            ]
          },
          "execution_count": 88,
          "metadata": {},
          "output_type": "execute_result"
        }
      ],
      "source": [
        "dataset_2.head()"
      ]
    },
    {
      "cell_type": "code",
      "execution_count": null,
      "metadata": {
        "colab": {
          "base_uri": "https://localhost:8080/",
          "height": 332
        },
        "id": "Ox1nJ9NIOQk8",
        "outputId": "406e1f28-02c0-46c3-9f0b-37513b302e2f"
      },
      "outputs": [
        {
          "data": {
            "text/html": [
              "\n",
              "  <div id=\"df-1fc45a74-7a56-416c-93f5-15cc1c958c9a\">\n",
              "    <div class=\"colab-df-container\">\n",
              "      <div>\n",
              "<style scoped>\n",
              "    .dataframe tbody tr th:only-of-type {\n",
              "        vertical-align: middle;\n",
              "    }\n",
              "\n",
              "    .dataframe tbody tr th {\n",
              "        vertical-align: top;\n",
              "    }\n",
              "\n",
              "    .dataframe thead th {\n",
              "        text-align: right;\n",
              "    }\n",
              "</style>\n",
              "<table border=\"1\" class=\"dataframe\">\n",
              "  <thead>\n",
              "    <tr style=\"text-align: right;\">\n",
              "      <th></th>\n",
              "      <th>Employee Code</th>\n",
              "      <th>Order Operation No</th>\n",
              "      <th>Current</th>\n",
              "      <th>Humidity</th>\n",
              "      <th>Temperature</th>\n",
              "      <th>Flow</th>\n",
              "      <th>Job Temp</th>\n",
              "      <th>Voltage</th>\n",
              "      <th>Defect</th>\n",
              "    </tr>\n",
              "  </thead>\n",
              "  <tbody>\n",
              "    <tr>\n",
              "      <th>Employee Code</th>\n",
              "      <td>1.000000</td>\n",
              "      <td>0.420951</td>\n",
              "      <td>-0.045730</td>\n",
              "      <td>-0.079854</td>\n",
              "      <td>-0.038154</td>\n",
              "      <td>0.067938</td>\n",
              "      <td>0.012070</td>\n",
              "      <td>-0.006728</td>\n",
              "      <td>0.004218</td>\n",
              "    </tr>\n",
              "    <tr>\n",
              "      <th>Order Operation No</th>\n",
              "      <td>0.420951</td>\n",
              "      <td>1.000000</td>\n",
              "      <td>-0.045101</td>\n",
              "      <td>-0.121942</td>\n",
              "      <td>-0.035064</td>\n",
              "      <td>-0.155534</td>\n",
              "      <td>0.040223</td>\n",
              "      <td>-0.010825</td>\n",
              "      <td>0.008095</td>\n",
              "    </tr>\n",
              "    <tr>\n",
              "      <th>Current</th>\n",
              "      <td>-0.045730</td>\n",
              "      <td>-0.045101</td>\n",
              "      <td>1.000000</td>\n",
              "      <td>-0.007047</td>\n",
              "      <td>-0.013504</td>\n",
              "      <td>0.092373</td>\n",
              "      <td>0.075049</td>\n",
              "      <td>0.736192</td>\n",
              "      <td>0.062652</td>\n",
              "    </tr>\n",
              "    <tr>\n",
              "      <th>Humidity</th>\n",
              "      <td>-0.079854</td>\n",
              "      <td>-0.121942</td>\n",
              "      <td>-0.007047</td>\n",
              "      <td>1.000000</td>\n",
              "      <td>0.708033</td>\n",
              "      <td>0.026637</td>\n",
              "      <td>-0.032443</td>\n",
              "      <td>-0.038125</td>\n",
              "      <td>-0.008716</td>\n",
              "    </tr>\n",
              "    <tr>\n",
              "      <th>Temperature</th>\n",
              "      <td>-0.038154</td>\n",
              "      <td>-0.035064</td>\n",
              "      <td>-0.013504</td>\n",
              "      <td>0.708033</td>\n",
              "      <td>1.000000</td>\n",
              "      <td>-0.016326</td>\n",
              "      <td>-0.018419</td>\n",
              "      <td>-0.042228</td>\n",
              "      <td>-0.007355</td>\n",
              "    </tr>\n",
              "    <tr>\n",
              "      <th>Flow</th>\n",
              "      <td>0.067938</td>\n",
              "      <td>-0.155534</td>\n",
              "      <td>0.092373</td>\n",
              "      <td>0.026637</td>\n",
              "      <td>-0.016326</td>\n",
              "      <td>1.000000</td>\n",
              "      <td>0.011129</td>\n",
              "      <td>0.096955</td>\n",
              "      <td>-0.003013</td>\n",
              "    </tr>\n",
              "    <tr>\n",
              "      <th>Job Temp</th>\n",
              "      <td>0.012070</td>\n",
              "      <td>0.040223</td>\n",
              "      <td>0.075049</td>\n",
              "      <td>-0.032443</td>\n",
              "      <td>-0.018419</td>\n",
              "      <td>0.011129</td>\n",
              "      <td>1.000000</td>\n",
              "      <td>0.094921</td>\n",
              "      <td>0.047956</td>\n",
              "    </tr>\n",
              "    <tr>\n",
              "      <th>Voltage</th>\n",
              "      <td>-0.006728</td>\n",
              "      <td>-0.010825</td>\n",
              "      <td>0.736192</td>\n",
              "      <td>-0.038125</td>\n",
              "      <td>-0.042228</td>\n",
              "      <td>0.096955</td>\n",
              "      <td>0.094921</td>\n",
              "      <td>1.000000</td>\n",
              "      <td>0.049007</td>\n",
              "    </tr>\n",
              "    <tr>\n",
              "      <th>Defect</th>\n",
              "      <td>0.004218</td>\n",
              "      <td>0.008095</td>\n",
              "      <td>0.062652</td>\n",
              "      <td>-0.008716</td>\n",
              "      <td>-0.007355</td>\n",
              "      <td>-0.003013</td>\n",
              "      <td>0.047956</td>\n",
              "      <td>0.049007</td>\n",
              "      <td>1.000000</td>\n",
              "    </tr>\n",
              "  </tbody>\n",
              "</table>\n",
              "</div>\n",
              "      <button class=\"colab-df-convert\" onclick=\"convertToInteractive('df-1fc45a74-7a56-416c-93f5-15cc1c958c9a')\"\n",
              "              title=\"Convert this dataframe to an interactive table.\"\n",
              "              style=\"display:none;\">\n",
              "        \n",
              "  <svg xmlns=\"http://www.w3.org/2000/svg\" height=\"24px\"viewBox=\"0 0 24 24\"\n",
              "       width=\"24px\">\n",
              "    <path d=\"M0 0h24v24H0V0z\" fill=\"none\"/>\n",
              "    <path d=\"M18.56 5.44l.94 2.06.94-2.06 2.06-.94-2.06-.94-.94-2.06-.94 2.06-2.06.94zm-11 1L8.5 8.5l.94-2.06 2.06-.94-2.06-.94L8.5 2.5l-.94 2.06-2.06.94zm10 10l.94 2.06.94-2.06 2.06-.94-2.06-.94-.94-2.06-.94 2.06-2.06.94z\"/><path d=\"M17.41 7.96l-1.37-1.37c-.4-.4-.92-.59-1.43-.59-.52 0-1.04.2-1.43.59L10.3 9.45l-7.72 7.72c-.78.78-.78 2.05 0 2.83L4 21.41c.39.39.9.59 1.41.59.51 0 1.02-.2 1.41-.59l7.78-7.78 2.81-2.81c.8-.78.8-2.07 0-2.86zM5.41 20L4 18.59l7.72-7.72 1.47 1.35L5.41 20z\"/>\n",
              "  </svg>\n",
              "      </button>\n",
              "      \n",
              "  <style>\n",
              "    .colab-df-container {\n",
              "      display:flex;\n",
              "      flex-wrap:wrap;\n",
              "      gap: 12px;\n",
              "    }\n",
              "\n",
              "    .colab-df-convert {\n",
              "      background-color: #E8F0FE;\n",
              "      border: none;\n",
              "      border-radius: 50%;\n",
              "      cursor: pointer;\n",
              "      display: none;\n",
              "      fill: #1967D2;\n",
              "      height: 32px;\n",
              "      padding: 0 0 0 0;\n",
              "      width: 32px;\n",
              "    }\n",
              "\n",
              "    .colab-df-convert:hover {\n",
              "      background-color: #E2EBFA;\n",
              "      box-shadow: 0px 1px 2px rgba(60, 64, 67, 0.3), 0px 1px 3px 1px rgba(60, 64, 67, 0.15);\n",
              "      fill: #174EA6;\n",
              "    }\n",
              "\n",
              "    [theme=dark] .colab-df-convert {\n",
              "      background-color: #3B4455;\n",
              "      fill: #D2E3FC;\n",
              "    }\n",
              "\n",
              "    [theme=dark] .colab-df-convert:hover {\n",
              "      background-color: #434B5C;\n",
              "      box-shadow: 0px 1px 3px 1px rgba(0, 0, 0, 0.15);\n",
              "      filter: drop-shadow(0px 1px 2px rgba(0, 0, 0, 0.3));\n",
              "      fill: #FFFFFF;\n",
              "    }\n",
              "  </style>\n",
              "\n",
              "      <script>\n",
              "        const buttonEl =\n",
              "          document.querySelector('#df-1fc45a74-7a56-416c-93f5-15cc1c958c9a button.colab-df-convert');\n",
              "        buttonEl.style.display =\n",
              "          google.colab.kernel.accessAllowed ? 'block' : 'none';\n",
              "\n",
              "        async function convertToInteractive(key) {\n",
              "          const element = document.querySelector('#df-1fc45a74-7a56-416c-93f5-15cc1c958c9a');\n",
              "          const dataTable =\n",
              "            await google.colab.kernel.invokeFunction('convertToInteractive',\n",
              "                                                     [key], {});\n",
              "          if (!dataTable) return;\n",
              "\n",
              "          const docLinkHtml = 'Like what you see? Visit the ' +\n",
              "            '<a target=\"_blank\" href=https://colab.research.google.com/notebooks/data_table.ipynb>data table notebook</a>'\n",
              "            + ' to learn more about interactive tables.';\n",
              "          element.innerHTML = '';\n",
              "          dataTable['output_type'] = 'display_data';\n",
              "          await google.colab.output.renderOutput(dataTable, element);\n",
              "          const docLink = document.createElement('div');\n",
              "          docLink.innerHTML = docLinkHtml;\n",
              "          element.appendChild(docLink);\n",
              "        }\n",
              "      </script>\n",
              "    </div>\n",
              "  </div>\n",
              "  "
            ],
            "text/plain": [
              "                    Employee Code  Order Operation No   Current  Humidity  \\\n",
              "Employee Code            1.000000            0.420951 -0.045730 -0.079854   \n",
              "Order Operation No       0.420951            1.000000 -0.045101 -0.121942   \n",
              "Current                 -0.045730           -0.045101  1.000000 -0.007047   \n",
              "Humidity                -0.079854           -0.121942 -0.007047  1.000000   \n",
              "Temperature             -0.038154           -0.035064 -0.013504  0.708033   \n",
              "Flow                     0.067938           -0.155534  0.092373  0.026637   \n",
              "Job Temp                 0.012070            0.040223  0.075049 -0.032443   \n",
              "Voltage                 -0.006728           -0.010825  0.736192 -0.038125   \n",
              "Defect                   0.004218            0.008095  0.062652 -0.008716   \n",
              "\n",
              "                    Temperature      Flow  Job Temp   Voltage    Defect  \n",
              "Employee Code         -0.038154  0.067938  0.012070 -0.006728  0.004218  \n",
              "Order Operation No    -0.035064 -0.155534  0.040223 -0.010825  0.008095  \n",
              "Current               -0.013504  0.092373  0.075049  0.736192  0.062652  \n",
              "Humidity               0.708033  0.026637 -0.032443 -0.038125 -0.008716  \n",
              "Temperature            1.000000 -0.016326 -0.018419 -0.042228 -0.007355  \n",
              "Flow                  -0.016326  1.000000  0.011129  0.096955 -0.003013  \n",
              "Job Temp              -0.018419  0.011129  1.000000  0.094921  0.047956  \n",
              "Voltage               -0.042228  0.096955  0.094921  1.000000  0.049007  \n",
              "Defect                -0.007355 -0.003013  0.047956  0.049007  1.000000  "
            ]
          },
          "execution_count": 89,
          "metadata": {},
          "output_type": "execute_result"
        }
      ],
      "source": [
        "#Corelation matrix\n",
        "dataset_2.corr()"
      ]
    },
    {
      "cell_type": "code",
      "execution_count": null,
      "metadata": {
        "colab": {
          "base_uri": "https://localhost:8080/"
        },
        "id": "DUHA-62IPFhb",
        "outputId": "febc745a-68ec-4c18-94de-a4ab98a9b61e"
      },
      "outputs": [
        {
          "data": {
            "text/plain": [
              "(694072, 13)"
            ]
          },
          "execution_count": 90,
          "metadata": {},
          "output_type": "execute_result"
        }
      ],
      "source": [
        "#Shape of data after removing the outliers\n",
        "dataset_2.shape"
      ]
    },
    {
      "cell_type": "markdown",
      "metadata": {
        "id": "VBBRTVY5aBXu"
      },
      "source": [
        "# **MODEL TRAINING**"
      ]
    },
    {
      "cell_type": "code",
      "execution_count": null,
      "metadata": {
        "id": "pjLZhfWRr03K"
      },
      "outputs": [],
      "source": [
        "X=dataset_2.drop(columns=['Defect','Time', 'Employee Code', 'Machine',\n",
        "                          'Production', 'Date'], axis=1)\n",
        "Y=dataset_2['Defect']"
      ]
    },
    {
      "cell_type": "markdown",
      "metadata": {
        "id": "uPbUylTYKvJZ"
      },
      "source": [
        "## **Train Test Split**"
      ]
    },
    {
      "cell_type": "code",
      "execution_count": null,
      "metadata": {
        "id": "EGPnAC1lOwyC"
      },
      "outputs": [],
      "source": [
        " X_train, X_test, Y_train, Y_test = train_test_split(X,Y, test_size=0.3, stratify=Y, random_state=42)"
      ]
    },
    {
      "cell_type": "code",
      "execution_count": null,
      "metadata": {
        "colab": {
          "base_uri": "https://localhost:8080/"
        },
        "id": "xo_1uzzLOwhC",
        "outputId": "c0a38298-7e0d-4a30-8d83-de0782d66ab2"
      },
      "outputs": [
        {
          "data": {
            "text/plain": [
              "((485850, 7), (208222, 7), (485850,), (208222,))"
            ]
          },
          "execution_count": 93,
          "metadata": {},
          "output_type": "execute_result"
        }
      ],
      "source": [
        "X_train.shape, X_test.shape , Y_train.shape , Y_test.shape"
      ]
    },
    {
      "cell_type": "markdown",
      "metadata": {
        "id": "91YmTVh8eZFH"
      },
      "source": [
        "### **XGBoost Classifier**"
      ]
    },
    {
      "cell_type": "code",
      "execution_count": null,
      "metadata": {
        "id": "pehndZeL7rvO"
      },
      "outputs": [],
      "source": [
        "xgb_clf= xgb.XGBClassifier(max_depth=5, n_estimators=1500, learning_rate=0.2, n_jobs=-1)"
      ]
    },
    {
      "cell_type": "code",
      "execution_count": null,
      "metadata": {
        "colab": {
          "background_save": true
        },
        "id": "d4efj4zf7rmv",
        "outputId": "0754bc50-fa0d-4417-a6ae-9fe2fa3998a1"
      },
      "outputs": [
        {
          "data": {
            "text/plain": [
              "XGBClassifier(learning_rate=0.2, max_depth=5, n_estimators=1500, n_jobs=-1,\n",
              "              objective='multi:softprob')"
            ]
          },
          "execution_count": 95,
          "metadata": {},
          "output_type": "execute_result"
        }
      ],
      "source": [
        "xgb_clf.fit(X_train, Y_train)"
      ]
    },
    {
      "cell_type": "code",
      "execution_count": null,
      "metadata": {
        "colab": {
          "background_save": true
        },
        "id": "GttAxYQb7rgy",
        "outputId": "25871855-2a46-4417-c425-d343e43632c0"
      },
      "outputs": [
        {
          "data": {
            "text/plain": [
              "0.9934877198374812"
            ]
          },
          "execution_count": 96,
          "metadata": {},
          "output_type": "execute_result"
        }
      ],
      "source": [
        "accuracy_score(Y_test, xgb_clf.predict(X_test))"
      ]
    },
    {
      "cell_type": "code",
      "execution_count": null,
      "metadata": {
        "colab": {
          "background_save": true
        },
        "id": "Km8fKvIPFleE",
        "outputId": "7f7201dc-3efa-4345-ab3d-615d73fa253a"
      },
      "outputs": [
        {
          "data": {
            "text/plain": [
              "0.9915336251759621"
            ]
          },
          "execution_count": 97,
          "metadata": {},
          "output_type": "execute_result"
        }
      ],
      "source": [
        "f1_score(Y_test, xgb_clf.predict(X_test), average='weighted')"
      ]
    },
    {
      "cell_type": "code",
      "execution_count": null,
      "metadata": {
        "colab": {
          "background_save": true
        },
        "id": "9paYk_QJPYZg",
        "outputId": "ba0c96be-9bbc-4dca-a321-4dd0feacf988"
      },
      "outputs": [
        {
          "name": "stdout",
          "output_type": "stream",
          "text": [
            "              precision    recall  f1-score   support\n",
            "\n",
            "           0       0.99      1.00      1.00    206693\n",
            "           1       0.71      0.24      0.36      1235\n",
            "           2       0.00      0.00      0.00       294\n",
            "\n",
            "    accuracy                           0.99    208222\n",
            "   macro avg       0.57      0.41      0.45    208222\n",
            "weighted avg       0.99      0.99      0.99    208222\n",
            "\n"
          ]
        }
      ],
      "source": [
        "print(classification_report(Y_test, xgb_clf.predict(X_test)))"
      ]
    },
    {
      "cell_type": "code",
      "execution_count": null,
      "metadata": {
        "colab": {
          "background_save": true
        },
        "id": "hk6s1-8uXgri",
        "outputId": "5cb00999-d3d4-434d-852d-fbe9502d489d"
      },
      "outputs": [
        {
          "name": "stdout",
          "output_type": "stream",
          "text": [
            "Before OverSampling, counts of label '2': 685\n",
            "Before OverSampling, counts of label '1': 2881 \n",
            "\n",
            "Before OverSampling, counts of label '0': 482284 \n",
            "\n",
            "After OverSampling, the shape of train_X: (1446852, 7)\n",
            "After OverSampling, the shape of train_y: (1446852,) \n",
            "\n",
            "After OverSampling, counts of label '2': 482284\n",
            "After OverSampling, counts of label '1': 482284\n",
            "After OverSampling, counts of label '0': 482284\n"
          ]
        }
      ],
      "source": [
        "print(\"Before OverSampling, counts of label '2': {}\".format(sum(Y_train == 2)))\n",
        "print(\"Before OverSampling, counts of label '1': {} \\n\".format(sum(Y_train == 1)))\n",
        "print(\"Before OverSampling, counts of label '0': {} \\n\".format(sum(Y_train == 0)))\n",
        "\n",
        "sm = SMOTE(random_state = 2)\n",
        "X_train_res, Y_train_res = sm.fit_resample(X_train, Y_train.ravel())\n",
        "\n",
        "print('After OverSampling, the shape of train_X: {}'.format(X_train_res.shape))\n",
        "print('After OverSampling, the shape of train_y: {} \\n'.format(Y_train_res.shape))\n",
        "\n",
        "print(\"After OverSampling, counts of label '2': {}\".format(sum(Y_train_res == 2)))\n",
        "print(\"After OverSampling, counts of label '1': {}\".format(sum(Y_train_res == 1)))\n",
        "print(\"After OverSampling, counts of label '0': {}\".format(sum(Y_train_res == 0)))"
      ]
    },
    {
      "cell_type": "code",
      "execution_count": null,
      "metadata": {
        "colab": {
          "background_save": true
        },
        "id": "11XugLXEwRBO"
      },
      "outputs": [],
      "source": [
        "xgb_clf2= xgb.XGBClassifier(max_depth=8, n_estimators=2500, learning_rate=0.2, n_jobs=-1)"
      ]
    },
    {
      "cell_type": "code",
      "execution_count": null,
      "metadata": {
        "colab": {
          "background_save": true
        },
        "id": "ApAY2oPQYvua",
        "outputId": "59845f51-0457-43c8-d2a7-60cb959bb219"
      },
      "outputs": [
        {
          "data": {
            "text/plain": [
              "XGBClassifier(learning_rate=0.2, max_depth=8, n_estimators=2500, n_jobs=-1,\n",
              "              objective='multi:softprob')"
            ]
          },
          "execution_count": 101,
          "metadata": {},
          "output_type": "execute_result"
        }
      ],
      "source": [
        "xgb_clf2.fit(X_train_res, Y_train_res.ravel())"
      ]
    },
    {
      "cell_type": "code",
      "execution_count": null,
      "metadata": {
        "colab": {
          "background_save": true
        },
        "id": "zrrkh7JzZIvK"
      },
      "outputs": [],
      "source": [
        "Y_pred=xgb_clf2.predict(X_test)"
      ]
    },
    {
      "cell_type": "code",
      "execution_count": null,
      "metadata": {
        "colab": {
          "background_save": true
        },
        "id": "PwTL0zDDFV9v",
        "outputId": "8b18a83b-ad18-4dd8-fa81-a8f2f305c335"
      },
      "outputs": [
        {
          "name": "stdout",
          "output_type": "stream",
          "text": [
            "              precision    recall  f1-score   support\n",
            "\n",
            "           0       1.00      0.85      0.91    206693\n",
            "           1       0.08      0.50      0.14      1235\n",
            "           2       0.00      0.11      0.00       294\n",
            "\n",
            "    accuracy                           0.84    208222\n",
            "   macro avg       0.36      0.48      0.35    208222\n",
            "weighted avg       0.99      0.84      0.91    208222\n",
            "\n"
          ]
        }
      ],
      "source": [
        "print(classification_report(Y_test, Y_pred))"
      ]
    },
    {
      "cell_type": "code",
      "execution_count": null,
      "metadata": {
        "colab": {
          "background_save": true
        },
        "id": "Lm5VnLrgDF47",
        "outputId": "4d05930f-45b4-42de-93a4-ae758effc9f6"
      },
      "outputs": [
        {
          "data": {
            "text/plain": [
              "<matplotlib.axes._subplots.AxesSubplot at 0x7fc7c666ba00>"
            ]
          },
          "execution_count": 104,
          "metadata": {},
          "output_type": "execute_result"
        },
        {
          "data": {
            "image/png": "[encoded data removed]",
            "text/plain": [
              "<Figure size 432x288 with 1 Axes>"
            ]
          },
          "metadata": {},
          "output_type": "display_data"
        }
      ],
      "source": [
        "xgb.plot_importance(xgb_clf2)"
      ]
    },
    {
      "cell_type": "code",
      "execution_count": null,
      "metadata": {
        "colab": {
          "background_save": true
        },
        "id": "GuRb-YleEKiy",
        "outputId": "e86fa7c3-3241-47be-cf0f-740d58ded2d3"
      },
      "outputs": [
        {
          "data": {
            "text/plain": [
              "1220536881655850.2"
            ]
          },
          "execution_count": 105,
          "metadata": {},
          "output_type": "execute_result"
        }
      ],
      "source": [
        "mean_absolute_percentage_error(Y_test, Y_pred)"
      ]
    },
    {
      "cell_type": "code",
      "execution_count": null,
      "metadata": {
        "colab": {
          "background_save": true
        },
        "id": "uEsG4bpnIpuN",
        "outputId": "4e6c0197-8255-4658-91cd-dcf3895ca997"
      },
      "outputs": [
        {
          "data": {
            "text/plain": [
              "0.9087549742854942"
            ]
          },
          "execution_count": 106,
          "metadata": {},
          "output_type": "execute_result"
        }
      ],
      "source": [
        "f1_score(Y_test, Y_pred, average='weighted')"
      ]
    },
    {
      "cell_type": "markdown",
      "metadata": {
        "id": "dNKvdiM7gkVQ"
      },
      "source": [
        "**CODES TO SAVE MODEL IN DIFFERENT FORMATS**"
      ]
    },
    {
      "cell_type": "code",
      "execution_count": null,
      "metadata": {
        "colab": {
          "background_save": true
        },
        "id": "dNmaRrRy2xTp"
      },
      "outputs": [],
      "source": [
        "# import pickle\n",
        "# pickle.dump(xgb_clf2, open('WeldRight_model.pkl','wb'))"
      ]
    },
    {
      "cell_type": "code",
      "execution_count": null,
      "metadata": {
        "colab": {
          "background_save": true
        },
        "id": "OH__-1KiJZSa"
      },
      "outputs": [],
      "source": [
        "# with open('model_pkl', 'wb') as files:\n",
        "#     pickle.dump(xgb_clf2, files)"
      ]
    },
    {
      "cell_type": "code",
      "execution_count": null,
      "metadata": {
        "colab": {
          "background_save": true
        },
        "id": "Zzw38zT-Ke5K"
      },
      "outputs": [],
      "source": [
        "# import xgboost as xgb"
      ]
    },
    {
      "cell_type": "code",
      "execution_count": null,
      "metadata": {
        "colab": {
          "background_save": true
        },
        "id": "mYvSSV109f30"
      },
      "outputs": [],
      "source": [
        "# from xgboost.plotting import Booster\n",
        "# xgb_clf2.save_model('model.json')"
      ]
    },
    {
      "cell_type": "code",
      "execution_count": null,
      "metadata": {
        "colab": {
          "background_save": true
        },
        "id": "oVYPwW6H91M4"
      },
      "outputs": [],
      "source": [
        "# xgb_clf2.save_model(\"Saved_WeldRight_model.h5\")"
      ]
    },
    {
      "cell_type": "code",
      "execution_count": null,
      "metadata": {
        "colab": {
          "background_save": true
        },
        "id": "FwnLBT7nLtob"
      },
      "outputs": [],
      "source": [
        "# xgb_clf2 .save_model(\"model.json\")"
      ]
    },
    {
      "cell_type": "code",
      "execution_count": null,
      "metadata": {
        "colab": {
          "background_save": true
        },
        "id": "M2MgGd9lbW4E"
      },
      "outputs": [],
      "source": [
        "# xgb_clf2.save_model('WeldRight_SavedModel_format')"
      ]
    }
  ],
  "metadata": {
    "accelerator": "GPU",
    "colab": {
      "collapsed_sections": [
        "-miQeRbBNt5v",
        "ujLHy7cdCO7-",
        "KGrzMSpLCjO6",
        "5NQ3O72JDaMW",
        "nWUcT-oBDmFz",
        "jf_XFdF-v2Co",
        "lN9vnxFHwOq4",
        "v5GZlpKBwnxn",
        "wmETg5kCwrhO",
        "VWBmaPYHztwY",
        "Tn044q8oycg-",
        "08AeiozVLMSm",
        "XUxN8pGTLk_I",
        "RRtVdZ2mLs4r",
        "xVB8Y1BjMsji",
        "486q1Y3eNRqh",
        "givHNgrEU88F",
        "s3u-TBQyVDb3"
      ],
      "provenance": [],
      "include_colab_link": true
    },
    "gpuClass": "standard",
    "kernelspec": {
      "display_name": "Python 3",
      "name": "python3"
    },
    "language_info": {
      "name": "python"
    }
  },
  "nbformat": 4,
  "nbformat_minor": 0
}